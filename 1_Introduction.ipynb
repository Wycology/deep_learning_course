{
  "nbformat": 4,
  "nbformat_minor": 0,
  "metadata": {
    "colab": {
      "provenance": [],
      "authorship_tag": "ABX9TyPnPr6jNx79Fx10s4RYNPn1",
      "include_colab_link": true
    },
    "kernelspec": {
      "name": "python3",
      "display_name": "Python 3"
    },
    "language_info": {
      "name": "python"
    }
  },
  "cells": [
    {
      "cell_type": "markdown",
      "metadata": {
        "id": "view-in-github",
        "colab_type": "text"
      },
      "source": [
        "<a href=\"https://colab.research.google.com/github/Wycology/deep_learning_course/blob/main/1_Introduction.ipynb\" target=\"_parent\"><img src=\"https://colab.research.google.com/assets/colab-badge.svg\" alt=\"Open In Colab\"/></a>"
      ]
    },
    {
      "cell_type": "markdown",
      "source": [
        "# **SATELLITE DATA FOR AGRICULTURAL ECONOMISTS**\n",
        "\n",
        "\n",
        "**THEORY AND PRACTICE**\n",
        "\n",
        "**_MACHINE & DEEP LEARNING_**\n",
        "\n",
        "\n",
        "*David Wuepper, Hadi Hadi, Wyclife Agumba Oluoch*\n",
        "\n",
        "---\n",
        "\n",
        "# **Background**\n",
        "\n",
        "\n",
        "---\n",
        "\n",
        "\n",
        "This is one of the best moments for any geospatial data scientist due to the following:\n",
        "\n",
        "\n",
        "1.   Ploriferation of **infinite satellite data** of high resolution\n",
        "2.   Emergence of **advanced machine learning techniques**, especially in deep learning subfield.\n",
        "\n",
        "These are two powerful scenarios that has seen geospatial datascience grow rapidly and help save the world in many spheres including:\n",
        "\n",
        "\n",
        "*   Vegetation mapping (assessing yield, damage, encroachment)\n",
        "*   Disaster response (time series analysis of pre-and-post hazard)\n",
        "*   Forest mapping\n",
        "*   Flood mapping\n",
        "*   Crop phenology mapping, among others  \n",
        "\n"
      ],
      "metadata": {
        "id": "t8RwVizzXIbZ"
      }
    },
    {
      "cell_type": "markdown",
      "source": [
        "## **Who is this course for?**\n",
        "\n",
        "\n",
        "---\n",
        "\n",
        "\n",
        "This is a very basic introduction to deep learning, specifically using pytorch for geospatial analysis. As such, it is suited for individuals interested in using deep learning tools using geospatial data. It is developed with people who have never interacted with deep learning in mind, however, it can also be useful to advanced users who want to refresh their minds."
      ],
      "metadata": {
        "id": "XrVuVq_JZRGY"
      }
    },
    {
      "cell_type": "markdown",
      "source": [
        "## **Introduction to pytorch**\n",
        "\n",
        "In order to do deep learning projects in this course we need a library. We chose pytorch as it is open source, free, easy to use, and pre-installed on Google Colab among other benefits. It is one of the most popular, if not the most popular, deep learning Python libraries in the world.\n",
        "It is developed and maintained by meta, formerly Facebook. Additional reasons for using pytorch include:\n",
        "\n",
        "\n",
        "*   It is popular\n",
        "*   Supported by all major cloud platforms such GCP, AWS, Microsoft Azure, and Alibaba Cloud\n",
        "*   Supported by Google Colab and Kaggle kernels\n",
        "*   Mature and stable\n",
        "*   Runs on CPUs, GPUs and TPUs\n",
        "*   Supports deployment to production\n",
        "\n"
      ],
      "metadata": {
        "id": "m26VJ6ssa-1H"
      }
    },
    {
      "cell_type": "markdown",
      "source": [
        "## **Running pytorch**\n",
        "\n",
        "One can run pytorch in their local machines, in google colab, and cloud based services. In this course, we use unpaid version of Google colab."
      ],
      "metadata": {
        "id": "1tRbaMeRc8s3"
      }
    },
    {
      "cell_type": "code",
      "source": [
        "import torch # With this code, we will have pytorch ready to work"
      ],
      "metadata": {
        "id": "HwCML8MmXvLl"
      },
      "execution_count": 1,
      "outputs": []
    },
    {
      "cell_type": "markdown",
      "source": [
        "Since pytorch is natively installed in Google colab, we do not have to worry about installing it. We simply import it and we are ready to use it. First we will check its version."
      ],
      "metadata": {
        "id": "e_Qi_Tffdkgn"
      }
    },
    {
      "cell_type": "code",
      "source": [
        "print(torch.__version__) # This prints the latest version of torch loaded."
      ],
      "metadata": {
        "colab": {
          "base_uri": "https://localhost:8080/"
        },
        "id": "e4zi3kARdfEh",
        "outputId": "989a0d23-fe9c-46f6-9327-1e37a442e503"
      },
      "execution_count": 2,
      "outputs": [
        {
          "output_type": "stream",
          "name": "stdout",
          "text": [
            "2.5.1+cu124\n"
          ]
        }
      ]
    },
    {
      "cell_type": "markdown",
      "source": [
        "If you want to run pytorch in your local machine, then beware to ensure **compatibility between cuda and the pytorch version** you are using. Otherwise it will not run, especially when calling for GPU."
      ],
      "metadata": {
        "id": "5zea-4HXeAXB"
      }
    },
    {
      "cell_type": "markdown",
      "source": [
        "## **CUDA GPU**\n",
        "\n",
        "For most of deep learning projects, you will need a GPU. The free version of GPU on Google Colab is limited in time and memory. There is limited amount of work you can achieve with it. However, if you have local GPU or paid versions in cloud based services, then well and good. To check if there is linkage between the cuda and pytorch installed, run the following code."
      ],
      "metadata": {
        "id": "SUmCg9QHemmT"
      }
    },
    {
      "cell_type": "code",
      "source": [
        "print(torch.cuda.is_available()) # Currently returns False because we have not enabled GPU."
      ],
      "metadata": {
        "colab": {
          "base_uri": "https://localhost:8080/"
        },
        "id": "vrE7J_wQd__R",
        "outputId": "e2632821-67ba-4dc8-8049-5d29c40270cb"
      },
      "execution_count": 4,
      "outputs": [
        {
          "output_type": "stream",
          "name": "stdout",
          "text": [
            "False\n"
          ]
        }
      ]
    },
    {
      "cell_type": "markdown",
      "source": [
        "To enable the GPU in Google Colab, go to **Runtime** ==> **Change runtime type** ==> **Runtine type** Python 3 ==> **Hardware accelerator** T4 GPU ==> Ok\n",
        "\n",
        "**NOTE**:\n",
        "*I will only recommend that you do that after ensuring that your code is working and ready to run the model. If you enable GPU and not utilizing it, you are running out of time.*\n",
        "\n",
        "Therefore, for now, let us proceed with CPU."
      ],
      "metadata": {
        "id": "M04tIuIzfbJY"
      }
    },
    {
      "cell_type": "code",
      "source": [],
      "metadata": {
        "id": "xVMZfcntfZLZ"
      },
      "execution_count": null,
      "outputs": []
    }
  ]
}