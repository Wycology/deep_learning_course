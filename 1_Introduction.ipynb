{
  "nbformat": 4,
  "nbformat_minor": 0,
  "metadata": {
    "colab": {
      "provenance": [],
      "authorship_tag": "ABX9TyMqMh8KK/BhKXWFDlmicstE",
      "include_colab_link": true
    },
    "kernelspec": {
      "name": "python3",
      "display_name": "Python 3"
    },
    "language_info": {
      "name": "python"
    }
  },
  "cells": [
    {
      "cell_type": "markdown",
      "metadata": {
        "id": "view-in-github",
        "colab_type": "text"
      },
      "source": [
        "<a href=\"https://colab.research.google.com/github/Wycology/deep_learning_course/blob/main/1_Introduction.ipynb\" target=\"_parent\"><img src=\"https://colab.research.google.com/assets/colab-badge.svg\" alt=\"Open In Colab\"/></a>"
      ]
    },
    {
      "cell_type": "markdown",
      "source": [
        "# **Background**\n",
        "\n",
        "This is one of the best moments for any geospatial data scientist due to the following:\n",
        "\n",
        "\n",
        "1.   Ploriferation of **infinite satellite data** of high resolution\n",
        "2.   Emergence of **advanced machine learning techniques**, especially in deep learning subfield.\n"
      ],
      "metadata": {
        "id": "t8RwVizzXIbZ"
      }
    },
    {
      "cell_type": "code",
      "source": [],
      "metadata": {
        "id": "HwCML8MmXvLl"
      },
      "execution_count": null,
      "outputs": []
    }
  ]
}