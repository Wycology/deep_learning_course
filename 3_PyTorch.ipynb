{
  "nbformat": 4,
  "nbformat_minor": 0,
  "metadata": {
    "colab": {
      "provenance": [],
      "authorship_tag": "ABX9TyMAum/IdzrqAMSTTLmgi5Rw",
      "include_colab_link": true
    },
    "kernelspec": {
      "name": "python3",
      "display_name": "Python 3"
    },
    "language_info": {
      "name": "python"
    }
  },
  "cells": [
    {
      "cell_type": "markdown",
      "metadata": {
        "id": "view-in-github",
        "colab_type": "text"
      },
      "source": [
        "<a href=\"https://colab.research.google.com/github/Wycology/deep_learning_course/blob/main/3_PyTorch.ipynb\" target=\"_parent\"><img src=\"https://colab.research.google.com/assets/colab-badge.svg\" alt=\"Open In Colab\"/></a>"
      ]
    },
    {
      "cell_type": "markdown",
      "source": [
        "# **SATELLITE DATA FOR AGRICULTURAL ECONOMISTS**\n",
        "\n",
        "\n",
        "**THEORY AND PRACTICE**\n",
        "\n",
        "**_MACHINE & DEEP LEARNING_**\n",
        "\n",
        "\n",
        "*David Wuepper, Hadi Hadi, Wyclife Agumba Oluoch*\n",
        "\n",
        "---\n",
        "\n",
        "# **Background**\n",
        "\n",
        "\n",
        "---\n",
        "In this session, we are introducing you to the use of pytorch in implementing deep learning workflow. This is paramount before diving into `torchgeo` because most of the workflow in `torchgeo` is borrowed from pytorch. In fact, `torchgeo` only comes in to respect the geospatial nature of the data being fed into the pytorch modeling framework.\n",
        "\n",
        "We will commence this by installing torchgeo. Yes, `torchgeo` is not natively implemented in Google Colab, as opposed to pytorch, so we need to install it.\n",
        "\n",
        "### **What are we going to do here?**\n",
        "\n",
        "We will:\n",
        "1. import necessary libraries\n",
        "2. Bring in sample data (which comes with torchgeo) to play with\n",
        "3. Load the data (train, eval, test)\n",
        "4. Build the model\n",
        "5. Evaluate the model\n"
      ],
      "metadata": {
        "id": "ikVaTMqUMcuR"
      }
    },
    {
      "cell_type": "code",
      "execution_count": null,
      "metadata": {
        "id": "ooVQ_C6-MIee"
      },
      "outputs": [],
      "source": [
        "%pip install torchgeo # When asked to restart session, do so."
      ]
    },
    {
      "cell_type": "markdown",
      "source": [
        "## **Import libraries**\n",
        "In the next code section, we import all the necessary libraries."
      ],
      "metadata": {
        "id": "5uKvcSQTOrIU"
      }
    },
    {
      "cell_type": "code",
      "source": [
        "import os # For connecting to file path\n",
        "import tempfile # For putting downloaded data to temporary file\n",
        "\n",
        "import kornia.augmentation as K # For transforming dataset\n",
        "import torch # For model building\n",
        "from torch import nn, optim # Source of the network and optimization\n",
        "from torch.utils.data import DataLoader # For loading data from directory\n",
        "\n",
        "from torchgeo.datasets import EuroSAT100 # The dataset to work with\n",
        "from torchgeo.models import ResNet18_Weights, resnet18 # The model weights and model itself\n",
        "\n",
        "torch.manual_seed(248) # For reproducibility"
      ],
      "metadata": {
        "colab": {
          "base_uri": "https://localhost:8080/"
        },
        "id": "qBSRShewNuoo",
        "outputId": "a4f56f31-199d-4316-9499-f8fdd5268b98"
      },
      "execution_count": 63,
      "outputs": [
        {
          "output_type": "execute_result",
          "data": {
            "text/plain": [
              "<torch._C.Generator at 0x7f9c29babc70>"
            ]
          },
          "metadata": {},
          "execution_count": 63
        }
      ]
    },
    {
      "cell_type": "markdown",
      "source": [
        "## **Data**\n",
        "\n",
        "Normally when talking about data in deep learning, we are referring to a combination of both inputs and outputs. Inputs can be like satellite images and outputs are like masks of classes of vegetation. This pair of input and output form dataset on which a model can learn. This dataset can be expressed mathematically as:\n",
        "\n",
        "$D = \\{(x^{(i)}, y^{(i)})\\}_{i=1}^N$\n",
        "\n",
        "This can be explained as dataset $D$ is composed of $N$ pairs of $x$ inputs and $y$ expected outputs. In our case, $x$ are the satellite images and $y$ are the labels for each image in $x$."
      ],
      "metadata": {
        "id": "LlVLOF9qQ64e"
      }
    },
    {
      "cell_type": "markdown",
      "source": [
        "### **Visualize the dataset**\n",
        "\n",
        "We can have a look at some of the images in the dataset. To do that, we will create a place in temporary directory to hold the data, download the data and load it into our session the visualize some random images."
      ],
      "metadata": {
        "id": "DgPT9jjxU81M"
      }
    },
    {
      "cell_type": "code",
      "source": [
        "path = os.path.join(tempfile.gettempdir(), 'eurosat100') # Create temporary place to hold data\n",
        "dataset = EuroSAT100(path, download = True) # Download data and put in path"
      ],
      "metadata": {
        "id": "RT1-DnT7Q9fs"
      },
      "execution_count": 64,
      "outputs": []
    },
    {
      "cell_type": "markdown",
      "source": [
        "Now, we have our data downloaded. The data is made is such a way that both $x$ and $y$ are made available and have been split somehow into training, validation and testing sets. We can then have a simple loop through the data to view some of the images."
      ],
      "metadata": {
        "id": "D_82ca8XV4Nc"
      }
    },
    {
      "cell_type": "code",
      "source": [
        "torch.manual_seed(248) # For reproducibility\n",
        "for i in torch.randint(len(dataset), (4,)): # Pick 4 random samples\n",
        "  sample = dataset[i]\n",
        "  dataset.plot(sample) # Plot the images (two residentials, a highway and pasture)"
      ],
      "metadata": {
        "colab": {
          "base_uri": "https://localhost:8080/",
          "height": 1000
        },
        "id": "-hEMlPG8Vqn1",
        "outputId": "a6af9e72-4417-416a-b0a0-6b059c6ab34a"
      },
      "execution_count": 65,
      "outputs": [
        {
          "output_type": "display_data",
          "data": {
            "text/plain": [
              "<Figure size 400x400 with 1 Axes>"
            ],
            "image/png": "[encoded data removed]"
          },
          "metadata": {}
        },
        {
          "output_type": "display_data",
          "data": {
            "text/plain": [
              "<Figure size 400x400 with 1 Axes>"
            ],
            "image/png": "[encoded data removed]"
          },
          "metadata": {}
        },
        {
          "output_type": "display_data",
          "data": {
            "text/plain": [
              "<Figure size 400x400 with 1 Axes>"
            ],
            "image/png": "[encoded data removed]"
          },
          "metadata": {}
        },
        {
          "output_type": "display_data",
          "data": {
            "text/plain": [
              "<Figure size 400x400 with 1 Axes>"
            ],
            "image/png": "[encoded data removed]"
          },
          "metadata": {}
        }
      ]
    },
    {
      "cell_type": "markdown",
      "source": [
        "## **Splitting the dataset**\n",
        "\n",
        "Since we are convinced that we have our dataset, which is input output pair, we can now split it into:\n",
        "* $train$ - for training the model parameters\n",
        "* $val$ - for validating the model hyperparameters, and\n",
        "* $test$ - for testing model performance\n",
        "\n",
        "Lucky enough, we do not have to worry about the splitting because the data has been split apriori. We only need to indicate the $split$ argument in the `EuroSAT100` function as follows:"
      ],
      "metadata": {
        "id": "rec_CFkFXUPc"
      }
    },
    {
      "cell_type": "code",
      "source": [
        "train_dataset = EuroSAT100(path, split = 'train')\n",
        "val_dataset = EuroSAT100(path, split = 'val')\n",
        "test_dataset = EuroSAT100(path, split = 'test')"
      ],
      "metadata": {
        "id": "G6D-2lSvX54d"
      },
      "execution_count": 66,
      "outputs": []
    },
    {
      "cell_type": "markdown",
      "source": [
        "## **Data Laoding**\n",
        "To train our model, validate and test, we need to load data from directory to it. Normally, we work with huge amount of data, not as few as 100 images in this case. Therefore, normally, we cannot load all the data into the RAM of our computer and train the model on it. Accordingly, we need a system which is capable of loading the data in mini-batches so that at every instance, only a few images are present in the RAM for training. To do this, we depend on DataLoaders. The only decision we have to make here is how many images we want to load in the RAM at a time, a value called $batch size$."
      ],
      "metadata": {
        "id": "y93JBNAmYh9O"
      }
    },
    {
      "cell_type": "code",
      "source": [
        "batch_size = 10\n",
        "\n",
        "train_dataloader = DataLoader(dataset = train_dataset, batch_size = batch_size, shuffle=True)\n",
        "val_dataloader = DataLoader(dataset = val_dataset, batch_size = batch_size, shuffle=False)\n",
        "test_dataloader = DataLoader(dataset = test_dataset, batch_size = batch_size, shuffle=False)"
      ],
      "metadata": {
        "id": "XHGV-2qCZJgR"
      },
      "execution_count": 67,
      "outputs": []
    },
    {
      "cell_type": "markdown",
      "source": [
        "At this point, it is important to verify that the data loaders are working as expected. That is, they are able to bring data from specified directory and avail them ready for model building. Let us start with train_dataloader."
      ],
      "metadata": {
        "id": "Dk_FFONmZ6VZ"
      }
    },
    {
      "cell_type": "code",
      "source": [
        "for batch in train_dataloader:\n",
        "  print(batch.keys())\n",
        "  image = batch[\"image\"]\n",
        "  label = batch[\"label\"]\n",
        "  print(f\"Shape of the image is: {image.shape}\")\n",
        "  print(f\"Shape of the label is: {label.shape}\")\n",
        "  break"
      ],
      "metadata": {
        "colab": {
          "base_uri": "https://localhost:8080/"
        },
        "id": "5xjG-vjddTFq",
        "outputId": "99d9738e-7c61-4d40-b703-40d5c5152da4"
      },
      "execution_count": 68,
      "outputs": [
        {
          "output_type": "stream",
          "name": "stdout",
          "text": [
            "dict_keys(['image', 'label'])\n",
            "Shape of the image is: torch.Size([10, 13, 64, 64])\n",
            "Shape of the label is: torch.Size([10])\n"
          ]
        }
      ]
    },
    {
      "cell_type": "markdown",
      "source": [
        "We notice that in each batch dictionary, there is image and label keys. Each batch has 10 images, each with 13 channels, and 64 * 64 in height and width dimensions.\n",
        "On the other hand, each batch as 10 labels corresponding to each of the 10 images. To expound on the 10 labels, they are as follows:\n",
        "* 0 == Annual crop\n",
        "* 1 == Forest\n",
        "* 2 == Herbaceous vegetation\n",
        "* 3 == Highway\n",
        "* 4 == Industrial building\n",
        "* 5 == Pasture\n",
        "* 6 == Permanent crop\n",
        "* 7 == Residential building\n",
        "* 8 == River\n",
        "* 9 == Sea or Lake\n",
        "\n",
        "Now we do the same for the val and test sets."
      ],
      "metadata": {
        "id": "yUdQkKg1d9gZ"
      }
    },
    {
      "cell_type": "code",
      "source": [
        "for batch in val_dataloader:\n",
        "  print(batch.keys())\n",
        "  image = batch[\"image\"]\n",
        "  label = batch[\"label\"]\n",
        "  print(f\"Shape of the image is: {image.shape}\")\n",
        "  print(f\"Shape of the label is: {label.shape}\")\n",
        "  break"
      ],
      "metadata": {
        "colab": {
          "base_uri": "https://localhost:8080/"
        },
        "id": "xKTCl7pTeUuD",
        "outputId": "10f170eb-3939-40ed-84a8-82bcb5863f96"
      },
      "execution_count": 69,
      "outputs": [
        {
          "output_type": "stream",
          "name": "stdout",
          "text": [
            "dict_keys(['image', 'label'])\n",
            "Shape of the image is: torch.Size([10, 13, 64, 64])\n",
            "Shape of the label is: torch.Size([10])\n"
          ]
        }
      ]
    },
    {
      "cell_type": "code",
      "source": [
        "for batch in test_dataloader:\n",
        "  print(batch.keys())\n",
        "  image = batch[\"image\"]\n",
        "  label = batch[\"label\"]\n",
        "  print(f\"Shape of the image is: {image.shape}\")\n",
        "  print(f\"Shape of the label is: {label.shape}\")\n",
        "  break"
      ],
      "metadata": {
        "colab": {
          "base_uri": "https://localhost:8080/"
        },
        "id": "y7BZgsXHfyjA",
        "outputId": "d3311f57-bc21-460f-9c9d-4064acb7cc6b"
      },
      "execution_count": 70,
      "outputs": [
        {
          "output_type": "stream",
          "name": "stdout",
          "text": [
            "dict_keys(['image', 'label'])\n",
            "Shape of the image is: torch.Size([10, 13, 64, 64])\n",
            "Shape of the label is: torch.Size([10])\n"
          ]
        }
      ]
    },
    {
      "cell_type": "markdown",
      "source": [
        "## **Transforming datasets**\n",
        "\n",
        "From the raw data that is loaded in mini-batch by the dataloaders, one may need to do a number of transformations/augmentations. The transformations are nowmally divided into two:\n",
        "1. Preprocessing - This is meant to make ML-ready data. For example, normalizing the values.\n",
        "2. Augmentation - Meant to inflate the size of data, for example, rotation and flipping.\n",
        "\n",
        "These can be implemented as follows:"
      ],
      "metadata": {
        "id": "Ov-WIT2YgZ5p"
      }
    },
    {
      "cell_type": "code",
      "source": [
        "means = []\n",
        "stds = []\n",
        "\n",
        "# Iterate over the DataLoader\n",
        "for batch in train_dataloader:\n",
        "    images = batch['image']  # Get images\n",
        "    means.append(images.mean(dim=(0, 2, 3)))  # Mean across batch, height, and width\n",
        "    stds.append(images.std(dim=(0, 2, 3)))  # Standard deviation across batch, height, and width\n",
        "\n",
        "# Convert lists to tensors and compute the overall mean and std\n",
        "mean_per_band = torch.stack(means).mean(dim=0)\n",
        "std_per_band = torch.stack(stds).mean(dim=0)\n",
        "\n",
        "print(\"Mean per band:\", mean_per_band)\n",
        "print(\"Standard deviation per band:\", std_per_band)"
      ],
      "metadata": {
        "colab": {
          "base_uri": "https://localhost:8080/"
        },
        "id": "MPEhBVcemQkt",
        "outputId": "1b76c428-cffa-4de6-d3c0-bd7cef888043"
      },
      "execution_count": 71,
      "outputs": [
        {
          "output_type": "stream",
          "name": "stdout",
          "text": [
            "Mean per band: tensor([1335.4720, 1087.1962, 1000.6180,  893.7280, 1159.7341, 2018.0875,\n",
            "        2399.8557, 2326.0886,  730.7290,   11.8932, 1824.1421, 1112.2601,\n",
            "        2636.4753])\n",
            "Standard deviation per band: tensor([ 207.9270,  298.7845,  348.1283,  522.0065,  473.8945,  747.6469,\n",
            "         947.1871,  986.6773,  375.3021,    3.5969,  852.6541,  684.7718,\n",
            "        1063.6451])\n"
          ]
        }
      ]
    },
    {
      "cell_type": "code",
      "source": [
        "preprocess = K.Normalize(mean = [1335.4720, 1087.1960, 1000.6181,  893.7280, 1159.7341, 2018.0876,\n",
        "        2399.8557, 2326.0886,  730.7291,   11.8932, 1824.1420, 1112.2600,\n",
        "        2636.4753],\n",
        "                         std = [221.3967,  313.6509,  361.3128,  529.4099,  497.7751,  846.1222,\n",
        "        1068.4669, 1098.9768,  411.7481,    3.9491,  935.4077,  716.1664,\n",
        "        1206.4883])"
      ],
      "metadata": {
        "id": "Ln_CuBLcgeN1"
      },
      "execution_count": 72,
      "outputs": []
    },
    {
      "cell_type": "markdown",
      "source": [
        "On the other hand, for augmentation, we can have one or more in a sequence as follows:"
      ],
      "metadata": {
        "id": "tODkWLhOmbym"
      }
    },
    {
      "cell_type": "code",
      "source": [
        "augment = K.ImageSequential(K.RandomHorizontalFlip(),\n",
        "                            K.RandomVerticalFlip())"
      ],
      "metadata": {
        "id": "Me7fuThulMUD"
      },
      "execution_count": 73,
      "outputs": []
    },
    {
      "cell_type": "markdown",
      "source": [
        "## **Model Building**\n",
        "\n",
        "Once we have appropriate data loaders bringing in data and the transformations acting on the loaded datasets, it is time to build the model. There exists a lot of pretrained models which we can work with. In this case, we will use `restnet18` and its associated weights relevant for sentinel2 dataset we are working with."
      ],
      "metadata": {
        "id": "19M0t84dntmz"
      }
    },
    {
      "cell_type": "code",
      "source": [
        "model = resnet18(ResNet18_Weights.SENTINEL2_ALL_MOCO)"
      ],
      "metadata": {
        "id": "mo7cjq6MmvZp"
      },
      "execution_count": 74,
      "outputs": []
    },
    {
      "cell_type": "markdown",
      "source": [
        "### **Calculating loss function**\n",
        "\n",
        "In deep learning, the dataset is normally exposed to the model several times. Each time a model sees all data is called $epoch$. After the model has learnt through the data, we can determine how far away from actual labels, $y$, the predictions $\\hat{y}$ are. This is normally achieved through a $loss$ $function$. The purpose of loss function is to aim at reducing the difference between actual labels and predicted labels after every training run, $epoch$."
      ],
      "metadata": {
        "id": "C9udOH7FpOKb"
      }
    },
    {
      "cell_type": "code",
      "source": [
        "loss_fn = nn.CrossEntropyLoss()"
      ],
      "metadata": {
        "id": "wygEAI1bpNKF"
      },
      "execution_count": 75,
      "outputs": []
    },
    {
      "cell_type": "markdown",
      "source": [
        "## **Optimizers**\n",
        "\n",
        "After calculating the loss, difference between observed and predicted output, minimizing the loss involves taking a small step, $learning$ $rate$, in the direction of negative gradient ($backpropagation$). This is done one image or mini-batch at a time; stochastic gradient descent (SGD) as follows."
      ],
      "metadata": {
        "id": "TutwnyTz2eMH"
      }
    },
    {
      "cell_type": "code",
      "source": [
        "optimizer = optim.SGD(model.parameters(), lr = 1e-2)"
      ],
      "metadata": {
        "id": "ppdEWarYswR1"
      },
      "execution_count": 76,
      "outputs": []
    },
    {
      "cell_type": "markdown",
      "source": [
        "## **Moving data and model to device**\n",
        "\n",
        "Normally, the linear algebraic calculations involved in deep learning are better handled on the GPU. So, both data and model need to be transferred from CPU to GPU to enable efficient training. This can be achieved by:"
      ],
      "metadata": {
        "id": "_28iSGx03tKd"
      }
    },
    {
      "cell_type": "code",
      "source": [
        "device = 'cuda' if torch.cuda.is_available() else 'cpu'\n",
        "model = model.to(device)"
      ],
      "metadata": {
        "id": "vqnI3w6q3eoP"
      },
      "execution_count": 77,
      "outputs": []
    },
    {
      "cell_type": "markdown",
      "source": [
        "We can check what our device is here:"
      ],
      "metadata": {
        "id": "wuW2kySU4Jxs"
      }
    },
    {
      "cell_type": "code",
      "source": [
        "device # Returns 'cpu' because we did not yet set it to GPU in the runtime."
      ],
      "metadata": {
        "colab": {
          "base_uri": "https://localhost:8080/",
          "height": 35
        },
        "id": "MuDngAka4NVs",
        "outputId": "a19d308b-40f2-468c-c4aa-5984fe58823d"
      },
      "execution_count": 78,
      "outputs": [
        {
          "output_type": "execute_result",
          "data": {
            "text/plain": [
              "'cpu'"
            ],
            "application/vnd.google.colaboratory.intrinsic+json": {
              "type": "string"
            }
          },
          "metadata": {},
          "execution_count": 78
        }
      ]
    },
    {
      "cell_type": "markdown",
      "source": [
        "## **Training the model**\n",
        "\n",
        "This involves setting the model to train mode then iterating over the mini-batches in the dataset. During the forward pass, we ask the model to predict y given x. During backward pass, we do backpropagation in which we update model weights. This can be achieved as follows:"
      ],
      "metadata": {
        "id": "15GyGoDr4asU"
      }
    },
    {
      "cell_type": "code",
      "source": [
        "def train(dataloader):\n",
        "  model.train()\n",
        "  total_loss = 0\n",
        "  for batch in dataloader:\n",
        "    x = batch['image'].to(device)\n",
        "    y = batch['label'].to(device)\n",
        "\n",
        "    # Forward pass\n",
        "    y_hat = model(x)\n",
        "    loss = loss_fn(y_hat, y)\n",
        "    total_loss += loss.item()\n",
        "\n",
        "    # Backward pass\n",
        "    loss.backward()\n",
        "    optimizer.step()\n",
        "    optimizer.zero_grad()\n",
        "\n",
        "  print(f\"Loss: {total_loss:.2%}\")"
      ],
      "metadata": {
        "id": "UXNsZCTf4N4t"
      },
      "execution_count": 79,
      "outputs": []
    },
    {
      "cell_type": "markdown",
      "source": [
        "## **Evaluating the model**\n",
        "\n",
        "After training a model, we should evaluate it on unseen data to see how it performs. This involves setting the model to evaluation mode then iterating through the minibatches. We do not engage backpropagation here but compute the number of correctly classified images."
      ],
      "metadata": {
        "id": "ktfSXkF36pHj"
      }
    },
    {
      "cell_type": "code",
      "source": [
        "def evaluate(dataloader):\n",
        "  model.eval()\n",
        "  correct = 0.0\n",
        "  with torch.no_grad():\n",
        "    for batch in dataloader:\n",
        "      x = batch['image'].to(device)\n",
        "      y = batch['label'].to(device)\n",
        "\n",
        "      # Forward pass\n",
        "      y_hat = model(x)\n",
        "      correct += (y_hat.argmax(1) == y).float().sum().item()\n",
        "\n",
        "  correct /= len(dataloader.dataset)\n",
        "  print(f\"Accuracy: {correct:.0%}\")"
      ],
      "metadata": {
        "id": "JNj0Jzjb6F70"
      },
      "execution_count": 104,
      "outputs": []
    },
    {
      "cell_type": "markdown",
      "source": [
        "## **Running for x epochs**\n",
        "\n",
        "Now we need to run this several times so that our model can learn and improve over time. Say, we want to run it 20 times. This means we set epochs to 20 as follows:"
      ],
      "metadata": {
        "id": "dgPXtCG18Fng"
      }
    },
    {
      "cell_type": "code",
      "source": [
        "epochs = 20"
      ],
      "metadata": {
        "id": "XQa049L877wp"
      },
      "execution_count": 94,
      "outputs": []
    },
    {
      "cell_type": "markdown",
      "source": [
        "Normally, we would set such number of epochs that ensures that we see reduction in loss and increase in accuracy. Better still, we want to train the model until the validation accuracy starts to plateau or even decrease. At that point the model shall have sufficiently learnt."
      ],
      "metadata": {
        "id": "YnnRt2Xb8kp_"
      }
    },
    {
      "cell_type": "code",
      "source": [
        "for epoch in range(epochs):\n",
        "  print(f\"Epoch: {epoch}\")\n",
        "  train(train_dataloader)\n",
        "  evaluate(val_dataloader)"
      ],
      "metadata": {
        "colab": {
          "base_uri": "https://localhost:8080/"
        },
        "id": "8m9WEUIV8Zgr",
        "outputId": "1e3d3c7a-efe3-4c3b-f9bf-1ca8033cafd4"
      },
      "execution_count": 105,
      "outputs": [
        {
          "output_type": "stream",
          "name": "stdout",
          "text": [
            "Epoch: 0\n",
            "Loss: 3307.50%\n",
            "Accuracy: 55%\n",
            "Epoch: 1\n",
            "Loss: 3307.92%\n",
            "Accuracy: 60%\n",
            "Epoch: 2\n",
            "Loss: 3148.82%\n",
            "Accuracy: 55%\n",
            "Epoch: 3\n",
            "Loss: 3059.73%\n",
            "Accuracy: 55%\n",
            "Epoch: 4\n",
            "Loss: 2998.87%\n",
            "Accuracy: 60%\n",
            "Epoch: 5\n",
            "Loss: 3006.87%\n",
            "Accuracy: 55%\n",
            "Epoch: 6\n",
            "Loss: 2863.48%\n",
            "Accuracy: 50%\n",
            "Epoch: 7\n",
            "Loss: 2819.90%\n",
            "Accuracy: 55%\n",
            "Epoch: 8\n",
            "Loss: 2723.50%\n",
            "Accuracy: 60%\n",
            "Epoch: 9\n",
            "Loss: 2668.55%\n",
            "Accuracy: 60%\n",
            "Epoch: 10\n",
            "Loss: 2612.05%\n",
            "Accuracy: 55%\n",
            "Epoch: 11\n",
            "Loss: 2381.96%\n",
            "Accuracy: 60%\n",
            "Epoch: 12\n",
            "Loss: 2425.18%\n",
            "Accuracy: 60%\n",
            "Epoch: 13\n",
            "Loss: 2281.63%\n",
            "Accuracy: 55%\n",
            "Epoch: 14\n",
            "Loss: 2300.83%\n",
            "Accuracy: 55%\n",
            "Epoch: 15\n",
            "Loss: 2261.37%\n",
            "Accuracy: 55%\n",
            "Epoch: 16\n",
            "Loss: 2304.64%\n",
            "Accuracy: 60%\n",
            "Epoch: 17\n",
            "Loss: 2088.33%\n",
            "Accuracy: 60%\n",
            "Epoch: 18\n",
            "Loss: 1985.18%\n",
            "Accuracy: 60%\n",
            "Epoch: 19\n",
            "Loss: 2009.19%\n",
            "Accuracy: 60%\n"
          ]
        }
      ]
    },
    {
      "cell_type": "markdown",
      "source": [
        "These are of course horrible performance, however, suited for this simple introductory workflow."
      ],
      "metadata": {
        "id": "jWfnNM7LDYnH"
      }
    },
    {
      "cell_type": "code",
      "source": [
        "evaluate(test_dataloader)"
      ],
      "metadata": {
        "colab": {
          "base_uri": "https://localhost:8080/"
        },
        "id": "rDa0Q8Td9IJn",
        "outputId": "632a7e99-aafb-49b3-a971-f8ba8d1b0b96"
      },
      "execution_count": 111,
      "outputs": [
        {
          "output_type": "stream",
          "name": "stdout",
          "text": [
            "Accuracy: 80%\n"
          ]
        }
      ]
    },
    {
      "cell_type": "markdown",
      "source": [
        "## **References**\n",
        "[PyTorch: Learn the Basics](https://pytorch.org/tutorials/beginner/basics/intro.html)\n",
        "\n",
        "[Deep Learning with PyTorch: A 60 Minute Blitz](https://pytorch.org/tutorials/beginner/deep_learning_60min_blitz.html)\n",
        "\n",
        "[Transfer learning for Computer Vision](https://pytorch.org/tutorials/beginner/transfer_learning_tutorial.html)"
      ],
      "metadata": {
        "id": "JlNtfup7CcJK"
      }
    },
    {
      "cell_type": "code",
      "source": [],
      "metadata": {
        "id": "6miISebVDKbT"
      },
      "execution_count": null,
      "outputs": []
    }
  ]
}