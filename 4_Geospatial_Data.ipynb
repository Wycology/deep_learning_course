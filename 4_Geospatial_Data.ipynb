{
  "nbformat": 4,
  "nbformat_minor": 0,
  "metadata": {
    "colab": {
      "provenance": [],
      "authorship_tag": "ABX9TyNciaCg5ll0Ys969G25oDem",
      "include_colab_link": true
    },
    "kernelspec": {
      "name": "python3",
      "display_name": "Python 3"
    },
    "language_info": {
      "name": "python"
    }
  },
  "cells": [
    {
      "cell_type": "markdown",
      "metadata": {
        "id": "view-in-github",
        "colab_type": "text"
      },
      "source": [
        "<a href=\"https://colab.research.google.com/github/Wycology/deep_learning_course/blob/main/4_Geospatial_Data.ipynb\" target=\"_parent\"><img src=\"https://colab.research.google.com/assets/colab-badge.svg\" alt=\"Open In Colab\"/></a>"
      ]
    },
    {
      "cell_type": "markdown",
      "source": [
        "# **SATELLITE DATA FOR AGRICULTURAL ECONOMISTS**\n",
        "\n",
        "\n",
        "**THEORY AND PRACTICE**\n",
        "\n",
        "**_MACHINE & DEEP LEARNING_**\n",
        "\n",
        "\n",
        "*David Wuepper, Hadi Hadi, Wyclife Agumba Oluoch*\n",
        "\n",
        "---\n",
        "\n",
        "# **Background**"
      ],
      "metadata": {
        "id": "YoH7IKMIJT7q"
      }
    },
    {
      "cell_type": "code",
      "source": [],
      "metadata": {
        "id": "8jmi-EfOJP2A"
      },
      "execution_count": null,
      "outputs": []
    }
  ]
}