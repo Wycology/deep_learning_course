{
  "nbformat": 4,
  "nbformat_minor": 0,
  "metadata": {
    "colab": {
      "provenance": [],
      "authorship_tag": "ABX9TyMn6CJSkxHD0H/OUz+4sG3f",
      "include_colab_link": true
    },
    "kernelspec": {
      "name": "python3",
      "display_name": "Python 3"
    },
    "language_info": {
      "name": "python"
    }
  },
  "cells": [
    {
      "cell_type": "markdown",
      "metadata": {
        "id": "view-in-github",
        "colab_type": "text"
      },
      "source": [
        "<a href=\"https://colab.research.google.com/github/Wycology/deep_learning_course/blob/main/2_Tensors.ipynb\" target=\"_parent\"><img src=\"https://colab.research.google.com/assets/colab-badge.svg\" alt=\"Open In Colab\"/></a>"
      ]
    },
    {
      "cell_type": "markdown",
      "source": [
        "# <font color='green'><b> SATELLITE DATA FOR AGRICULTURAL ECONOMISTS</b></font>\n",
        "\n",
        "\n",
        "<font color='blue'><b>THEORY AND PRACTICE</b></font>\n",
        "\n",
        "**_MACHINE & DEEP LEARNING_**\n",
        "\n",
        "\n",
        "*David Wuepper, Hadi Hadi, Wyclife Agumba Oluoch*\n",
        "\n",
        "[Land Economics Group](https://www.ilr1.uni-bonn.de/en/research/research-groups/land-economics), University of Bonn, Bonn, Germany\n",
        "\n",
        "---\n",
        "\n",
        "# **Background**\n",
        "\n",
        "\n",
        "---"
      ],
      "metadata": {
        "id": "l-_SHva1E7Ub"
      }
    },
    {
      "cell_type": "markdown",
      "source": [
        "`Tensor`, by definition, is the fundamental data structure used to store and manipulate data in `PyTorch`. Understanding `tensor` is paramount to understanding how `PyTorch` implements advanced functions for deep learning. At both preprocessing of input and postprocessing of output, you will be dealing with `tensor` in most cases. It is therefore important to understand what `tensor` are and operations on them. If you know `NumPy` then you are 100% good to take on `tensor`. Let us see how to create some `tensor`."
      ],
      "metadata": {
        "id": "q_n-jfsOFEgg"
      }
    },
    {
      "cell_type": "markdown",
      "source": [
        "For us to have `tensor`, we need to load `PyTorch` library first."
      ],
      "metadata": {
        "id": "dqjCB7rHH5AG"
      }
    },
    {
      "cell_type": "code",
      "execution_count": 1,
      "metadata": {
        "id": "LFUBMYynEhF4"
      },
      "outputs": [],
      "source": [
        "import torch # Of course we need to have the PyTorch"
      ]
    },
    {
      "cell_type": "markdown",
      "source": [
        "We start with a simple `tensor` with just one digit."
      ],
      "metadata": {
        "id": "5DFWWLpdH3qf"
      }
    },
    {
      "cell_type": "markdown",
      "source": [
        "# **Creating `tensor`**\n",
        "---\n",
        "In order to use a `tensor`, we need to create it. We can create a `tensor` easily using a `torch.empty()` function as follows:"
      ],
      "metadata": {
        "id": "hzlIC2SuV2aE"
      }
    },
    {
      "cell_type": "code",
      "source": [
        "x = torch.empty(2, 3) # Creates a tensor of shape 2 by 3, that is two rows and three columns.\n",
        "print(x)"
      ],
      "metadata": {
        "colab": {
          "base_uri": "https://localhost:8080/"
        },
        "id": "EAed40fgHLUu",
        "outputId": "4aea1174-e749-4b0e-ab3d-6b876426836f"
      },
      "execution_count": null,
      "outputs": [
        {
          "output_type": "stream",
          "name": "stdout",
          "text": [
            "tensor([[5.4222e-35, 0.0000e+00, 1.6971e-33],\n",
            "        [0.0000e+00, 1.1210e-43, 0.0000e+00]])\n"
          ]
        }
      ]
    },
    {
      "cell_type": "markdown",
      "source": [
        "The `empty()` method comes pre-built in `PyTorch`. The created tensor is 2-dimensional, normally called 2-d `tensor`. This is because it has **two** rows and **three** columns. You might be wondering why we call it empty yet you see some values. It is empty in the sense that the values you see are actually what was in the memory of the computer when the empty `tensor` was allocated in memory. In reality, the `tensor` is empty and values can be fed into it. Note that sometimes a 1-dimensional `tensor` is called a _vector_, 2-dimensional `tensor` called a _matrix_, and the word `tensor` normally used when the dimensions are above 2. Anyway, all are `tensor`s."
      ],
      "metadata": {
        "id": "1k5L4laXW2b1"
      }
    },
    {
      "cell_type": "markdown",
      "source": [
        "As opposed to `empty` `tensor`, one would normally prefer to have some values in a created `tensor`. A `tensor` can be created with all its elements set to **zeros**, or **ones**, or some **random values** that can be integers or floats. Good enough, all these can be done by in-built methods in `PyTorch` as follows:\n",
        "\n"
      ],
      "metadata": {
        "id": "CfLmZki9IX6R"
      }
    },
    {
      "cell_type": "code",
      "source": [
        "zeros_tensor = torch.zeros(2, 3) # This is tensor will all values set to zeros.\n",
        "print(zeros_tensor)"
      ],
      "metadata": {
        "colab": {
          "base_uri": "https://localhost:8080/"
        },
        "id": "dNx4SO-mHdU9",
        "outputId": "9e751cca-56a1-4b81-bc97-5aa0b1128bdb"
      },
      "execution_count": null,
      "outputs": [
        {
          "output_type": "stream",
          "name": "stdout",
          "text": [
            "tensor([[0., 0., 0.],\n",
            "        [0., 0., 0.]])\n"
          ]
        }
      ]
    },
    {
      "cell_type": "code",
      "source": [
        "ones_tensor = torch.ones(2, 3) # This is tensor will all values set to ones.\n",
        "print(ones_tensor)"
      ],
      "metadata": {
        "colab": {
          "base_uri": "https://localhost:8080/"
        },
        "id": "zxsJyODpadN7",
        "outputId": "8077f216-cbd7-43dc-8b83-e87fdeeb2349"
      },
      "execution_count": null,
      "outputs": [
        {
          "output_type": "stream",
          "name": "stdout",
          "text": [
            "tensor([[1., 1., 1.],\n",
            "        [1., 1., 1.]])\n"
          ]
        }
      ]
    },
    {
      "cell_type": "markdown",
      "source": [
        "><font color='red' size = 5><b>NOTE</b></font>: For the random `tensor`, it is a good practice to set **random seed** so that your output is reproducible the next time you rerun the same code. Remember to use the same integer values in the seed each time you want to reproduce the values."
      ],
      "metadata": {
        "id": "RAGpKDB5aom_"
      }
    },
    {
      "cell_type": "code",
      "source": [
        "torch.manual_seed(248) # This ensures that the code is reproducible.\n",
        "random_tensor = torch.rand(2, 3) # This creates a tensor with random values between 0 and 1 in it.\n",
        "print(random_tensor)"
      ],
      "metadata": {
        "colab": {
          "base_uri": "https://localhost:8080/"
        },
        "id": "Mf0VLqWoaoPR",
        "outputId": "b2c62bbd-cade-4248-d28c-6325467a24c2"
      },
      "execution_count": null,
      "outputs": [
        {
          "output_type": "stream",
          "name": "stdout",
          "text": [
            "tensor([[0.1486, 0.6503, 0.1690],\n",
            "        [0.0158, 0.4595, 0.9061]])\n"
          ]
        }
      ]
    },
    {
      "cell_type": "markdown",
      "source": [
        "# **Shape of `tensor`**\n",
        "---"
      ],
      "metadata": {
        "id": "t0_nZpx5c-5-"
      }
    },
    {
      "cell_type": "markdown",
      "source": [
        "When we want to perform some operations on a `tensor`, it is important to know its shape (printed out as **torch.Size([])**). This will tell us for example if the `tensor` is 1-dimensional, 2-d, 3-d, 4-d among others. There are some operations that we can only perform is specific rules of `tensor` shapes are obeyed as we will see. In order to know the shape of a tensor, we use the `shape` property as follows:"
      ],
      "metadata": {
        "id": "GdyvIIaAI6cq"
      }
    },
    {
      "cell_type": "code",
      "source": [
        "torch.manual_seed(248)\n",
        "x = torch.rand(2, 3)\n",
        "print(x.shape) # This is a two by three matrix."
      ],
      "metadata": {
        "colab": {
          "base_uri": "https://localhost:8080/"
        },
        "id": "31JuTDorI5p4",
        "outputId": "f5d461eb-4af1-4d5b-fcec-b47d8c8743d6"
      },
      "execution_count": null,
      "outputs": [
        {
          "output_type": "stream",
          "name": "stdout",
          "text": [
            "torch.Size([2, 3])\n"
          ]
        }
      ]
    },
    {
      "cell_type": "markdown",
      "source": [
        "You can think of the above matrix as a single band/image with two rows and three columns. Meaning this is basically having 6 elements inside it. We can print it as and confirm the number of elements in it as follows:"
      ],
      "metadata": {
        "id": "Gqqn1h9GJR6A"
      }
    },
    {
      "cell_type": "code",
      "source": [
        "print(x)"
      ],
      "metadata": {
        "colab": {
          "base_uri": "https://localhost:8080/"
        },
        "id": "D7n9EIV5JXXB",
        "outputId": "f53f4413-6472-442a-e818-999bc82c3a2a"
      },
      "execution_count": null,
      "outputs": [
        {
          "output_type": "stream",
          "name": "stdout",
          "text": [
            "tensor([[0.1486, 0.6503, 0.1690],\n",
            "        [0.0158, 0.4595, 0.9061]])\n"
          ]
        }
      ]
    },
    {
      "cell_type": "markdown",
      "source": [
        "Let us assume that you have an **RGB** image. That is, an image with three bands/color channels. In this casewe will have a 3-d `tensor`. This is becase we will have rows and columns as well as number of channels. Let us say, you have an RGB image of a cup with 256 pixels in row and 256 pixels in column for each of the three color channels. This will be something like (3, 256, 256). Let us create one:"
      ],
      "metadata": {
        "id": "CYesIxHRf4YR"
      }
    },
    {
      "cell_type": "code",
      "source": [
        "torch.manual_seed(248)\n",
        "rgb_tensor = torch.rand(3, 256, 256) # This is a 3-d tensor (channels dimension, rows dimension, and column dimension)\n",
        "print(rgb_tensor.shape)"
      ],
      "metadata": {
        "colab": {
          "base_uri": "https://localhost:8080/"
        },
        "id": "s2HvqyAag9RY",
        "outputId": "088bec5d-d2d6-491f-cda8-98472f9e0bc1"
      },
      "execution_count": null,
      "outputs": [
        {
          "output_type": "stream",
          "name": "stdout",
          "text": [
            "torch.Size([3, 256, 256])\n"
          ]
        }
      ]
    },
    {
      "cell_type": "markdown",
      "source": [
        "The output is a list with 3, 256, and 256 elements in it corresponding to number of channels, rows and columns. The 3 means there are 3 elements in the first dimension. the first 256 means there are 256 elements in the second dimension and the last 256 means there are 256 elements in the third dimension."
      ],
      "metadata": {
        "id": "JrWv5l2PiBJX"
      }
    },
    {
      "cell_type": "code",
      "source": [
        "print(rgb_tensor)"
      ],
      "metadata": {
        "colab": {
          "base_uri": "https://localhost:8080/"
        },
        "id": "JzLRwQaqhXGr",
        "outputId": "b01ad079-56d5-45a9-d035-8c85e59b4c72"
      },
      "execution_count": null,
      "outputs": [
        {
          "output_type": "stream",
          "name": "stdout",
          "text": [
            "tensor([[[0.1486, 0.6503, 0.1690,  ..., 0.8042, 0.1762, 0.3878],\n",
            "         [0.6061, 0.0266, 0.6565,  ..., 0.7283, 0.7022, 0.6209],\n",
            "         [0.4686, 0.5914, 0.0205,  ..., 0.2622, 0.1006, 0.5342],\n",
            "         ...,\n",
            "         [0.4051, 0.9665, 0.9868,  ..., 0.6381, 0.9864, 0.7085],\n",
            "         [0.6336, 0.8528, 0.4961,  ..., 0.6412, 0.6450, 0.5386],\n",
            "         [0.3577, 0.7328, 0.4285,  ..., 0.2057, 0.8538, 0.1834]],\n",
            "\n",
            "        [[0.1505, 0.2070, 0.0899,  ..., 0.9604, 0.4554, 0.2742],\n",
            "         [0.0976, 0.9119, 0.0958,  ..., 0.3554, 0.9178, 0.1921],\n",
            "         [0.6962, 0.9772, 0.1616,  ..., 0.8772, 0.3858, 0.0328],\n",
            "         ...,\n",
            "         [0.5004, 0.3803, 0.6465,  ..., 0.5358, 0.6438, 0.4367],\n",
            "         [0.1902, 0.6078, 0.8052,  ..., 0.1226, 0.7050, 0.0753],\n",
            "         [0.1047, 0.3733, 0.9489,  ..., 0.6650, 0.0291, 0.7273]],\n",
            "\n",
            "        [[0.2848, 0.4889, 0.5891,  ..., 0.6803, 0.0650, 0.1653],\n",
            "         [0.8378, 0.1194, 0.9079,  ..., 0.8441, 0.4194, 0.5504],\n",
            "         [0.7955, 0.4902, 0.4107,  ..., 0.0283, 0.8470, 0.0591],\n",
            "         ...,\n",
            "         [0.6530, 0.7744, 0.9444,  ..., 0.7336, 0.8058, 0.2948],\n",
            "         [0.2340, 0.9167, 0.5202,  ..., 0.2576, 0.1255, 0.6716],\n",
            "         [0.1773, 0.9735, 0.4695,  ..., 0.7520, 0.8654, 0.7055]]])\n"
          ]
        }
      ]
    },
    {
      "cell_type": "markdown",
      "source": [
        "## **Creating `tensor` _like**\n",
        "\n",
        "There can be instances when you already have a tensor and you want to initialize another tensor **like** the one you have. The like here does not mean it will also have the same actual elements, but means will have same attributes including shape and data type. We will look at `tensor` data types later. Now, we can create a `tensor` like one we have but only filled with zeros, or empty, or ones, or random. The only think we need to remember from what we already discussed above is to add `_like` to the zeros, ones, rand as follows:\n",
        "\n",
        "> Add blockquote\n",
        "\n"
      ],
      "metadata": {
        "id": "skMjRQ6nLqmI"
      }
    },
    {
      "cell_type": "code",
      "source": [
        "zeros_like_rgb = torch.zeros_like(rgb_tensor)\n",
        "print(zeros_like_rgb.shape) # The shape is similar to that of rgb_tensor\n",
        "print(zeros_like_rgb) # The values in it are, however, zeros"
      ],
      "metadata": {
        "id": "FCtNeBEwLrM1",
        "colab": {
          "base_uri": "https://localhost:8080/"
        },
        "outputId": "2bfb2b48-3147-4e0e-adfe-22519e81e66c"
      },
      "execution_count": null,
      "outputs": [
        {
          "output_type": "stream",
          "name": "stdout",
          "text": [
            "torch.Size([3, 256, 256])\n",
            "tensor([[[0., 0., 0.,  ..., 0., 0., 0.],\n",
            "         [0., 0., 0.,  ..., 0., 0., 0.],\n",
            "         [0., 0., 0.,  ..., 0., 0., 0.],\n",
            "         ...,\n",
            "         [0., 0., 0.,  ..., 0., 0., 0.],\n",
            "         [0., 0., 0.,  ..., 0., 0., 0.],\n",
            "         [0., 0., 0.,  ..., 0., 0., 0.]],\n",
            "\n",
            "        [[0., 0., 0.,  ..., 0., 0., 0.],\n",
            "         [0., 0., 0.,  ..., 0., 0., 0.],\n",
            "         [0., 0., 0.,  ..., 0., 0., 0.],\n",
            "         ...,\n",
            "         [0., 0., 0.,  ..., 0., 0., 0.],\n",
            "         [0., 0., 0.,  ..., 0., 0., 0.],\n",
            "         [0., 0., 0.,  ..., 0., 0., 0.]],\n",
            "\n",
            "        [[0., 0., 0.,  ..., 0., 0., 0.],\n",
            "         [0., 0., 0.,  ..., 0., 0., 0.],\n",
            "         [0., 0., 0.,  ..., 0., 0., 0.],\n",
            "         ...,\n",
            "         [0., 0., 0.,  ..., 0., 0., 0.],\n",
            "         [0., 0., 0.,  ..., 0., 0., 0.],\n",
            "         [0., 0., 0.,  ..., 0., 0., 0.]]])\n"
          ]
        }
      ]
    },
    {
      "cell_type": "code",
      "source": [
        "ones_like_rgb = torch.ones_like(rgb_tensor)\n",
        "print(ones_like_rgb.shape) # The shape is the same as the shape of rgb_tensor ([3, 256, 256])\n",
        "print(ones_like_rgb) # The elements in the output are all 1.'s"
      ],
      "metadata": {
        "colab": {
          "base_uri": "https://localhost:8080/"
        },
        "id": "HWJ_1LUVkquD",
        "outputId": "28d09ca5-c3c3-422c-e0a5-9655cc2c4862"
      },
      "execution_count": null,
      "outputs": [
        {
          "output_type": "stream",
          "name": "stdout",
          "text": [
            "torch.Size([3, 256, 256])\n",
            "tensor([[[1., 1., 1.,  ..., 1., 1., 1.],\n",
            "         [1., 1., 1.,  ..., 1., 1., 1.],\n",
            "         [1., 1., 1.,  ..., 1., 1., 1.],\n",
            "         ...,\n",
            "         [1., 1., 1.,  ..., 1., 1., 1.],\n",
            "         [1., 1., 1.,  ..., 1., 1., 1.],\n",
            "         [1., 1., 1.,  ..., 1., 1., 1.]],\n",
            "\n",
            "        [[1., 1., 1.,  ..., 1., 1., 1.],\n",
            "         [1., 1., 1.,  ..., 1., 1., 1.],\n",
            "         [1., 1., 1.,  ..., 1., 1., 1.],\n",
            "         ...,\n",
            "         [1., 1., 1.,  ..., 1., 1., 1.],\n",
            "         [1., 1., 1.,  ..., 1., 1., 1.],\n",
            "         [1., 1., 1.,  ..., 1., 1., 1.]],\n",
            "\n",
            "        [[1., 1., 1.,  ..., 1., 1., 1.],\n",
            "         [1., 1., 1.,  ..., 1., 1., 1.],\n",
            "         [1., 1., 1.,  ..., 1., 1., 1.],\n",
            "         ...,\n",
            "         [1., 1., 1.,  ..., 1., 1., 1.],\n",
            "         [1., 1., 1.,  ..., 1., 1., 1.],\n",
            "         [1., 1., 1.,  ..., 1., 1., 1.]]])\n"
          ]
        }
      ]
    },
    {
      "cell_type": "code",
      "source": [
        "torch.manual_seed(248)\n",
        "rand_like_rgb = torch.rand_like(rgb_tensor)\n",
        "print(rand_like_rgb.shape) # Same shape as rgb_tensor\n",
        "print(rand_like_rgb) # Interesting, the values here are exactly the same as those in rgb_tensor. Why? Because we used same manual seed."
      ],
      "metadata": {
        "colab": {
          "base_uri": "https://localhost:8080/"
        },
        "id": "g3aERzxYkqqa",
        "outputId": "4bc2b9fa-f351-4bf7-a72d-287b8c870294"
      },
      "execution_count": null,
      "outputs": [
        {
          "output_type": "stream",
          "name": "stdout",
          "text": [
            "torch.Size([3, 256, 256])\n",
            "tensor([[[0.1486, 0.6503, 0.1690,  ..., 0.8042, 0.1762, 0.3878],\n",
            "         [0.6061, 0.0266, 0.6565,  ..., 0.7283, 0.7022, 0.6209],\n",
            "         [0.4686, 0.5914, 0.0205,  ..., 0.2622, 0.1006, 0.5342],\n",
            "         ...,\n",
            "         [0.4051, 0.9665, 0.9868,  ..., 0.6381, 0.9864, 0.7085],\n",
            "         [0.6336, 0.8528, 0.4961,  ..., 0.6412, 0.6450, 0.5386],\n",
            "         [0.3577, 0.7328, 0.4285,  ..., 0.2057, 0.8538, 0.1834]],\n",
            "\n",
            "        [[0.1505, 0.2070, 0.0899,  ..., 0.9604, 0.4554, 0.2742],\n",
            "         [0.0976, 0.9119, 0.0958,  ..., 0.3554, 0.9178, 0.1921],\n",
            "         [0.6962, 0.9772, 0.1616,  ..., 0.8772, 0.3858, 0.0328],\n",
            "         ...,\n",
            "         [0.5004, 0.3803, 0.6465,  ..., 0.5358, 0.6438, 0.4367],\n",
            "         [0.1902, 0.6078, 0.8052,  ..., 0.1226, 0.7050, 0.0753],\n",
            "         [0.1047, 0.3733, 0.9489,  ..., 0.6650, 0.0291, 0.7273]],\n",
            "\n",
            "        [[0.2848, 0.4889, 0.5891,  ..., 0.6803, 0.0650, 0.1653],\n",
            "         [0.8378, 0.1194, 0.9079,  ..., 0.8441, 0.4194, 0.5504],\n",
            "         [0.7955, 0.4902, 0.4107,  ..., 0.0283, 0.8470, 0.0591],\n",
            "         ...,\n",
            "         [0.6530, 0.7744, 0.9444,  ..., 0.7336, 0.8058, 0.2948],\n",
            "         [0.2340, 0.9167, 0.5202,  ..., 0.2576, 0.1255, 0.6716],\n",
            "         [0.1773, 0.9735, 0.4695,  ..., 0.7520, 0.8654, 0.7055]]])\n"
          ]
        }
      ]
    },
    {
      "cell_type": "markdown",
      "source": [
        "## **Creating `tensor` directly from data**\n",
        "\n",
        "It is also possible to directly supply data in `torch.tensor()` to create a `tensor` of your liking. The values can be a list, tuple, or numpy array etc."
      ],
      "metadata": {
        "id": "7W3W49Kul6xR"
      }
    },
    {
      "cell_type": "code",
      "source": [
        "some_values = torch.tensor([11, 2.0, 376, 0.004]) # Manually supplied values\n",
        "print(some_values.shape) # This is a one dimension tensor.\n",
        "print(some_values)"
      ],
      "metadata": {
        "colab": {
          "base_uri": "https://localhost:8080/"
        },
        "id": "5x01BBcpl6Z_",
        "outputId": "ed9f06c4-c21b-4a62-9a7e-04bd79f43014"
      },
      "execution_count": null,
      "outputs": [
        {
          "output_type": "stream",
          "name": "stdout",
          "text": [
            "torch.Size([4])\n",
            "tensor([1.1000e+01, 2.0000e+00, 3.7600e+02, 4.0000e-03])\n"
          ]
        }
      ]
    },
    {
      "cell_type": "code",
      "source": [
        "some_values = torch.tensor([[1.2, 23, 13.1, 4.2], [23, 4, 5, 67]])\n",
        "print(some_values.shape) # This is a two dimension tensor.\n",
        "print(some_values)"
      ],
      "metadata": {
        "colab": {
          "base_uri": "https://localhost:8080/"
        },
        "id": "1XJqncHMl6Wg",
        "outputId": "bb94f983-5d6b-4930-91a1-bf428d3732e2"
      },
      "execution_count": null,
      "outputs": [
        {
          "output_type": "stream",
          "name": "stdout",
          "text": [
            "torch.Size([2, 4])\n",
            "tensor([[ 1.2000, 23.0000, 13.1000,  4.2000],\n",
            "        [23.0000,  4.0000,  5.0000, 67.0000]])\n"
          ]
        }
      ]
    },
    {
      "cell_type": "code",
      "source": [
        "tuple_tensor = torch.tensor((2.22, 1.675, 8)) # Creating from tuple\n",
        "print(tuple_tensor.shape) # This is 1-d tensor\n",
        "print(tuple_tensor)\n"
      ],
      "metadata": {
        "colab": {
          "base_uri": "https://localhost:8080/"
        },
        "id": "0seqa6l2l6UM",
        "outputId": "2754b376-99c2-48fb-c968-0ecf8d7ca9cf"
      },
      "execution_count": null,
      "outputs": [
        {
          "output_type": "stream",
          "name": "stdout",
          "text": [
            "torch.Size([3])\n",
            "tensor([2.2200, 1.6750, 8.0000])\n"
          ]
        }
      ]
    },
    {
      "cell_type": "code",
      "source": [
        "tuple_list_tensor = torch.tensor(((2.22, 1.675, 8), [1.2, 23, 13.1])) # From tuple and list\n",
        "print(tuple_list_tensor.shape) # 2-d tensor\n",
        "print(tuple_list_tensor)"
      ],
      "metadata": {
        "colab": {
          "base_uri": "https://localhost:8080/"
        },
        "id": "d7JP-zgOl6Rz",
        "outputId": "9422477c-dbcc-4335-fcaf-b33bdb48364c"
      },
      "execution_count": null,
      "outputs": [
        {
          "output_type": "stream",
          "name": "stdout",
          "text": [
            "torch.Size([2, 3])\n",
            "tensor([[ 2.2200,  1.6750,  8.0000],\n",
            "        [ 1.2000, 23.0000, 13.1000]])\n"
          ]
        }
      ]
    },
    {
      "cell_type": "markdown",
      "source": [
        "><font color=\"red\" size = 5>**NOTE:**</font> Using `torch.tensor` creates a copy of the data. Sometimes this may overwhelm your computer memory. For example if you do it on 100 Tb of data you end up with over 200 Tb of data. <font color=\"orange\">_Remember, `tensor` always occupies larger memory than array_.</font>"
      ],
      "metadata": {
        "id": "WW98-j6vorlo"
      }
    },
    {
      "cell_type": "markdown",
      "source": [
        "# **`Tensor` Data Types**\n",
        "---"
      ],
      "metadata": {
        "id": "gi7NVOZyqATx"
      }
    },
    {
      "cell_type": "markdown",
      "source": [
        "Data types such as **integer**, **float**, **boolean** among others can easily be set for `tensor`s during creation. This is often crucial as operations on `tensor`s can be strictly data type dependent. That is, some operations may only need the data type to be float32 and not integer."
      ],
      "metadata": {
        "id": "QbglCahZqNRh"
      }
    },
    {
      "cell_type": "code",
      "source": [
        "int_tensor = torch.ones((2, 3), dtype=torch.int16) # Specifying the data type to torch.int16\n",
        "print(int_tensor)"
      ],
      "metadata": {
        "colab": {
          "base_uri": "https://localhost:8080/"
        },
        "id": "6b7GTFaHl6PZ",
        "outputId": "fa4a59aa-f776-4cdd-ec6f-333a6e533b20"
      },
      "execution_count": null,
      "outputs": [
        {
          "output_type": "stream",
          "name": "stdout",
          "text": [
            "tensor([[1, 1, 1],\n",
            "        [1, 1, 1]], dtype=torch.int16)\n"
          ]
        }
      ]
    },
    {
      "cell_type": "markdown",
      "source": [
        "Notice that in the printout, dtype is also shown. This did not happen in our earlier tensors because we did not specify it during creation. Let us see the same `tensor` under float64."
      ],
      "metadata": {
        "id": "lTZv37jMrSd_"
      }
    },
    {
      "cell_type": "code",
      "source": [
        "float64_tensor = torch.ones((2, 3), dtype = torch.float64)\n",
        "print(float64_tensor.shape) # Of course 2-d tensor with two rows and three columns.\n",
        "print(float64_tensor) # The printout also shows the dtype.\n"
      ],
      "metadata": {
        "colab": {
          "base_uri": "https://localhost:8080/"
        },
        "id": "0lu0sxNhl6M-",
        "outputId": "3b3ba8b1-93a7-46c3-cfa6-59235861b209"
      },
      "execution_count": null,
      "outputs": [
        {
          "output_type": "stream",
          "name": "stdout",
          "text": [
            "torch.Size([2, 3])\n",
            "tensor([[1., 1., 1.],\n",
            "        [1., 1., 1.]], dtype=torch.float64)\n"
          ]
        }
      ]
    },
    {
      "cell_type": "markdown",
      "source": [
        "Other than definition of the data type of a tensor during creation, we can also specify a data type to an existing `tensor`. Say, I created a `tensor` called **float64_tensor** above, and we now want it to be **float32_tensor**. We can achieve that using `.to()` method as follows:"
      ],
      "metadata": {
        "id": "40O0NflXtHMS"
      }
    },
    {
      "cell_type": "code",
      "source": [
        "float32_tensor = float64_tensor.to(torch.float32)\n",
        "print(float32_tensor) # Now this is float32"
      ],
      "metadata": {
        "colab": {
          "base_uri": "https://localhost:8080/"
        },
        "id": "0jI8bUqJtGkN",
        "outputId": "e35f52a4-ceb7-4913-b0f4-5836624c3b00"
      },
      "execution_count": null,
      "outputs": [
        {
          "output_type": "stream",
          "name": "stdout",
          "text": [
            "tensor([[1., 1., 1.],\n",
            "        [1., 1., 1.]])\n"
          ]
        }
      ]
    },
    {
      "cell_type": "markdown",
      "source": [
        "Notice here that float32 is not printed as was float64. This is because it is the **default** data type. You can confirm this by using `.dtype` attribute on the `tensor`."
      ],
      "metadata": {
        "id": "lvL7jQpxt7_R"
      }
    },
    {
      "cell_type": "code",
      "source": [
        "float32_tensor.dtype"
      ],
      "metadata": {
        "colab": {
          "base_uri": "https://localhost:8080/"
        },
        "id": "1hM4F1eStGgk",
        "outputId": "43d67fd6-b21e-4773-9a4e-760d2ed2893f"
      },
      "execution_count": null,
      "outputs": [
        {
          "output_type": "execute_result",
          "data": {
            "text/plain": [
              "torch.float32"
            ]
          },
          "metadata": {},
          "execution_count": 62
        }
      ]
    },
    {
      "cell_type": "markdown",
      "source": [
        "The following is a list of **common** data types that you will encounter most of the times:\n",
        "* torch.bool<font color=\"red\">\n",
        "+ torch.int8\n",
        "+ torch.uint8\n",
        "+ torch.int16\n",
        "+ torch.int32\n",
        "+ torch.int64</font><font color=\"magenta\">\n",
        "+ torch.half\n",
        "+ torch.float\n",
        "+ torch.double\n",
        "+ torch.bfloat16\n"
      ],
      "metadata": {
        "id": "bI1gLayqvn2A"
      }
    },
    {
      "cell_type": "markdown",
      "source": [
        "# **Some Math operations with `Tensors`**\n",
        "---\n",
        "We now know how to create `tensor`s and also know various data types they can take. Next is what can we do with the `tensors`? To begin with we will do some basic addition with `scalar`, like numbers. For example, if we have a `tensor` of ones and we want to add 5 to each of the elements in it.\n",
        "## **Operating a `tensor` with a `Scalar`(s)**"
      ],
      "metadata": {
        "id": "hfTNV1wByxsP"
      }
    },
    {
      "cell_type": "code",
      "source": [
        "ones_tensor = torch.ones(2, 3)\n",
        "print(ones_tensor)\n",
        "\n",
        "# Add 5 to each of the elements\n",
        "\n",
        "five_added = ones_tensor + 5\n",
        "print(five_added)"
      ],
      "metadata": {
        "colab": {
          "base_uri": "https://localhost:8080/"
        },
        "id": "nYJU4bpTtGeN",
        "outputId": "8f644602-898e-4c55-81e0-64871f838e32"
      },
      "execution_count": null,
      "outputs": [
        {
          "output_type": "stream",
          "name": "stdout",
          "text": [
            "tensor([[1., 1., 1.],\n",
            "        [1., 1., 1.]])\n",
            "tensor([[6., 6., 6.],\n",
            "        [6., 6., 6.]])\n"
          ]
        }
      ]
    },
    {
      "cell_type": "markdown",
      "source": [
        "It is evident that the `scalar` 5 is added to each of the elements in our original `ones_tensor`. Likewise, we can multiply a `tensor` by a `scalar` quantity  as follows:"
      ],
      "metadata": {
        "id": "t7Ka2QZgzvvY"
      }
    },
    {
      "cell_type": "code",
      "source": [
        "torch.manual_seed(248)\n",
        "random_tensor = torch.rand(2, 3)\n",
        "print(random_tensor)\n",
        "multiplied_tensor = random_tensor * 5\n",
        "print(multiplied_tensor)"
      ],
      "metadata": {
        "colab": {
          "base_uri": "https://localhost:8080/"
        },
        "id": "uMiDFkrLtGb3",
        "outputId": "cee0ccf1-7ae2-4995-94a1-f31e876d2495"
      },
      "execution_count": null,
      "outputs": [
        {
          "output_type": "stream",
          "name": "stdout",
          "text": [
            "tensor([[0.1486, 0.6503, 0.1690],\n",
            "        [0.0158, 0.4595, 0.9061]])\n",
            "tensor([[0.7429, 3.2515, 0.8448],\n",
            "        [0.0788, 2.2977, 4.5307]])\n"
          ]
        }
      ]
    },
    {
      "cell_type": "markdown",
      "source": [
        "We can also supply a a chain of arithmetic operations including division, multiplication, addition, subtraction by `scalars`  as follows"
      ],
      "metadata": {
        "id": "NS2Iit9u0z3C"
      }
    },
    {
      "cell_type": "code",
      "source": [
        "torch.manual_seed(248)\n",
        "random_tensor = torch.rand(2, 3)\n",
        "print(random_tensor)\n",
        "chained_operations = (((random_tensor / 3) * 7) + 9) - 89\n",
        "print(chained_operations)"
      ],
      "metadata": {
        "colab": {
          "base_uri": "https://localhost:8080/"
        },
        "id": "-nM7kRDGtGZl",
        "outputId": "c40c40e6-7b21-4def-c70e-f5f267448e70"
      },
      "execution_count": null,
      "outputs": [
        {
          "output_type": "stream",
          "name": "stdout",
          "text": [
            "tensor([[0.1486, 0.6503, 0.1690],\n",
            "        [0.0158, 0.4595, 0.9061]])\n",
            "tensor([[-79.6533, -78.4826, -79.6058],\n",
            "        [-79.9632, -78.9277, -77.8857]])\n"
          ]
        }
      ]
    },
    {
      "cell_type": "markdown",
      "source": [
        "Let us try to confirm one element. Say the first element which is 0.1486"
      ],
      "metadata": {
        "id": "htSqtBGX12IE"
      }
    },
    {
      "cell_type": "code",
      "source": [
        "0.1486 / 3 # First we divide it by 3"
      ],
      "metadata": {
        "colab": {
          "base_uri": "https://localhost:8080/"
        },
        "id": "LUYl6gFhtGW_",
        "outputId": "263c45cc-55c0-4b12-8d38-97a66f1c0f24"
      },
      "execution_count": null,
      "outputs": [
        {
          "output_type": "execute_result",
          "data": {
            "text/plain": [
              "0.04953333333333334"
            ]
          },
          "metadata": {},
          "execution_count": 66
        }
      ]
    },
    {
      "cell_type": "code",
      "source": [
        "0.04953333333333334 * 7 # Then we multiply by 7"
      ],
      "metadata": {
        "colab": {
          "base_uri": "https://localhost:8080/"
        },
        "id": "HNZeo1x8tGUc",
        "outputId": "32c02246-e63a-4432-e4c8-0279c71727b2"
      },
      "execution_count": null,
      "outputs": [
        {
          "output_type": "execute_result",
          "data": {
            "text/plain": [
              "0.3467333333333334"
            ]
          },
          "metadata": {},
          "execution_count": 67
        }
      ]
    },
    {
      "cell_type": "code",
      "source": [
        "0.3467333333333334 + 9 # Then we add 9"
      ],
      "metadata": {
        "colab": {
          "base_uri": "https://localhost:8080/"
        },
        "id": "B2ud1ueUtGSH",
        "outputId": "0a83af30-b5aa-44bd-ef15-4ae4a5fae6c5"
      },
      "execution_count": null,
      "outputs": [
        {
          "output_type": "execute_result",
          "data": {
            "text/plain": [
              "9.346733333333333"
            ]
          },
          "metadata": {},
          "execution_count": 68
        }
      ]
    },
    {
      "cell_type": "code",
      "source": [
        "9.346733333333333 - 89 # Finally we subtract 89"
      ],
      "metadata": {
        "colab": {
          "base_uri": "https://localhost:8080/"
        },
        "id": "gLIoi3MttGPa",
        "outputId": "33dbca8e-4946-409a-8f90-1851735ef2f2"
      },
      "execution_count": null,
      "outputs": [
        {
          "output_type": "execute_result",
          "data": {
            "text/plain": [
              "-79.65326666666667"
            ]
          },
          "metadata": {},
          "execution_count": 69
        }
      ]
    },
    {
      "cell_type": "markdown",
      "source": [
        "We can also perform power operations. For example getting square of a `tensor` or cube. That is, raising a `tensor` to power 2 or 3."
      ],
      "metadata": {
        "id": "NfYdG4KAS-jk"
      }
    },
    {
      "cell_type": "code",
      "source": [
        "torch.manual_seed(248)\n",
        "random_tensor = torch.rand(2, 3)\n",
        "print(random_tensor)\n",
        "power_three = random_tensor ** 3\n",
        "print(power_three)"
      ],
      "metadata": {
        "id": "VMzt35fMS-CV",
        "outputId": "e5563f4b-e69d-4c09-fb17-9cdabf722364",
        "colab": {
          "base_uri": "https://localhost:8080/"
        }
      },
      "execution_count": null,
      "outputs": [
        {
          "output_type": "stream",
          "name": "stdout",
          "text": [
            "tensor([[0.1486, 0.6503, 0.1690],\n",
            "        [0.0158, 0.4595, 0.9061]])\n",
            "tensor([[3.2797e-03, 2.7500e-01, 4.8236e-03],\n",
            "        [3.9115e-06, 9.7049e-02, 7.4405e-01]])\n"
          ]
        }
      ]
    },
    {
      "cell_type": "markdown",
      "source": [
        "Performing manual confirmation with the first element in the `random_tensor`."
      ],
      "metadata": {
        "id": "fedE4F1sTxUO"
      }
    },
    {
      "cell_type": "code",
      "source": [
        "0.1486 * 0.1486 * 0.1486 # Correct to some decimal places."
      ],
      "metadata": {
        "id": "0gJBVvL2TvvB",
        "outputId": "10160cc8-03e8-462a-d0f7-c4f9be688acc",
        "colab": {
          "base_uri": "https://localhost:8080/"
        }
      },
      "execution_count": null,
      "outputs": [
        {
          "output_type": "execute_result",
          "data": {
            "text/plain": [
              "0.0032813792560000008"
            ]
          },
          "metadata": {},
          "execution_count": 7
        }
      ]
    },
    {
      "cell_type": "markdown",
      "source": [
        "><font color = \"red\" size = 5>**NOTE:**</font> When doing mathematical operations on `tensor`s involving a `scalar` the operation is distributed over each element. For example, when adding 5 to a `tensor` of size ([2, 3]), the value five will be added to all the 6 elements in the `tensor`.\n",
        "\n",
        "\n"
      ],
      "metadata": {
        "id": "Ikom4jfFQbfq"
      }
    },
    {
      "cell_type": "markdown",
      "source": [
        "## **Operations with several `tensor`s**\n",
        "\n",
        "Other than the cases where we perform mathematical operations between a `tensor` and a `scalar`, more often, we will be operating several `tensor`s. This can be achieved, generally, when the `tensor`s involved have the same shape. For example:"
      ],
      "metadata": {
        "id": "JPVAJAG9SNmI"
      }
    },
    {
      "cell_type": "code",
      "source": [
        "torch.manual_seed(248)\n",
        "a = torch.rand(2, 3)\n",
        "b = torch.ones(2, 3)\n",
        "\n",
        "print(a * b) # The two tensors have same shape hence can be added together."
      ],
      "metadata": {
        "id": "Mtg7u5hAtGM8",
        "outputId": "71b75036-820a-4180-8605-7ae61cb66d51",
        "colab": {
          "base_uri": "https://localhost:8080/"
        }
      },
      "execution_count": null,
      "outputs": [
        {
          "output_type": "stream",
          "name": "stdout",
          "text": [
            "tensor([[0.1486, 0.6503, 0.1690],\n",
            "        [0.0158, 0.4595, 0.9061]])\n"
          ]
        }
      ]
    },
    {
      "cell_type": "markdown",
      "source": [
        "We can also raise `tensor` `a` to the power of `b`."
      ],
      "metadata": {
        "id": "dL7lGcysVKW-"
      }
    },
    {
      "cell_type": "code",
      "source": [
        "print(a ** b)"
      ],
      "metadata": {
        "id": "8xfwaZ4ztGKU",
        "outputId": "d894ac47-70eb-4300-f3e4-26faf31bb878",
        "colab": {
          "base_uri": "https://localhost:8080/"
        }
      },
      "execution_count": null,
      "outputs": [
        {
          "output_type": "stream",
          "name": "stdout",
          "text": [
            "tensor([[0.1486, 0.6503, 0.1690],\n",
            "        [0.0158, 0.4595, 0.9061]])\n"
          ]
        }
      ]
    },
    {
      "cell_type": "markdown",
      "source": [
        "Of course multiplying, dividing, subtracting them are also possible."
      ],
      "metadata": {
        "id": "KloKqqg7VWbg"
      }
    },
    {
      "cell_type": "code",
      "source": [
        "print(a * b)\n",
        "print(a / b)\n",
        "print(a - b)"
      ],
      "metadata": {
        "id": "3qf9AednVa5W",
        "outputId": "afa70d46-cadc-49b1-ad7e-e114ba46b39e",
        "colab": {
          "base_uri": "https://localhost:8080/"
        }
      },
      "execution_count": null,
      "outputs": [
        {
          "output_type": "stream",
          "name": "stdout",
          "text": [
            "tensor([[0.1486, 0.6503, 0.1690],\n",
            "        [0.0158, 0.4595, 0.9061]])\n",
            "tensor([[0.1486, 0.6503, 0.1690],\n",
            "        [0.0158, 0.4595, 0.9061]])\n",
            "tensor([[-0.8514, -0.3497, -0.8310],\n",
            "        [-0.9842, -0.5405, -0.0939]])\n"
          ]
        }
      ]
    },
    {
      "cell_type": "markdown",
      "source": [
        "><font color = \"red\" size = 5>**NOTE:**</font> There is an exception to this rule of same shape. This is called <font color = \"steelblue\">**BROADCASTING**</font>."
      ],
      "metadata": {
        "id": "Z7M4JtN6WHfz"
      }
    },
    {
      "cell_type": "markdown",
      "source": [
        "## **`tensor` broadcasting**\n",
        "\n",
        "This is a way that enables us to perform operations between `tensor`s that have **some similarities** in their shapes. The shapes do not have to be identical. For example, one tensor can be ([2, 3]) and the other is ([1, 3])."
      ],
      "metadata": {
        "id": "yqkAGjwiXLsw"
      }
    },
    {
      "cell_type": "code",
      "source": [
        "torch.manual_seed(248)\n",
        "random_tensor = torch.rand(2, 3)\n",
        "torch.manual_seed(248)\n",
        "other_tensor = torch.rand(1, 3)\n",
        "\n",
        "print(random_tensor)\n",
        "print(other_tensor)"
      ],
      "metadata": {
        "id": "4DF8klsWVa1t",
        "outputId": "bf738856-5c40-45b9-ba3d-a4555555205d",
        "colab": {
          "base_uri": "https://localhost:8080/"
        }
      },
      "execution_count": null,
      "outputs": [
        {
          "output_type": "stream",
          "name": "stdout",
          "text": [
            "tensor([[0.1486, 0.6503, 0.1690],\n",
            "        [0.0158, 0.4595, 0.9061]])\n",
            "tensor([[0.1486, 0.6503, 0.1690]])\n"
          ]
        }
      ]
    },
    {
      "cell_type": "markdown",
      "source": [
        "Let us print out the shapes to confirm that they are different."
      ],
      "metadata": {
        "id": "wziduS2uYtc_"
      }
    },
    {
      "cell_type": "code",
      "source": [
        "print(random_tensor.shape)\n",
        "print(other_tensor.shape)"
      ],
      "metadata": {
        "id": "xS9tEXEpVazV",
        "outputId": "6263a6e5-8e3b-4adf-e41b-4186ad09b36e",
        "colab": {
          "base_uri": "https://localhost:8080/"
        }
      },
      "execution_count": null,
      "outputs": [
        {
          "output_type": "stream",
          "name": "stdout",
          "text": [
            "torch.Size([2, 3])\n",
            "torch.Size([1, 3])\n"
          ]
        }
      ]
    },
    {
      "cell_type": "markdown",
      "source": [
        "We will try to add, subtract, multiply, divide and raise to power."
      ],
      "metadata": {
        "id": "CMth2XHLZI98"
      }
    },
    {
      "cell_type": "code",
      "source": [
        "print(random_tensor + other_tensor)\n",
        "print(random_tensor - other_tensor)\n",
        "print(random_tensor * other_tensor)\n",
        "print(random_tensor / other_tensor)\n",
        "print(random_tensor ** other_tensor)\n"
      ],
      "metadata": {
        "id": "eWQE3rcSVaw0",
        "outputId": "e0dbb46a-c163-4e0c-9117-54cee2270534",
        "colab": {
          "base_uri": "https://localhost:8080/"
        }
      },
      "execution_count": null,
      "outputs": [
        {
          "output_type": "stream",
          "name": "stdout",
          "text": [
            "tensor([[0.2971, 1.3006, 0.3379],\n",
            "        [0.1643, 1.1098, 1.0751]])\n",
            "tensor([[ 0.0000,  0.0000,  0.0000],\n",
            "        [-0.1328, -0.1908,  0.7372]])\n",
            "tensor([[0.0221, 0.4229, 0.0285],\n",
            "        [0.0023, 0.2988, 0.1531]])\n",
            "tensor([[1.0000, 1.0000, 1.0000],\n",
            "        [0.1060, 0.7067, 5.3630]])\n",
            "tensor([[0.7533, 0.7559, 0.7405],\n",
            "        [0.5397, 0.6031, 0.9835]])\n"
          ]
        }
      ]
    },
    {
      "cell_type": "markdown",
      "source": [
        "><font color = \"red\" size = 5>**NOTE:**</font> Even though the shapes are not identical, they have similarities hence could be operated. The following rules must be fulfilled for **broadcasting** to work:\n",
        "\n",
        "<ul type = \"circle\">\n",
        "  <li>Each tensor must have at least one dimension.</li>\n",
        "  <li>Compare dimensions of tensors from last to first.</li>\n",
        "    <ol>\n",
        "    <li>Each dimension must be equal, <font color = \"red\">OR</font></li>\n",
        "    <li>One of the dimensions must be of size 1, <font color = \"red\">OR</font></li>\n",
        "    <li>The dimension does not exist in one of the tensors.</li>\n",
        "    </ol>\n",
        "\n",
        "</ul>  \n",
        "Given these conditions, let us look at the previous `tensor`s."
      ],
      "metadata": {
        "id": "cu0WGuMZZjfI"
      }
    },
    {
      "cell_type": "code",
      "source": [
        "print(random_tensor.shape)\n",
        "print(other_tensor.shape)"
      ],
      "metadata": {
        "id": "uiS-qj4BVaua",
        "outputId": "fe50eb1b-4dea-4663-8e73-5bb81608ee4a",
        "colab": {
          "base_uri": "https://localhost:8080/"
        }
      },
      "execution_count": null,
      "outputs": [
        {
          "output_type": "stream",
          "name": "stdout",
          "text": [
            "torch.Size([2, 3])\n",
            "torch.Size([1, 3])\n"
          ]
        }
      ]
    },
    {
      "cell_type": "markdown",
      "source": [
        "| The `tensor` | Rows | Columns |\n",
        "|--------------|:------|:---------|\n",
        "| `random_tensor`| 2| 3|\n",
        "| `other_tensor` | 1 | 3|\n",
        "\n",
        "Looking at the two `tensor`s against the rules:\n",
        "\n",
        "<ul type = \"circle\">\n",
        "  <li>Each tensor must have at least one dimension.<font color = \"green\" size = 5><b> PASS </b></font></li>\n",
        "  <li>Compare dimensions of tensors from last to first.</li>\n",
        "    <ol>\n",
        "    <li>Each dimension must be equal, <font color = \"red\">OR</font></li>\n",
        "    <li>One of the dimensions must be of size 1, <font color = \"red\">OR <font color = \"green\" size = 5><b> PASS </b></font></font></li>\n",
        "    <li>The dimension does not exist in one of the tensors.</li>\n",
        "    </ol>\n",
        "\n",
        "</ul>\n",
        "\n",
        "So, the two `tensor`s satisfy the requirements for broadcasting to take place hence they can be operated on just like was with scalar. This is an important concept to grasp as it underlies a lot of operations in deep learning. To further sink this concept home, consider the following **broadcastable** `tensor`s:\n"
      ],
      "metadata": {
        "id": "YGRMdbFcearB"
      }
    },
    {
      "cell_type": "code",
      "source": [
        "a = torch.ones(4, 3, 2)\n",
        "b = torch.rand(   3, 2)\n",
        "print(a * b)"
      ],
      "metadata": {
        "id": "9xOYra9oVasC",
        "outputId": "3e13c74b-a994-4890-8b9e-8d9ade64ff93",
        "colab": {
          "base_uri": "https://localhost:8080/"
        }
      },
      "execution_count": null,
      "outputs": [
        {
          "output_type": "stream",
          "name": "stdout",
          "text": [
            "tensor([[[0.0158, 0.4595],\n",
            "         [0.9061, 0.9113],\n",
            "         [0.8757, 0.6538]],\n",
            "\n",
            "        [[0.0158, 0.4595],\n",
            "         [0.9061, 0.9113],\n",
            "         [0.8757, 0.6538]],\n",
            "\n",
            "        [[0.0158, 0.4595],\n",
            "         [0.9061, 0.9113],\n",
            "         [0.8757, 0.6538]],\n",
            "\n",
            "        [[0.0158, 0.4595],\n",
            "         [0.9061, 0.9113],\n",
            "         [0.8757, 0.6538]]])\n"
          ]
        }
      ]
    },
    {
      "cell_type": "markdown",
      "source": [
        "The above operation is possible because:\n",
        "\n",
        "1. Both `tensor`s have at least one dimension.\n",
        "2. From the last dimensions coming to the first, the dimensions are equal.\n",
        "3. A dimension does not exist in `tensor` `b`."
      ],
      "metadata": {
        "id": "OqFOYAoWh5WB"
      }
    },
    {
      "cell_type": "code",
      "source": [
        "a = torch.rand(4, 3, 2)\n",
        "c = torch.rand(   3, 1)\n",
        "print(a ** c)"
      ],
      "metadata": {
        "id": "G20F8IqwVapl",
        "outputId": "9cb805c2-82fd-4e8e-8b4a-250a41afa1d1",
        "colab": {
          "base_uri": "https://localhost:8080/"
        }
      },
      "execution_count": null,
      "outputs": [
        {
          "output_type": "stream",
          "name": "stdout",
          "text": [
            "tensor([[[0.3544, 0.9951],\n",
            "         [0.7225, 0.7968],\n",
            "         [0.1666, 0.4672]],\n",
            "\n",
            "        [[0.1710, 0.7572],\n",
            "         [0.6262, 0.0293],\n",
            "         [0.6357, 0.8451]],\n",
            "\n",
            "        [[0.6077, 0.4984],\n",
            "         [0.8315, 0.8361],\n",
            "         [0.5781, 0.9051]],\n",
            "\n",
            "        [[0.7544, 0.7733],\n",
            "         [0.6465, 0.7096],\n",
            "         [0.1289, 0.4218]]])\n"
          ]
        }
      ]
    },
    {
      "cell_type": "markdown",
      "source": [
        "The operation is possible because:\n",
        "<ol type = \"a\">\n",
        "<li>Both tensors have at least one dimension.</li>\n",
        "<li>One of the dimensions is 1.</li>\n",
        "<li>One of the dimensions is equal in both a and c.</li>\n",
        "</ol>  "
      ],
      "metadata": {
        "id": "_TjCSiI-jI89"
      }
    },
    {
      "cell_type": "code",
      "source": [
        "a = torch.rand(4, 3, 2)\n",
        "d = torch.rand(   1, 2)\n",
        "print(a / d)"
      ],
      "metadata": {
        "id": "HVsHGhPJVam7",
        "outputId": "90b47a87-5013-4bc2-c52d-d98e0ed0fb56",
        "colab": {
          "base_uri": "https://localhost:8080/"
        }
      },
      "execution_count": null,
      "outputs": [
        {
          "output_type": "stream",
          "name": "stdout",
          "text": [
            "tensor([[[1.6133, 1.3889],\n",
            "         [0.1296, 0.0552],\n",
            "         [1.4020, 0.0900]],\n",
            "\n",
            "        [[0.4603, 1.2146],\n",
            "         [0.0323, 1.3905],\n",
            "         [0.7545, 1.0433]],\n",
            "\n",
            "        [[0.2705, 1.0885],\n",
            "         [1.6729, 1.0340],\n",
            "         [1.4824, 0.2456]],\n",
            "\n",
            "        [[0.3745, 1.4759],\n",
            "         [0.7574, 1.3992],\n",
            "         [0.7349, 0.9948]]])\n"
          ]
        }
      ]
    },
    {
      "cell_type": "markdown",
      "source": [
        "The above operation is possible because:\n",
        "<ol type = \"i\">\n",
        "  <li>Both tensors have at least one dimension.</li>\n",
        "  <li>One of the dimensions is 1.</li>\n",
        "  <li>One of the dimensions is equal in both a and d.</li>\n",
        "</ol>"
      ],
      "metadata": {
        "id": "NSHTBeAVkmGB"
      }
    },
    {
      "cell_type": "markdown",
      "source": [
        "## **Additional useful math with `tensors`**"
      ],
      "metadata": {
        "id": "oDRWOEZfmyGU"
      }
    },
    {
      "cell_type": "code",
      "source": [
        "# Common functions\n",
        "\n",
        "torch.manual_seed(248)\n",
        "random_tensor = torch.rand(2, 3)\n",
        "print(torch.abs(random_tensor)) # Returns non negative values in the tensor. Of course all of them because they range from 0 to 1.\n",
        "print(torch.ceil(random_tensor)) #\n",
        "print(torch.floor(random_tensor))\n",
        "print(torch.clamp(random_tensor, -0.5, 0.5))\n",
        "print(f\"Max: {torch.max(random_tensor)}\")\n",
        "print(f\"Min: {torch.min(random_tensor)}\")\n",
        "print(f\"Mean: {torch.mean(random_tensor)}\")\n",
        "print(f\"Median: {torch.median(random_tensor)}\")\n",
        "print(f\"Std: {torch.std(random_tensor)}\")\n",
        "print(f\"Var: {torch.var(random_tensor)}\")\n",
        "print(f\"Product: {torch.prod(random_tensor)}\")\n",
        "print(f\"Unique: {torch.unique(random_tensor)}\")"
      ],
      "metadata": {
        "id": "EBm-yppQVaiB",
        "outputId": "ced9eeda-19e2-4283-9abf-a56b62bd5007",
        "colab": {
          "base_uri": "https://localhost:8080/"
        }
      },
      "execution_count": null,
      "outputs": [
        {
          "output_type": "stream",
          "name": "stdout",
          "text": [
            "tensor([[0.1486, 0.6503, 0.1690],\n",
            "        [0.0158, 0.4595, 0.9061]])\n",
            "tensor([[1., 1., 1.],\n",
            "        [1., 1., 1.]])\n",
            "tensor([[0., 0., 0.],\n",
            "        [0., 0., 0.]])\n",
            "tensor([[0.1486, 0.5000, 0.1690],\n",
            "        [0.0158, 0.4595, 0.5000]])\n",
            "Max: 0.9061495661735535\n",
            "Min: 0.01575601100921631\n",
            "Mean: 0.3915477693080902\n",
            "Median: 0.16896241903305054\n",
            "Std: 0.3424002230167389\n",
            "Var: 0.11723791062831879\n",
            "Product: 0.0001071081351255998\n",
            "Unique: tensor([0.0158, 0.1486, 0.1690, 0.4595, 0.6503, 0.9061])\n"
          ]
        }
      ]
    },
    {
      "cell_type": "code",
      "source": [
        "# Comparisons\n",
        "torch.manual_seed(248)\n",
        "random_tensor = torch.rand(2, 3)\n",
        "torch.manual_seed(248)\n",
        "other_tensor = torch.rand(1, 3)\n",
        "print(torch.eq(random_tensor, other_tensor)) # Returns boolean with True where elements are equal and False otherwise."
      ],
      "metadata": {
        "id": "yYaNAtgKVaey",
        "outputId": "ccbd95c3-fd2f-46b5-fd9a-29bb39cf137b",
        "colab": {
          "base_uri": "https://localhost:8080/"
        }
      },
      "execution_count": null,
      "outputs": [
        {
          "output_type": "stream",
          "name": "stdout",
          "text": [
            "tensor([[ True,  True,  True],\n",
            "        [False, False, False]])\n"
          ]
        }
      ]
    },
    {
      "cell_type": "markdown",
      "source": [
        "# **Copying `tensor`s**\n",
        "\n",
        "As is the case with any other objects in Python, assigning a `tensor` to a new variable name makes the new variable just a _label_ to the original `tensor`. This means that a new copy is <font color = \"red\" size = 5>**NOT**</font> created. If you alter values in the new variable, values in the original variable also change. For example:"
      ],
      "metadata": {
        "id": "QDvZkkC3seMq"
      }
    },
    {
      "cell_type": "code",
      "source": [
        "torch.manual_seed(248)\n",
        "random_tensor = torch.rand(2, 3)\n",
        "print(f\"Random tensor: \\n {random_tensor}\")\n",
        "\n",
        "new_random_tensor = random_tensor # Creating new label to the original random_tensor.\n",
        "\n",
        "print(f\"New random tensor: \\n{new_random_tensor}\")"
      ],
      "metadata": {
        "id": "83eximoetR5R",
        "outputId": "f96e9825-b31d-4a30-e2b6-ad6ddeb6891c",
        "colab": {
          "base_uri": "https://localhost:8080/"
        }
      },
      "execution_count": null,
      "outputs": [
        {
          "output_type": "stream",
          "name": "stdout",
          "text": [
            "Random tensor: \n",
            " tensor([[0.1486, 0.6503, 0.1690],\n",
            "        [0.0158, 0.4595, 0.9061]])\n",
            "New random tensor: \n",
            "tensor([[0.1486, 0.6503, 0.1690],\n",
            "        [0.0158, 0.4595, 0.9061]])\n"
          ]
        }
      ]
    },
    {
      "cell_type": "code",
      "source": [
        "# Let us manipulate the new ranom tensor\n",
        "\n",
        "new_random_tensor[0][0] = 2\n",
        "print(new_random_tensor)"
      ],
      "metadata": {
        "id": "0PZDrYQZtR13",
        "outputId": "715bf469-9c27-4320-b012-574d7f852832",
        "colab": {
          "base_uri": "https://localhost:8080/"
        }
      },
      "execution_count": null,
      "outputs": [
        {
          "output_type": "stream",
          "name": "stdout",
          "text": [
            "tensor([[2.0000, 0.6503, 0.1690],\n",
            "        [0.0158, 0.4595, 0.9061]])\n"
          ]
        }
      ]
    },
    {
      "cell_type": "code",
      "source": [
        "# Let's check what happened to the original random tensor\n",
        "print(random_tensor)"
      ],
      "metadata": {
        "id": "4pJkAM48tRzg",
        "outputId": "a384c882-d49d-4b50-e178-8c490147ebba",
        "colab": {
          "base_uri": "https://localhost:8080/"
        }
      },
      "execution_count": null,
      "outputs": [
        {
          "output_type": "stream",
          "name": "stdout",
          "text": [
            "tensor([[2.0000, 0.6503, 0.1690],\n",
            "        [0.0158, 0.4595, 0.9061]])\n"
          ]
        }
      ]
    },
    {
      "cell_type": "markdown",
      "source": [
        "><font color = \"red\" size = 5>**NOTE:**</font> The value has changed here too. This is because the labels are referring to the same object in memory.\n",
        "\n",
        "To have a separate copy of the original `tensor` to work with, you can use the **clone**  method as follows:"
      ],
      "metadata": {
        "id": "uwcbt0KZunyX"
      }
    },
    {
      "cell_type": "code",
      "source": [
        "torch.manual_seed(248)\n",
        "random_tensor = torch.rand(2, 3)\n",
        "print(random_tensor)\n",
        "\n",
        "new_random_tensor = random_tensor.clone()\n",
        "\n",
        "# Manipulate the new random tensor.\n",
        "new_random_tensor[0][0] = 2\n",
        "print(f\"Random tensor: \\n {random_tensor}\")\n",
        "print(f\"New random tensor: \\n {new_random_tensor}\")\n",
        "# The random tensor remains unchanged."
      ],
      "metadata": {
        "id": "bK9Iqn1ftRwz",
        "outputId": "9438a088-2ec5-47ea-c1ae-5c12dfa61204",
        "colab": {
          "base_uri": "https://localhost:8080/"
        }
      },
      "execution_count": null,
      "outputs": [
        {
          "output_type": "stream",
          "name": "stdout",
          "text": [
            "tensor([[0.1486, 0.6503, 0.1690],\n",
            "        [0.0158, 0.4595, 0.9061]])\n",
            "Random tensor: \n",
            " tensor([[0.1486, 0.6503, 0.1690],\n",
            "        [0.0158, 0.4595, 0.9061]])\n",
            "New random tensor: \n",
            " tensor([[2.0000, 0.6503, 0.1690],\n",
            "        [0.0158, 0.4595, 0.9061]])\n"
          ]
        }
      ]
    },
    {
      "cell_type": "code",
      "source": [
        "assert random_tensor is not new_random_tensor\n",
        "torch.eq(random_tensor, new_random_tensor)"
      ],
      "metadata": {
        "id": "1Jq7zao1tRuU",
        "outputId": "fd0d8271-ef45-49fe-9bc6-fe86caa11667",
        "colab": {
          "base_uri": "https://localhost:8080/"
        }
      },
      "execution_count": null,
      "outputs": [
        {
          "output_type": "execute_result",
          "data": {
            "text/plain": [
              "tensor([[False,  True,  True],\n",
              "        [ True,  True,  True]])"
            ]
          },
          "metadata": {},
          "execution_count": 74
        }
      ]
    },
    {
      "cell_type": "markdown",
      "source": [
        "# **Working on Graphical Processing Units**\n",
        "\n",
        "So far we have been working on the Central Processing Unit, CPU. However, normally we would be compelled to use GPUs because of accelerated computation. `PyTorch` excels in utilizing NVIDIA GPUs that are Compute Unified Device Architecture (CUDA) compatible. There are two things here:\n",
        "1. Check whether your machine has CUDA.\n",
        "2. If working on colab, you can set GPU by going to **Runtime tab ==> Change runtime type ==> Hardware Accelerator T4 GPU**. You can also access other GPUs or TPU if you have paid version."
      ],
      "metadata": {
        "id": "2HYx8DIA2fR7"
      }
    },
    {
      "cell_type": "markdown",
      "source": [
        "><font color = \"red\" size = 5>**NOTE:**</font> If running on colab, consider changing Runtime only after testing everything on CPU and very ready to run your code. This is because when using the paid version, you can get timed out. In fact, colab will warn you if you enable GPU but do not use it.\n",
        "\n",
        "First we will check whether we have CUDA."
      ],
      "metadata": {
        "id": "gffpGeTk4Dat"
      }
    },
    {
      "cell_type": "code",
      "source": [
        "torch.cuda.is_available() # If CUDA is available, this will return true. Currently it is False."
      ],
      "metadata": {
        "id": "WOA5EAWm4sQe",
        "outputId": "f96ea59d-4cd3-472c-c7b3-7b27e9f876a3",
        "colab": {
          "base_uri": "https://localhost:8080/"
        }
      },
      "execution_count": null,
      "outputs": [
        {
          "output_type": "execute_result",
          "data": {
            "text/plain": [
              "False"
            ]
          },
          "metadata": {},
          "execution_count": 77
        }
      ]
    },
    {
      "cell_type": "markdown",
      "source": [
        "Another fancy way to put it:"
      ],
      "metadata": {
        "id": "bF8CrFeI5EbO"
      }
    },
    {
      "cell_type": "code",
      "source": [
        "if torch.cuda.is_available():\n",
        "  print(\"Yeeeey!! we have CUDA, we are going to enjoy faster computation!!\")\n",
        "else:\n",
        "  print(\"Sorry, we only have to bear with the tortoise speed of CPU for now. \")"
      ],
      "metadata": {
        "id": "uDjJ-Ktx4sM-",
        "outputId": "5c0adbe7-4316-4d9e-e89a-9be31047264c",
        "colab": {
          "base_uri": "https://localhost:8080/"
        }
      },
      "execution_count": null,
      "outputs": [
        {
          "output_type": "stream",
          "name": "stdout",
          "text": [
            "Sorry, we only have to bear with the tortoise speed of CPU for now :) \n"
          ]
        }
      ]
    },
    {
      "cell_type": "markdown",
      "source": [
        "When working on CPU, your data which are being computed are placed on the Random Access Memory of the computer. Unfortunately, GPU does not \"see\" the RAM. Therefore, we have to move data to a memory where GPU can \"see\" it and do the computation. Accordingly, we \"move data to GPU\". This is an important consideration when buying a GPU. It is important to know how much data it can hold and do computation on at one go. Generally, a GPU with memory of at least 16 Gbs should be sufficient for most of the task here. However, the more the better when having a lot of data loaded for computation at the same time.\n",
        "\n",
        "All computers have CPU, however, some may not have CUDA enabled GPUs. So, when deciding on whether to use CUDA or not, we should write a logical statement which checks whether CUDA is available, so that it can be used. If CUDA is not available, then we let the computation to happen on the CPU. This we do as follows:"
      ],
      "metadata": {
        "id": "gKMDFgqg6YEt"
      }
    },
    {
      "cell_type": "code",
      "source": [
        "if torch.cuda.is_available():\n",
        "  torch.manual_seed(248)\n",
        "  gpu_rand = torch.rand(2, 3, device = \"cuda\")\n",
        "  print(gpu_rand)\n",
        "else:\n",
        "  print(\"Sorry, we only have CPU for now!\")\n"
      ],
      "metadata": {
        "id": "JlKtiA4X4sKU",
        "outputId": "fee65879-ca89-440f-d663-6068c68185e4",
        "colab": {
          "base_uri": "https://localhost:8080/"
        }
      },
      "execution_count": null,
      "outputs": [
        {
          "output_type": "stream",
          "name": "stdout",
          "text": [
            "Sorry, we only have CPU for now!\n"
          ]
        }
      ]
    },
    {
      "cell_type": "markdown",
      "source": [
        "Now, in a typical deep learning workflow, we would not be repeatedly doing this. It would be efficient to create a variable name **device** which holds cuda if available or defaults to cpu. So whenever we want to put data or model to GPU or CPU we only provide the name **device**. This we can define logically as follows:"
      ],
      "metadata": {
        "id": "iyc6D2nb8zTI"
      }
    },
    {
      "cell_type": "code",
      "source": [
        "if torch.cuda.is_available():\n",
        "  device = torch.device('gpu')\n",
        "else:\n",
        "  device = torch.device('cpu')\n",
        "\n",
        "print(device)"
      ],
      "metadata": {
        "id": "fVMu9ITD4sHy",
        "outputId": "d4217bb8-66d1-4d5c-da12-0b42ccbb3f1d",
        "colab": {
          "base_uri": "https://localhost:8080/"
        }
      },
      "execution_count": null,
      "outputs": [
        {
          "output_type": "stream",
          "name": "stdout",
          "text": [
            "cpu\n"
          ]
        }
      ]
    },
    {
      "cell_type": "markdown",
      "source": [
        "Now you can create a `tensor` and specify the device it should be on. Depending on the device you have. Remember the default is CPU."
      ],
      "metadata": {
        "id": "DfPMKGIA-WAL"
      }
    },
    {
      "cell_type": "code",
      "source": [
        "torch.manual_seed(248)\n",
        "random_tensor = torch.rand(2, 3, device = device)\n",
        "print(random_tensor)"
      ],
      "metadata": {
        "id": "f7KTWl0j4sFN",
        "outputId": "d601d56a-9299-4894-d70e-659cbe69c872",
        "colab": {
          "base_uri": "https://localhost:8080/"
        }
      },
      "execution_count": null,
      "outputs": [
        {
          "output_type": "stream",
          "name": "stdout",
          "text": [
            "tensor([[0.1486, 0.6503, 0.1690],\n",
            "        [0.0158, 0.4595, 0.9061]])\n"
          ]
        }
      ]
    },
    {
      "cell_type": "markdown",
      "source": [
        "If you already had a tensor and want to move it to device, you can use the `.to` method as follows:"
      ],
      "metadata": {
        "id": "P9k-gAPj-4Mf"
      }
    },
    {
      "cell_type": "code",
      "source": [
        "new_random_tensor = random_tensor.to(device)\n",
        "print(new_random_tensor)"
      ],
      "metadata": {
        "id": "GI6uPYly4sCz",
        "outputId": "729e623e-f34f-4cb7-aea1-c498152bdeb6",
        "colab": {
          "base_uri": "https://localhost:8080/"
        }
      },
      "execution_count": null,
      "outputs": [
        {
          "output_type": "stream",
          "name": "stdout",
          "text": [
            "tensor([[0.1486, 0.6503, 0.1690],\n",
            "        [0.0158, 0.4595, 0.9061]])\n"
          ]
        }
      ]
    },
    {
      "cell_type": "markdown",
      "source": [],
      "metadata": {
        "id": "ZHiPZW4DBi4B"
      }
    },
    {
      "cell_type": "markdown",
      "source": [
        "# **Handling `tensor` shapes**\n",
        "\n",
        "Shapes of `tensor`s can be changed to suit some operations on them. For example, you may want to add or remove a dimension. Remember, when supplied images for analysis in `PyTorch`, they are normally taken in **batches** or **mini-batches**. This means, several images are taken at a time for training the model. For example, 16 images. This is therefore adding another dimension to the image `tensor`s. For example, if your image has 64 rows and 64 channels, then you pick 16 of them, then the tensor is of shape ([16, 64, 64]). However, if each image has 3 color channels/bands, then you end up with ([16, 3, 64, 64]). This results into a convention called N, C, H, W.\n",
        "1. N ==> Number of batches or mini-batches.\n",
        "2. C ==> Number of channels/bands per image.\n",
        "3. H ==> Number of rows per image.\n",
        "4. W ==> Number of columns per image."
      ],
      "metadata": {
        "id": "Quygse4cPGps"
      }
    },
    {
      "cell_type": "markdown",
      "source": [
        "## **unsqueeze**\n",
        "\n",
        "This is the function which we use to add a dimension to a `tensor`. For example, if we have a single image with three channels, say ([3, 64, 64]), we may need to unsquueze it before passing it to the model. The model expends N dimension to, even if it is a batch of 1 image. This we can attain as follows:  "
      ],
      "metadata": {
        "id": "SoxVC83yRkjm"
      }
    },
    {
      "cell_type": "code",
      "source": [
        "torch.manual_seed(248)\n",
        "random_tensor = torch.rand(3, 64, 64)\n",
        "print(random_tensor.shape)\n"
      ],
      "metadata": {
        "id": "9kS5iDTs4r_h",
        "outputId": "f92bdf6a-691b-4439-d86c-0fc5fc28e318",
        "colab": {
          "base_uri": "https://localhost:8080/"
        }
      },
      "execution_count": 3,
      "outputs": [
        {
          "output_type": "stream",
          "name": "stdout",
          "text": [
            "torch.Size([3, 64, 64])\n"
          ]
        }
      ]
    },
    {
      "cell_type": "code",
      "source": [
        "# Unsqueeze it, that is add N (batch) dimension.\n",
        "unsqueeze_random_tensor = random_tensor.unsqueeze(dim=0) # Specify 0 as index of first dimension\n",
        "print(unsqueeze_random_tensor.shape)\n"
      ],
      "metadata": {
        "id": "6mCc7sMk4r9Y",
        "outputId": "cd4e134c-dce1-4d7c-d3b3-63b6417f5863",
        "colab": {
          "base_uri": "https://localhost:8080/"
        }
      },
      "execution_count": 6,
      "outputs": [
        {
          "output_type": "stream",
          "name": "stdout",
          "text": [
            "torch.Size([1, 3, 64, 64])\n"
          ]
        }
      ]
    },
    {
      "cell_type": "markdown",
      "source": [
        "Now it is clear that a dimension with extent 1 has been added. Now we have **([1, 3, 64, 64])**, meaning **N = 1, C = 3, H = 64,** and **W = 64**.\n",
        "This can therefore be pushed to model training. Remember, by adding the dimension, we have not changed the data in the object. In fact, dimension of extent 1 does not change the number of elements in a `tensor`. For example, let us create a `tensor` of dimension 1, then unsqueze it even twice and print the final value."
      ],
      "metadata": {
        "id": "gQEn7npFTFpC"
      }
    },
    {
      "cell_type": "code",
      "source": [
        "torch.manual_seed(248)\n",
        "random_tensor = torch.rand(1)\n",
        "print(random_tensor)\n",
        "print(random_tensor.unsqueeze(0).unsqueeze(0))"
      ],
      "metadata": {
        "id": "-0dkkrd34r6v",
        "outputId": "65226827-1d6e-41a7-e79f-dff622266824",
        "colab": {
          "base_uri": "https://localhost:8080/"
        }
      },
      "execution_count": 14,
      "outputs": [
        {
          "output_type": "stream",
          "name": "stdout",
          "text": [
            "tensor([0.1486])\n",
            "tensor([[[0.1486]]])\n"
          ]
        }
      ]
    },
    {
      "cell_type": "markdown",
      "source": [
        "Note that the value remains the same 0.1486. No change, but the number of dimensions change. As confirmed below."
      ],
      "metadata": {
        "id": "SYdDZlO8WWEb"
      }
    },
    {
      "cell_type": "code",
      "source": [
        "torch.manual_seed(248)\n",
        "random_tensor = torch.rand(1)\n",
        "print(random_tensor.shape)\n",
        "print(random_tensor.unsqueeze(0).unsqueeze(0).shape)"
      ],
      "metadata": {
        "id": "Xlfa-DyfURnJ",
        "outputId": "968f1a5d-23ac-471d-b316-33399a9c186a",
        "colab": {
          "base_uri": "https://localhost:8080/"
        }
      },
      "execution_count": 15,
      "outputs": [
        {
          "output_type": "stream",
          "name": "stdout",
          "text": [
            "torch.Size([1])\n",
            "torch.Size([1, 1, 1])\n"
          ]
        }
      ]
    },
    {
      "cell_type": "markdown",
      "source": [
        "## **squeeze**\n",
        "\n",
        "This is doing the opposite of **unsqueeze**. It is removing a dimension with extent 1 from a `tensor`. For example, sometimes you might have a `tensor` which contains 20 elements but it is of dimension ([1, 20]). This means that the first dimension could just be a batch. So, to extract the actual 20 values from this `tensor`, we can squeeze it as follows:"
      ],
      "metadata": {
        "id": "7XscH7NEXhJ5"
      }
    },
    {
      "cell_type": "code",
      "source": [
        "torch.manual_seed(248)\n",
        "random_tensor = torch.rand(1, 20)\n",
        "print(random_tensor)\n",
        "print(random_tensor.shape) # The shape is ([1, 20])"
      ],
      "metadata": {
        "id": "4duNq557URjv",
        "outputId": "06e775fb-f345-49a4-a24b-76e3546c2594",
        "colab": {
          "base_uri": "https://localhost:8080/"
        }
      },
      "execution_count": 22,
      "outputs": [
        {
          "output_type": "stream",
          "name": "stdout",
          "text": [
            "tensor([[0.1486, 0.6503, 0.1690, 0.0158, 0.4595, 0.9061, 0.9113, 0.8757, 0.6538,\n",
            "         0.3453, 0.9950, 0.6857, 0.7683, 0.0785, 0.3395, 0.1636, 0.7520, 0.5809,\n",
            "         0.0166, 0.5257]])\n",
            "torch.Size([1, 20])\n"
          ]
        }
      ]
    },
    {
      "cell_type": "code",
      "source": [
        "torch.manual_seed(248)\n",
        "random_tensor = torch.rand(1, 20)\n",
        "print(random_tensor.squeeze())\n",
        "print(random_tensor.squeeze().shape) # The shape is now ([20])"
      ],
      "metadata": {
        "id": "_FjQobXWURg_",
        "outputId": "ed859f89-3824-436e-ca1c-6c94d06d1f16",
        "colab": {
          "base_uri": "https://localhost:8080/"
        }
      },
      "execution_count": 23,
      "outputs": [
        {
          "output_type": "stream",
          "name": "stdout",
          "text": [
            "tensor([0.1486, 0.6503, 0.1690, 0.0158, 0.4595, 0.9061, 0.9113, 0.8757, 0.6538,\n",
            "        0.3453, 0.9950, 0.6857, 0.7683, 0.0785, 0.3395, 0.1636, 0.7520, 0.5809,\n",
            "        0.0166, 0.5257])\n",
            "torch.Size([20])\n"
          ]
        }
      ]
    },
    {
      "cell_type": "markdown",
      "source": [
        "><font color = \"red\" size = 5>**NOTE:**</font> Unsqueze can help us to handle broadcasting. Remember in broadcasting, there is that rule about a dimension having extent 1. This is exactly what unsqueeze does, it adds a dimension of extent 1. This means that when we lack such, we can add it to enable our operation run."
      ],
      "metadata": {
        "id": "rRRUJiPtbCWr"
      }
    },
    {
      "cell_type": "code",
      "source": [
        "torch.manual_seed(248)\n",
        "random_tensor = torch.rand(4, 3, 2)\n",
        "torch.manual_seed(248)\n",
        "other_tensor = torch.rand(3)\n",
        "\n",
        "print(random_tensor.shape) # Note second last dimension has value 3.\n",
        "print(other_tensor.shape) # The extent of 0th dimension is also 3."
      ],
      "metadata": {
        "id": "C_kknhd6UReg",
        "outputId": "db132561-e9ee-4c7b-f830-58aba14560ec",
        "colab": {
          "base_uri": "https://localhost:8080/"
        }
      },
      "execution_count": 25,
      "outputs": [
        {
          "output_type": "stream",
          "name": "stdout",
          "text": [
            "torch.Size([4, 3, 2])\n",
            "torch.Size([3])\n"
          ]
        }
      ]
    },
    {
      "cell_type": "markdown",
      "source": [
        "In the above case, we can only add another dimension in the `other_tensor` in order to make it have extent 1 in the last dimension. The second last dimension will be 3 (same as random_tensor) and there is a missing dimension. This makes broadcasting work. Currently it cannot work as follows:"
      ],
      "metadata": {
        "id": "2HnfAYx-co5_"
      }
    },
    {
      "cell_type": "code",
      "source": [
        "# print(random_tensor + other_tensor) # This is returning Runtime error when run."
      ],
      "metadata": {
        "id": "dl1midMhURb0"
      },
      "execution_count": 27,
      "outputs": []
    },
    {
      "cell_type": "code",
      "source": [
        "torch.manual_seed(248)\n",
        "random_tensor = torch.rand(4, 3, 2)\n",
        "torch.manual_seed(248)\n",
        "other_tensor = torch.rand(3).unsqueeze(1)\n",
        "\n",
        "print(random_tensor.shape)\n",
        "print(other_tensor.shape) # Now they can be operated because last dimension is 1 and second last is 3 which is similar in both cases."
      ],
      "metadata": {
        "id": "aK4B0CjZURZA",
        "outputId": "fc465533-c23e-48c0-af99-e0ab18df6980",
        "colab": {
          "base_uri": "https://localhost:8080/"
        }
      },
      "execution_count": 30,
      "outputs": [
        {
          "output_type": "stream",
          "name": "stdout",
          "text": [
            "torch.Size([4, 3, 2])\n",
            "torch.Size([3, 1])\n"
          ]
        }
      ]
    },
    {
      "cell_type": "code",
      "source": [
        "print(random_tensor ** other_tensor) # This can now work."
      ],
      "metadata": {
        "id": "O57jne9vURQF",
        "outputId": "acf721b9-7fe2-457c-a11f-53c0eba2f8a7",
        "colab": {
          "base_uri": "https://localhost:8080/"
        }
      },
      "execution_count": 33,
      "outputs": [
        {
          "output_type": "stream",
          "name": "stdout",
          "text": [
            "tensor([[[0.7533, 0.9381],\n",
            "         [0.3147, 0.0673],\n",
            "         [0.8769, 0.9835]],\n",
            "\n",
            "        [[0.9863, 0.9805],\n",
            "         [0.7585, 0.5008],\n",
            "         [0.9991, 0.9382]],\n",
            "\n",
            "        [[0.9616, 0.6852],\n",
            "         [0.4954, 0.3081],\n",
            "         [0.9530, 0.9123]],\n",
            "\n",
            "        [[0.5441, 0.9089],\n",
            "         [0.8561, 0.7175],\n",
            "         [0.8864, 0.9645]]])\n"
          ]
        }
      ]
    },
    {
      "cell_type": "markdown",
      "source": [
        "## **reshape**\n",
        "\n",
        "The last bit of this section on handling `tensor` shapes is reshape. This is important when we want to convert, for instance, an image shape to linear shape. The linear shape will normally be 1 dimensional. Imagine it as instead of having a tensor of [64,64], you end up having a tensor of 64 * 64. That is all values in the original image are now held, poured out, as a single 'vector'. See the following:"
      ],
      "metadata": {
        "id": "sLPC-_87eDy7"
      }
    },
    {
      "cell_type": "code",
      "source": [
        "torch.manual_seed(248)\n",
        "random_tensor = torch.rand(2, 3)\n",
        "print(random_tensor.shape)\n",
        "reshaped_tensor = random_tensor.reshape(2 * 3)\n",
        "print(reshaped_tensor.shape) # This is now a single dimension tensor with 6 elements in it."
      ],
      "metadata": {
        "id": "m88_NouSUROH",
        "outputId": "6fce7603-4038-48db-db29-8d129f9e725d",
        "colab": {
          "base_uri": "https://localhost:8080/"
        }
      },
      "execution_count": 36,
      "outputs": [
        {
          "output_type": "stream",
          "name": "stdout",
          "text": [
            "torch.Size([2, 3])\n",
            "torch.Size([6])\n"
          ]
        }
      ]
    },
    {
      "cell_type": "code",
      "source": [
        "# We can print both of them to see how the elements are arranged:\n",
        "\n",
        "print(random_tensor)\n",
        "print(reshaped_tensor) # Elements spread out"
      ],
      "metadata": {
        "id": "d9g50OTZURLr",
        "outputId": "936aabb0-13b1-4be6-80a4-38ed750a2068",
        "colab": {
          "base_uri": "https://localhost:8080/"
        }
      },
      "execution_count": 38,
      "outputs": [
        {
          "output_type": "stream",
          "name": "stdout",
          "text": [
            "tensor([[0.1486, 0.6503, 0.1690],\n",
            "        [0.0158, 0.4595, 0.9061]])\n",
            "tensor([0.1486, 0.6503, 0.1690, 0.0158, 0.4595, 0.9061])\n"
          ]
        }
      ]
    },
    {
      "cell_type": "markdown",
      "source": [
        "Of course you can reshape the reshaped tensor to take it back to the original."
      ],
      "metadata": {
        "id": "-TbIr9vEgfZz"
      }
    },
    {
      "cell_type": "code",
      "source": [
        "back_to_original = reshaped_tensor.reshape(2, 3)\n",
        "back_to_original"
      ],
      "metadata": {
        "id": "HeQTEPKrgCnc",
        "outputId": "9ae8d1a1-1791-45ae-b502-4f29bd0c8f2e",
        "colab": {
          "base_uri": "https://localhost:8080/"
        }
      },
      "execution_count": 42,
      "outputs": [
        {
          "output_type": "execute_result",
          "data": {
            "text/plain": [
              "tensor([[0.1486, 0.6503, 0.1690],\n",
              "        [0.0158, 0.4595, 0.9061]])"
            ]
          },
          "metadata": {},
          "execution_count": 42
        }
      ]
    },
    {
      "cell_type": "markdown",
      "source": [
        "## **`Numpy` `ndarrays` and PyTorch `tensors` exchange**\n",
        "\n",
        "One may already have data in numpy ndarray and wants to convert them directly to `tensor`s or vise versa. This is normally a very easy thing to do as indicated below:"
      ],
      "metadata": {
        "id": "rdFtdXSNiJ9b"
      }
    },
    {
      "cell_type": "code",
      "source": [
        "import numpy as np\n",
        "np.random.seed(248)\n",
        "np_arrays = np.random.rand(2, 3)\n",
        "print(np_arrays)"
      ],
      "metadata": {
        "id": "FK_2vsYZibQm",
        "outputId": "d4ca0e58-3c22-4bfd-e0ca-94a98f4cf99b",
        "colab": {
          "base_uri": "https://localhost:8080/"
        }
      },
      "execution_count": 46,
      "outputs": [
        {
          "output_type": "stream",
          "name": "stdout",
          "text": [
            "[[0.69198662 0.48503501 0.02913885]\n",
            " [0.56996588 0.84630373 0.99216786]]\n"
          ]
        }
      ]
    },
    {
      "cell_type": "code",
      "source": [
        "# Convert to tensor\n",
        "\n",
        "tensor_from_numpy = torch.from_numpy(np_arrays)\n",
        "print(tensor_from_numpy)"
      ],
      "metadata": {
        "id": "nmx3jbpOibNH",
        "outputId": "ce1970bb-edd7-48a1-9310-9a079f276ede",
        "colab": {
          "base_uri": "https://localhost:8080/"
        }
      },
      "execution_count": 50,
      "outputs": [
        {
          "output_type": "stream",
          "name": "stdout",
          "text": [
            "tensor([[0.6920, 0.4850, 0.0291],\n",
            "        [0.5700, 0.8463, 0.9922]], dtype=torch.float64)\n"
          ]
        }
      ]
    },
    {
      "cell_type": "markdown",
      "source": [
        "Note that not only is the conversion successful, but also that the default data type of float64 from numpy is also inherited. In the next cell we show how to convert from `tensor` back to numpy."
      ],
      "metadata": {
        "id": "IIM29WwukCNJ"
      }
    },
    {
      "cell_type": "code",
      "source": [
        "back_to_numpy = tensor_from_numpy.numpy()\n",
        "print(back_to_numpy)"
      ],
      "metadata": {
        "id": "zBc148HygCkA",
        "outputId": "bd12e729-5fd0-4beb-dc23-f9a4fc45eec1",
        "colab": {
          "base_uri": "https://localhost:8080/"
        }
      },
      "execution_count": 51,
      "outputs": [
        {
          "output_type": "stream",
          "name": "stdout",
          "text": [
            "[[0.69198662 0.48503501 0.02913885]\n",
            " [0.56996588 0.84630373 0.99216786]]\n"
          ]
        }
      ]
    },
    {
      "cell_type": "markdown",
      "source": [
        "><font color = \"magenta\" size = 5>**NOTE:**</font> When converting between `ndarray` and `tensor`, the new object will share same memory as the former. Therefore, any changes in the data will affect both. For example:"
      ],
      "metadata": {
        "id": "JhyQR6PolFxL"
      }
    },
    {
      "cell_type": "code",
      "source": [
        "back_to_numpy[0][0] = 248\n",
        "\n",
        "print(back_to_numpy)\n",
        "print(tensor_from_numpy)"
      ],
      "metadata": {
        "id": "VWLeP0KegCia",
        "outputId": "c139a5e8-005a-4130-fc49-6ece9724b144",
        "colab": {
          "base_uri": "https://localhost:8080/"
        }
      },
      "execution_count": 52,
      "outputs": [
        {
          "output_type": "stream",
          "name": "stdout",
          "text": [
            "[[2.48000000e+02 4.85035006e-01 2.91388539e-02]\n",
            " [5.69965875e-01 8.46303728e-01 9.92167859e-01]]\n",
            "tensor([[2.4800e+02, 4.8504e-01, 2.9139e-02],\n",
            "        [5.6997e-01, 8.4630e-01, 9.9217e-01]], dtype=torch.float64)\n"
          ]
        }
      ]
    },
    {
      "cell_type": "markdown",
      "source": [
        "## **Exercises**\n",
        "\n",
        "1. Create a tensor with random integers between 0 and 10 called `ten` of shape 5 by 7. Ensure the dtype is `int16`. Ensure you set manual seed, preferably **248** so that you get same answer as my `tensor`.\n",
        "2. In the `ten` created, index element in row 3 column 4.\n",
        "  * Print it as a `tensor`\n",
        "  * print it as an item\n",
        "3. Slice the `ten` from rows 3 to 4 and columns 4 to 6.\n",
        "4. Why will each of the following fail?"
      ],
      "metadata": {
        "id": "n3Bl_2mEmXpi"
      }
    },
    {
      "cell_type": "code",
      "source": [
        "a = torch.ones(4, 3, 2)\n",
        "b = torch.rand(4, 3)\n",
        "\n",
        "print(a + b)"
      ],
      "metadata": {
        "id": "paH_iUTeVacO"
      },
      "execution_count": null,
      "outputs": []
    },
    {
      "cell_type": "code",
      "source": [
        "c = torch.rand(  2, 3)\n",
        "print(a ** c)"
      ],
      "metadata": {
        "id": "mRn8mLHYVaZr"
      },
      "execution_count": null,
      "outputs": []
    },
    {
      "cell_type": "code",
      "source": [
        "d = torch.rand(0, )\n",
        "print(a - d)"
      ],
      "metadata": {
        "id": "WJeDm8aTVaXd",
        "outputId": "96d3670d-36aa-43fd-d2ce-b7d24edaaef6",
        "colab": {
          "base_uri": "https://localhost:8080/",
          "height": 158
        }
      },
      "execution_count": null,
      "outputs": [
        {
          "output_type": "error",
          "ename": "RuntimeError",
          "evalue": "The size of tensor a (2) must match the size of tensor b (0) at non-singleton dimension 2",
          "traceback": [
            "\u001b[0;31m---------------------------------------------------------------------------\u001b[0m",
            "\u001b[0;31mRuntimeError\u001b[0m                              Traceback (most recent call last)",
            "\u001b[0;32m<ipython-input-32-fad215fb40ed>\u001b[0m in \u001b[0;36m<cell line: 0>\u001b[0;34m()\u001b[0m\n\u001b[1;32m      1\u001b[0m \u001b[0md\u001b[0m \u001b[0;34m=\u001b[0m \u001b[0mtorch\u001b[0m\u001b[0;34m.\u001b[0m\u001b[0mrand\u001b[0m\u001b[0;34m(\u001b[0m\u001b[0;36m0\u001b[0m\u001b[0;34m,\u001b[0m \u001b[0;34m)\u001b[0m\u001b[0;34m\u001b[0m\u001b[0;34m\u001b[0m\u001b[0m\n\u001b[0;32m----> 2\u001b[0;31m \u001b[0mprint\u001b[0m\u001b[0;34m(\u001b[0m\u001b[0ma\u001b[0m \u001b[0;34m-\u001b[0m \u001b[0md\u001b[0m\u001b[0;34m)\u001b[0m\u001b[0;34m\u001b[0m\u001b[0;34m\u001b[0m\u001b[0m\n\u001b[0m",
            "\u001b[0;31mRuntimeError\u001b[0m: The size of tensor a (2) must match the size of tensor b (0) at non-singleton dimension 2"
          ]
        }
      ]
    },
    {
      "cell_type": "markdown",
      "source": [
        "# **Miscellaneous**\n",
        "---\n",
        "### **Tensor attributes**\n",
        "\n",
        "After creating a `tensor`, we can see some information about it using its attributes. Some of the attributes include size, data type, ndim etc:"
      ],
      "metadata": {
        "id": "zEU65ki1WR6K"
      }
    },
    {
      "cell_type": "code",
      "source": [
        "m = torch.rand(5, 6)\n",
        "m.dtype # This tells us that it is float32"
      ],
      "metadata": {
        "colab": {
          "base_uri": "https://localhost:8080/"
        },
        "id": "5zbsbvdmSBt4",
        "outputId": "ee98ff6e-61a8-49e7-a49b-b7e7709d5819"
      },
      "execution_count": null,
      "outputs": [
        {
          "output_type": "execute_result",
          "data": {
            "text/plain": [
              "torch.float32"
            ]
          },
          "metadata": {},
          "execution_count": 19
        }
      ]
    },
    {
      "cell_type": "code",
      "source": [
        "m.device # This returns device on which the tensor is located. In this case cpu."
      ],
      "metadata": {
        "colab": {
          "base_uri": "https://localhost:8080/"
        },
        "id": "dU7gfbCLWyAd",
        "outputId": "9b5d5016-3d32-42c3-fb9c-df056fd42324"
      },
      "execution_count": null,
      "outputs": [
        {
          "output_type": "execute_result",
          "data": {
            "text/plain": [
              "device(type='cpu')"
            ]
          },
          "metadata": {},
          "execution_count": 20
        }
      ]
    },
    {
      "cell_type": "code",
      "source": [
        "m.shape # Tells us the rank or dimension of the tensor. Here it is 5 x 6."
      ],
      "metadata": {
        "colab": {
          "base_uri": "https://localhost:8080/"
        },
        "id": "Gsb9xTjBW0jn",
        "outputId": "90415b4b-76ee-4010-aba6-4216bc2fb091"
      },
      "execution_count": null,
      "outputs": [
        {
          "output_type": "execute_result",
          "data": {
            "text/plain": [
              "torch.Size([5, 6])"
            ]
          },
          "metadata": {},
          "execution_count": 21
        }
      ]
    },
    {
      "cell_type": "code",
      "source": [
        "m.ndim # Tells us it has 2 dimensions."
      ],
      "metadata": {
        "colab": {
          "base_uri": "https://localhost:8080/"
        },
        "id": "01OKaAvIW8cw",
        "outputId": "cbfd5218-b016-4877-ae42-cae019c8d94b"
      },
      "execution_count": null,
      "outputs": [
        {
          "output_type": "execute_result",
          "data": {
            "text/plain": [
              "2"
            ]
          },
          "metadata": {},
          "execution_count": 22
        }
      ]
    },
    {
      "cell_type": "markdown",
      "source": [
        "There are additional attributes like:\n",
        "\n",
        "\n",
        "*   `requires_grad`\n",
        "*   `grad`\n",
        "*   `grad_fn`\n",
        "*   `s_cuda`\n",
        "*   `is_sparse`\n",
        "*   `is_quantized`\n",
        "*   `is_leaf`\n",
        "*  `is_mkldnn`\n",
        "\n",
        "Well no need to dig them now.\n",
        "\n"
      ],
      "metadata": {
        "id": "yIWKFgrhXVVQ"
      }
    },
    {
      "cell_type": "markdown",
      "source": [
        "## **`Tensor` Operations**\n",
        "Well our task is not only to create `tensor`, but to work with them. So, in this part, we will cover some of the `tensor` operations, in fact we did them earlier when we were using transforms from `torchvision`. Some of the operations we will do here include slicing portions of the data, combining `tensor`, spliting `tensor` and both simple and advanced operations on them."
      ],
      "metadata": {
        "id": "Tq3gIaSja5NP"
      }
    },
    {
      "cell_type": "markdown",
      "source": [
        "### **Indexing `tensors`**\n",
        "\n",
        "We can index `tensor` by using [ ]. Just like with numpy arrays. In this example, we create a `tensor` then extract the element in the second row and second column."
      ],
      "metadata": {
        "id": "KeyDuc6Ubxhn"
      }
    },
    {
      "cell_type": "code",
      "source": [
        "x = torch.tensor([[1, 2], [3, 4], [5, 6], [7, 8]])\n",
        "print(x)"
      ],
      "metadata": {
        "colab": {
          "base_uri": "https://localhost:8080/"
        },
        "id": "uZRYGEgBadJ4",
        "outputId": "e0fd68cb-7b41-4f7c-822a-9829147718c3"
      },
      "execution_count": null,
      "outputs": [
        {
          "output_type": "stream",
          "name": "stdout",
          "text": [
            "tensor([[1, 2],\n",
            "        [3, 4],\n",
            "        [5, 6],\n",
            "        [7, 8]])\n"
          ]
        }
      ]
    },
    {
      "cell_type": "markdown",
      "source": [
        "Now to index number 4:"
      ],
      "metadata": {
        "id": "I5kzvlfNcUtP"
      }
    },
    {
      "cell_type": "code",
      "source": [
        "x.shape # Confirming the shape of the tensor"
      ],
      "metadata": {
        "colab": {
          "base_uri": "https://localhost:8080/"
        },
        "id": "fe48jnR2hXkG",
        "outputId": "72be5302-90a9-4062-dfca-9295bed2d381"
      },
      "execution_count": null,
      "outputs": [
        {
          "output_type": "execute_result",
          "data": {
            "text/plain": [
              "torch.Size([4, 2])"
            ]
          },
          "metadata": {},
          "execution_count": 29
        }
      ]
    },
    {
      "cell_type": "code",
      "source": [
        "print(x[1, 1].item())"
      ],
      "metadata": {
        "colab": {
          "base_uri": "https://localhost:8080/"
        },
        "id": "xEopjE89cZWi",
        "outputId": "66d38a08-6544-4f38-9ab3-910191a42010"
      },
      "execution_count": null,
      "outputs": [
        {
          "output_type": "stream",
          "name": "stdout",
          "text": [
            "4\n"
          ]
        }
      ]
    },
    {
      "cell_type": "code",
      "source": [
        "print(x[1][1].item()) # This can be indexed as so too."
      ],
      "metadata": {
        "colab": {
          "base_uri": "https://localhost:8080/"
        },
        "id": "au0y3iD5hFOv",
        "outputId": "ce07bf69-7784-4486-cefa-4b7c7e9da91c"
      },
      "execution_count": null,
      "outputs": [
        {
          "output_type": "stream",
          "name": "stdout",
          "text": [
            "4\n"
          ]
        }
      ]
    },
    {
      "cell_type": "markdown",
      "source": [
        "To index number 7:"
      ],
      "metadata": {
        "id": "2CaT9Pyzcwq2"
      }
    },
    {
      "cell_type": "code",
      "source": [
        "print(x[3, 0].item())"
      ],
      "metadata": {
        "colab": {
          "base_uri": "https://localhost:8080/"
        },
        "id": "WIy6jggyccek",
        "outputId": "cc5fbde2-c69a-4e50-e9d3-3fccfae59012"
      },
      "execution_count": null,
      "outputs": [
        {
          "output_type": "stream",
          "name": "stdout",
          "text": [
            "7\n"
          ]
        }
      ]
    },
    {
      "cell_type": "code",
      "source": [
        "print(x[3][0].item()) # the .item() helps to return the actual number and not tensor."
      ],
      "metadata": {
        "colab": {
          "base_uri": "https://localhost:8080/"
        },
        "id": "YD-PpOumhfhs",
        "outputId": "81381be4-86ff-4f2d-c45c-3e26a4610f93"
      },
      "execution_count": null,
      "outputs": [
        {
          "output_type": "stream",
          "name": "stdout",
          "text": [
            "7\n"
          ]
        }
      ]
    },
    {
      "cell_type": "markdown",
      "source": [
        "### **Slicing `tensors`**\n",
        "\n",
        "We can slice `tensor` by using [ ]. Just like with numpy arrays. In this example, we create a `tensor` then slice a portion of it."
      ],
      "metadata": {
        "id": "S4HfIjhhg2Os"
      }
    },
    {
      "cell_type": "code",
      "source": [
        "x.shape"
      ],
      "metadata": {
        "id": "gDGQTtWtc4Ws",
        "colab": {
          "base_uri": "https://localhost:8080/"
        },
        "outputId": "c4755b66-d79c-4591-e567-c4deac66c742"
      },
      "execution_count": null,
      "outputs": [
        {
          "output_type": "execute_result",
          "data": {
            "text/plain": [
              "torch.Size([4, 2])"
            ]
          },
          "metadata": {},
          "execution_count": 68
        }
      ]
    },
    {
      "cell_type": "code",
      "source": [
        "x"
      ],
      "metadata": {
        "colab": {
          "base_uri": "https://localhost:8080/"
        },
        "id": "GbnntU2RjkTf",
        "outputId": "51b2c902-d086-4da6-db76-ac5e166ba221"
      },
      "execution_count": null,
      "outputs": [
        {
          "output_type": "execute_result",
          "data": {
            "text/plain": [
              "tensor([[1, 2],\n",
              "        [3, 4],\n",
              "        [5, 6],\n",
              "        [7, 8]])"
            ]
          },
          "metadata": {},
          "execution_count": 70
        }
      ]
    },
    {
      "cell_type": "code",
      "source": [
        "x[:2, :] # Slices the first two rows and all columns."
      ],
      "metadata": {
        "colab": {
          "base_uri": "https://localhost:8080/"
        },
        "id": "PjyPFYEnjdEc",
        "outputId": "1ac39a03-6383-4bf1-e4d5-3170279902af"
      },
      "execution_count": null,
      "outputs": [
        {
          "output_type": "execute_result",
          "data": {
            "text/plain": [
              "tensor([[1, 2],\n",
              "        [3, 4]])"
            ]
          },
          "metadata": {},
          "execution_count": 71
        }
      ]
    },
    {
      "cell_type": "code",
      "source": [
        "x[1:3, :] # Slices from row index 1 to 3 and all columns."
      ],
      "metadata": {
        "colab": {
          "base_uri": "https://localhost:8080/"
        },
        "id": "hdLyVRJQjt-9",
        "outputId": "33f4b01d-a550-4e7c-f2c8-18dcfedf84f4"
      },
      "execution_count": null,
      "outputs": [
        {
          "output_type": "execute_result",
          "data": {
            "text/plain": [
              "tensor([[3, 4],\n",
              "        [5, 6]])"
            ]
          },
          "metadata": {},
          "execution_count": 73
        }
      ]
    },
    {
      "cell_type": "code",
      "source": [
        "x[:, 1] # All rows in column 1"
      ],
      "metadata": {
        "colab": {
          "base_uri": "https://localhost:8080/"
        },
        "id": "GVE8FoJdkF2L",
        "outputId": "e4c884be-07a5-41cf-fee0-286c22806fb4"
      },
      "execution_count": null,
      "outputs": [
        {
          "output_type": "execute_result",
          "data": {
            "text/plain": [
              "tensor([2, 4, 6, 8])"
            ]
          },
          "metadata": {},
          "execution_count": 74
        }
      ]
    },
    {
      "cell_type": "code",
      "source": [
        "x[:, 0] # All rows in column index 0"
      ],
      "metadata": {
        "colab": {
          "base_uri": "https://localhost:8080/"
        },
        "id": "LXoFd8BRkKS4",
        "outputId": "369887e5-6bbb-4865-f982-8c3a8b7e2cc1"
      },
      "execution_count": null,
      "outputs": [
        {
          "output_type": "execute_result",
          "data": {
            "text/plain": [
              "tensor([1, 3, 5, 7])"
            ]
          },
          "metadata": {},
          "execution_count": 82
        }
      ]
    },
    {
      "cell_type": "code",
      "source": [
        "x[:, -1] # All rows in column 1"
      ],
      "metadata": {
        "colab": {
          "base_uri": "https://localhost:8080/"
        },
        "id": "hFTHzNcokd_v",
        "outputId": "e4f467a1-ab67-48cd-fb04-b738a6349195"
      },
      "execution_count": null,
      "outputs": [
        {
          "output_type": "execute_result",
          "data": {
            "text/plain": [
              "tensor([2, 4, 6, 8])"
            ]
          },
          "metadata": {},
          "execution_count": 84
        }
      ]
    },
    {
      "cell_type": "markdown",
      "source": [],
      "metadata": {
        "id": "M9H1-jLik0rp"
      }
    },
    {
      "cell_type": "code",
      "source": [
        "torch.manual_seed(248)\n",
        "ten = torch.randint(low = 0, high = 10, size = (5, 7), dtype = torch.int16)\n",
        "ten"
      ],
      "metadata": {
        "colab": {
          "base_uri": "https://localhost:8080/"
        },
        "id": "ZP9O7eV9mLDl",
        "outputId": "9ad8ef2c-fc5e-49d5-bec3-6299f0cda470"
      },
      "execution_count": null,
      "outputs": [
        {
          "output_type": "execute_result",
          "data": {
            "text/plain": [
              "tensor([[2, 7, 3, 0, 6, 7, 9],\n",
              "        [5, 0, 0, 7, 4, 9, 7],\n",
              "        [5, 1, 6, 7, 0, 0, 1],\n",
              "        [9, 2, 0, 5, 9, 5, 5],\n",
              "        [3, 5, 4, 1, 9, 0, 3]], dtype=torch.int16)"
            ]
          },
          "metadata": {},
          "execution_count": 119
        }
      ]
    },
    {
      "cell_type": "code",
      "source": [
        "ten[2, 2]"
      ],
      "metadata": {
        "colab": {
          "base_uri": "https://localhost:8080/"
        },
        "id": "DNTP2FSymSAk",
        "outputId": "2f5b8e1c-b8bb-4f7f-d15e-4d8854034b52"
      },
      "execution_count": null,
      "outputs": [
        {
          "output_type": "execute_result",
          "data": {
            "text/plain": [
              "tensor(6, dtype=torch.int16)"
            ]
          },
          "metadata": {},
          "execution_count": 120
        }
      ]
    },
    {
      "cell_type": "code",
      "source": [
        "ten[2, 2].item()"
      ],
      "metadata": {
        "colab": {
          "base_uri": "https://localhost:8080/"
        },
        "id": "_XI6N-osnHEd",
        "outputId": "8116e8ba-5fcd-44ed-b347-0635626882f1"
      },
      "execution_count": null,
      "outputs": [
        {
          "output_type": "execute_result",
          "data": {
            "text/plain": [
              "6"
            ]
          },
          "metadata": {},
          "execution_count": 121
        }
      ]
    },
    {
      "cell_type": "code",
      "source": [
        "ten[2:4, 3:6]"
      ],
      "metadata": {
        "colab": {
          "base_uri": "https://localhost:8080/"
        },
        "id": "aL-VkKmrnOWR",
        "outputId": "b4bfc91a-5678-4deb-9a52-b2c5f8ef9085"
      },
      "execution_count": null,
      "outputs": [
        {
          "output_type": "execute_result",
          "data": {
            "text/plain": [
              "tensor([[7, 0, 0],\n",
              "        [5, 9, 5]], dtype=torch.int16)"
            ]
          },
          "metadata": {},
          "execution_count": 122
        }
      ]
    },
    {
      "cell_type": "markdown",
      "source": [
        "## **References**\n",
        "\n",
        "https://pytorch.org/docs/stable/tensors.html\n",
        "\n",
        "https://pytorch.org/tutorials/beginner/introyt/tensors_deeper_tutorial.html"
      ],
      "metadata": {
        "id": "55EbNBDTqGSI"
      }
    }
  ]
}