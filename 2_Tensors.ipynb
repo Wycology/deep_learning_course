{
  "nbformat": 4,
  "nbformat_minor": 0,
  "metadata": {
    "colab": {
      "provenance": [],
      "authorship_tag": "ABX9TyO1IOxLWft/2x2dg4K6rWDU",
      "include_colab_link": true
    },
    "kernelspec": {
      "name": "python3",
      "display_name": "Python 3"
    },
    "language_info": {
      "name": "python"
    }
  },
  "cells": [
    {
      "cell_type": "markdown",
      "metadata": {
        "id": "view-in-github",
        "colab_type": "text"
      },
      "source": [
        "<a href=\"https://colab.research.google.com/github/Wycology/deep_learning_course/blob/main/2_Tensors.ipynb\" target=\"_parent\"><img src=\"https://colab.research.google.com/assets/colab-badge.svg\" alt=\"Open In Colab\"/></a>"
      ]
    },
    {
      "cell_type": "markdown",
      "source": [
        "# <font color='green'><b> SATELLITE DATA FOR AGRICULTURAL ECONOMISTS</b></font>\n",
        "\n",
        "\n",
        "<font color='blue'><b>THEORY AND PRACTICE</b></font>\n",
        "\n",
        "**_MACHINE & DEEP LEARNING_**\n",
        "\n",
        "\n",
        "*David Wuepper, Hadi Hadi, Wyclife Agumba Oluoch*\n",
        "\n",
        "[Land Economics Group](https://www.ilr1.uni-bonn.de/en/research/research-groups/land-economics), University of Bonn, Bonn, Germany\n",
        "\n",
        "---\n",
        "\n",
        "# **Background**\n",
        "\n",
        "\n",
        "---"
      ],
      "metadata": {
        "id": "l-_SHva1E7Ub"
      }
    },
    {
      "cell_type": "markdown",
      "source": [
        "`Tensor`, by definition, is the fundamental data structure used to store and manipulate data in `PyTorch`. Understanding `tensor` is paramount to understanding how `PyTorch` implements advanced functions for deep learning. At both preprocessing of input and postprocessing of output, you will be dealing with `tensor` in most cases. It is therefore important to understand what `tensor` are and operations on them. If you know `NumPy` then you are 100% good to take on `tensor`. Let us see how to create some `tensor`."
      ],
      "metadata": {
        "id": "q_n-jfsOFEgg"
      }
    },
    {
      "cell_type": "markdown",
      "source": [
        "For us to have `tensor`, we need to load `PyTorch` library first."
      ],
      "metadata": {
        "id": "dqjCB7rHH5AG"
      }
    },
    {
      "cell_type": "code",
      "execution_count": 2,
      "metadata": {
        "id": "LFUBMYynEhF4"
      },
      "outputs": [],
      "source": [
        "import torch # Of course we need to have the PyTorch"
      ]
    },
    {
      "cell_type": "markdown",
      "source": [
        "We start with a simple `tensor` with just one digit."
      ],
      "metadata": {
        "id": "5DFWWLpdH3qf"
      }
    },
    {
      "cell_type": "markdown",
      "source": [
        "# **Creating `tensor`**\n",
        "---\n",
        "In order to use a `tensor`, we need to create it. We can create a `tensor` easily using a `torch.empty()` function as follows:"
      ],
      "metadata": {
        "id": "hzlIC2SuV2aE"
      }
    },
    {
      "cell_type": "code",
      "source": [
        "x = torch.empty(2, 3) # Creates a tensor of shape 2 by 3, that is two rows and three columns.\n",
        "print(x)"
      ],
      "metadata": {
        "colab": {
          "base_uri": "https://localhost:8080/"
        },
        "id": "EAed40fgHLUu",
        "outputId": "4aea1174-e749-4b0e-ab3d-6b876426836f"
      },
      "execution_count": 5,
      "outputs": [
        {
          "output_type": "stream",
          "name": "stdout",
          "text": [
            "tensor([[5.4222e-35, 0.0000e+00, 1.6971e-33],\n",
            "        [0.0000e+00, 1.1210e-43, 0.0000e+00]])\n"
          ]
        }
      ]
    },
    {
      "cell_type": "markdown",
      "source": [
        "The `empty()` method comes pre-built in `PyTorch`. The created tensor is 2-dimensional, normally called 2-d `tensor`. This is because it has **two** rows and **three** columns. You might be wondering why we call it empty yet you see some values. It is empty in the sense that the values you see are actually what was in the memory of the computer when the empty `tensor` was allocated in memory. In reality, the `tensor` is empty and values can be fed into it. Note that sometimes a 1-dimensional `tensor` is called a _vector_, 2-dimensional `tensor` called a _matrix_, and the word `tensor` normally used when the dimensions are above 2. Anyway, all are `tensor`s."
      ],
      "metadata": {
        "id": "1k5L4laXW2b1"
      }
    },
    {
      "cell_type": "markdown",
      "source": [
        "As opposed to `empty` `tensor`, one would normally prefer to have some values in a created `tensor`. A `tensor` can be created with all its elements set to **zeros**, or **ones**, or some **random values** that can be integers or floats. Good enough, all these can be done by in-built methods in `PyTorch` as follows:\n",
        "\n"
      ],
      "metadata": {
        "id": "CfLmZki9IX6R"
      }
    },
    {
      "cell_type": "code",
      "source": [
        "zeros_tensor = torch.zeros(2, 3) # This is tensor will all values set to zeros.\n",
        "print(zeros_tensor)"
      ],
      "metadata": {
        "colab": {
          "base_uri": "https://localhost:8080/"
        },
        "id": "dNx4SO-mHdU9",
        "outputId": "9e751cca-56a1-4b81-bc97-5aa0b1128bdb"
      },
      "execution_count": 6,
      "outputs": [
        {
          "output_type": "stream",
          "name": "stdout",
          "text": [
            "tensor([[0., 0., 0.],\n",
            "        [0., 0., 0.]])\n"
          ]
        }
      ]
    },
    {
      "cell_type": "code",
      "source": [
        "ones_tensor = torch.ones(2, 3) # This is tensor will all values set to ones.\n",
        "print(ones_tensor)"
      ],
      "metadata": {
        "colab": {
          "base_uri": "https://localhost:8080/"
        },
        "id": "zxsJyODpadN7",
        "outputId": "8077f216-cbd7-43dc-8b83-e87fdeeb2349"
      },
      "execution_count": 7,
      "outputs": [
        {
          "output_type": "stream",
          "name": "stdout",
          "text": [
            "tensor([[1., 1., 1.],\n",
            "        [1., 1., 1.]])\n"
          ]
        }
      ]
    },
    {
      "cell_type": "markdown",
      "source": [
        "<font color='red'><b>NOTE</b></font>: For the random `tensor`, it is a good practice to set **random seed** so that your output is reproducible the next time you rerun the same code. Remember to use the same integer values in the seed each time you want to reproduce the values."
      ],
      "metadata": {
        "id": "RAGpKDB5aom_"
      }
    },
    {
      "cell_type": "code",
      "source": [
        "torch.manual_seed(248) # This ensures that the code is reproducible.\n",
        "random_tensor = torch.rand(2, 3) # This creates a tensor with random values between 0 and 1 in it.\n",
        "print(random_tensor)"
      ],
      "metadata": {
        "colab": {
          "base_uri": "https://localhost:8080/"
        },
        "id": "Mf0VLqWoaoPR",
        "outputId": "b2c62bbd-cade-4248-d28c-6325467a24c2"
      },
      "execution_count": 14,
      "outputs": [
        {
          "output_type": "stream",
          "name": "stdout",
          "text": [
            "tensor([[0.1486, 0.6503, 0.1690],\n",
            "        [0.0158, 0.4595, 0.9061]])\n"
          ]
        }
      ]
    },
    {
      "cell_type": "markdown",
      "source": [
        "# **Shape of `tensor`**\n",
        "---"
      ],
      "metadata": {
        "id": "t0_nZpx5c-5-"
      }
    },
    {
      "cell_type": "markdown",
      "source": [
        "When we want to perform some operations on a `tensor`, it is important to know its shape (printed out as **torch.Size([])**). This will tell us for example if the `tensor` is 1-dimensional, 2-d, 3-d, 4-d among others. There are some operations that we can only perform is specific rules of `tensor` shapes are obeyed as we will see. In order to know the shape of a tensor, we use the `shape` property as follows:"
      ],
      "metadata": {
        "id": "GdyvIIaAI6cq"
      }
    },
    {
      "cell_type": "code",
      "source": [
        "torch.manual_seed(248)\n",
        "x = torch.rand(2, 3)\n",
        "print(x.shape) # This is a two by three matrix."
      ],
      "metadata": {
        "colab": {
          "base_uri": "https://localhost:8080/"
        },
        "id": "31JuTDorI5p4",
        "outputId": "f5d461eb-4af1-4d5b-fcec-b47d8c8743d6"
      },
      "execution_count": 20,
      "outputs": [
        {
          "output_type": "stream",
          "name": "stdout",
          "text": [
            "torch.Size([2, 3])\n"
          ]
        }
      ]
    },
    {
      "cell_type": "markdown",
      "source": [
        "You can think of the above matrix as a single band/image with two rows and three columns. Meaning this is basically having 6 elements inside it. We can print it as and confirm the number of elements in it as follows:"
      ],
      "metadata": {
        "id": "Gqqn1h9GJR6A"
      }
    },
    {
      "cell_type": "code",
      "source": [
        "print(x)"
      ],
      "metadata": {
        "colab": {
          "base_uri": "https://localhost:8080/"
        },
        "id": "D7n9EIV5JXXB",
        "outputId": "f53f4413-6472-442a-e818-999bc82c3a2a"
      },
      "execution_count": 21,
      "outputs": [
        {
          "output_type": "stream",
          "name": "stdout",
          "text": [
            "tensor([[0.1486, 0.6503, 0.1690],\n",
            "        [0.0158, 0.4595, 0.9061]])\n"
          ]
        }
      ]
    },
    {
      "cell_type": "markdown",
      "source": [
        "Let us assume that you have an **RGB** image. That is, an image with three bands/color channels. In this casewe will have a 3-d `tensor`. This is becase we will have rows and columns as well as number of channels. Let us say, you have an RGB image of a cup with 256 pixels in row and 256 pixels in column for each of the three color channels. This will be something like (3, 256, 256). Let us create one:"
      ],
      "metadata": {
        "id": "CYesIxHRf4YR"
      }
    },
    {
      "cell_type": "code",
      "source": [
        "torch.manual_seed(248)\n",
        "rgb_tensor = torch.rand(3, 256, 256) # This is a 3-d tensor (channels dimension, rows dimension, and column dimension)\n",
        "print(rgb_tensor.shape)"
      ],
      "metadata": {
        "colab": {
          "base_uri": "https://localhost:8080/"
        },
        "id": "s2HvqyAag9RY",
        "outputId": "088bec5d-d2d6-491f-cda8-98472f9e0bc1"
      },
      "execution_count": 25,
      "outputs": [
        {
          "output_type": "stream",
          "name": "stdout",
          "text": [
            "torch.Size([3, 256, 256])\n"
          ]
        }
      ]
    },
    {
      "cell_type": "markdown",
      "source": [
        "The output is a list with 3, 256, and 256 elements in it corresponding to number of channels, rows and columns. The 3 means there are 3 elements in the first dimension. the first 256 means there are 256 elements in the second dimension and the last 256 means there are 256 elements in the third dimension."
      ],
      "metadata": {
        "id": "JrWv5l2PiBJX"
      }
    },
    {
      "cell_type": "code",
      "source": [
        "print(rgb_tensor)"
      ],
      "metadata": {
        "colab": {
          "base_uri": "https://localhost:8080/"
        },
        "id": "JzLRwQaqhXGr",
        "outputId": "b01ad079-56d5-45a9-d035-8c85e59b4c72"
      },
      "execution_count": 26,
      "outputs": [
        {
          "output_type": "stream",
          "name": "stdout",
          "text": [
            "tensor([[[0.1486, 0.6503, 0.1690,  ..., 0.8042, 0.1762, 0.3878],\n",
            "         [0.6061, 0.0266, 0.6565,  ..., 0.7283, 0.7022, 0.6209],\n",
            "         [0.4686, 0.5914, 0.0205,  ..., 0.2622, 0.1006, 0.5342],\n",
            "         ...,\n",
            "         [0.4051, 0.9665, 0.9868,  ..., 0.6381, 0.9864, 0.7085],\n",
            "         [0.6336, 0.8528, 0.4961,  ..., 0.6412, 0.6450, 0.5386],\n",
            "         [0.3577, 0.7328, 0.4285,  ..., 0.2057, 0.8538, 0.1834]],\n",
            "\n",
            "        [[0.1505, 0.2070, 0.0899,  ..., 0.9604, 0.4554, 0.2742],\n",
            "         [0.0976, 0.9119, 0.0958,  ..., 0.3554, 0.9178, 0.1921],\n",
            "         [0.6962, 0.9772, 0.1616,  ..., 0.8772, 0.3858, 0.0328],\n",
            "         ...,\n",
            "         [0.5004, 0.3803, 0.6465,  ..., 0.5358, 0.6438, 0.4367],\n",
            "         [0.1902, 0.6078, 0.8052,  ..., 0.1226, 0.7050, 0.0753],\n",
            "         [0.1047, 0.3733, 0.9489,  ..., 0.6650, 0.0291, 0.7273]],\n",
            "\n",
            "        [[0.2848, 0.4889, 0.5891,  ..., 0.6803, 0.0650, 0.1653],\n",
            "         [0.8378, 0.1194, 0.9079,  ..., 0.8441, 0.4194, 0.5504],\n",
            "         [0.7955, 0.4902, 0.4107,  ..., 0.0283, 0.8470, 0.0591],\n",
            "         ...,\n",
            "         [0.6530, 0.7744, 0.9444,  ..., 0.7336, 0.8058, 0.2948],\n",
            "         [0.2340, 0.9167, 0.5202,  ..., 0.2576, 0.1255, 0.6716],\n",
            "         [0.1773, 0.9735, 0.4695,  ..., 0.7520, 0.8654, 0.7055]]])\n"
          ]
        }
      ]
    },
    {
      "cell_type": "markdown",
      "source": [
        "## **Creating `tensor` _like**\n",
        "\n",
        "There can be instances when you already have a tensor and you want to initialize another tensor **like** the one you have. The like here does not mean it will also have the same actual elements, but means will have same attributes including shape and data type. We will look at `tensor` data types later. Now, we can create a `tensor` like one we have but only filled with zeros, or empty, or ones, or random. The only think we need to remember from what we already discussed above is to add `_like` to the zeros, ones, rand as follows:\n",
        "\n",
        "> Add blockquote\n",
        "\n"
      ],
      "metadata": {
        "id": "skMjRQ6nLqmI"
      }
    },
    {
      "cell_type": "code",
      "source": [
        "zeros_like_rgb = torch.zeros_like(rgb_tensor)\n",
        "print(zeros_like_rgb.shape) # The shape is similar to that of rgb_tensor\n",
        "print(zeros_like_rgb) # The values in it are, however, zeros"
      ],
      "metadata": {
        "id": "FCtNeBEwLrM1",
        "colab": {
          "base_uri": "https://localhost:8080/"
        },
        "outputId": "2bfb2b48-3147-4e0e-adfe-22519e81e66c"
      },
      "execution_count": 32,
      "outputs": [
        {
          "output_type": "stream",
          "name": "stdout",
          "text": [
            "torch.Size([3, 256, 256])\n",
            "tensor([[[0., 0., 0.,  ..., 0., 0., 0.],\n",
            "         [0., 0., 0.,  ..., 0., 0., 0.],\n",
            "         [0., 0., 0.,  ..., 0., 0., 0.],\n",
            "         ...,\n",
            "         [0., 0., 0.,  ..., 0., 0., 0.],\n",
            "         [0., 0., 0.,  ..., 0., 0., 0.],\n",
            "         [0., 0., 0.,  ..., 0., 0., 0.]],\n",
            "\n",
            "        [[0., 0., 0.,  ..., 0., 0., 0.],\n",
            "         [0., 0., 0.,  ..., 0., 0., 0.],\n",
            "         [0., 0., 0.,  ..., 0., 0., 0.],\n",
            "         ...,\n",
            "         [0., 0., 0.,  ..., 0., 0., 0.],\n",
            "         [0., 0., 0.,  ..., 0., 0., 0.],\n",
            "         [0., 0., 0.,  ..., 0., 0., 0.]],\n",
            "\n",
            "        [[0., 0., 0.,  ..., 0., 0., 0.],\n",
            "         [0., 0., 0.,  ..., 0., 0., 0.],\n",
            "         [0., 0., 0.,  ..., 0., 0., 0.],\n",
            "         ...,\n",
            "         [0., 0., 0.,  ..., 0., 0., 0.],\n",
            "         [0., 0., 0.,  ..., 0., 0., 0.],\n",
            "         [0., 0., 0.,  ..., 0., 0., 0.]]])\n"
          ]
        }
      ]
    },
    {
      "cell_type": "code",
      "source": [
        "ones_like_rgb = torch.ones_like(rgb_tensor)\n",
        "print(ones_like_rgb.shape) # The shape is the same as the shape of rgb_tensor ([3, 256, 256])\n",
        "print(ones_like_rgb) # The elements in the output are all 1.'s"
      ],
      "metadata": {
        "colab": {
          "base_uri": "https://localhost:8080/"
        },
        "id": "HWJ_1LUVkquD",
        "outputId": "28d09ca5-c3c3-422c-e0a5-9655cc2c4862"
      },
      "execution_count": 34,
      "outputs": [
        {
          "output_type": "stream",
          "name": "stdout",
          "text": [
            "torch.Size([3, 256, 256])\n",
            "tensor([[[1., 1., 1.,  ..., 1., 1., 1.],\n",
            "         [1., 1., 1.,  ..., 1., 1., 1.],\n",
            "         [1., 1., 1.,  ..., 1., 1., 1.],\n",
            "         ...,\n",
            "         [1., 1., 1.,  ..., 1., 1., 1.],\n",
            "         [1., 1., 1.,  ..., 1., 1., 1.],\n",
            "         [1., 1., 1.,  ..., 1., 1., 1.]],\n",
            "\n",
            "        [[1., 1., 1.,  ..., 1., 1., 1.],\n",
            "         [1., 1., 1.,  ..., 1., 1., 1.],\n",
            "         [1., 1., 1.,  ..., 1., 1., 1.],\n",
            "         ...,\n",
            "         [1., 1., 1.,  ..., 1., 1., 1.],\n",
            "         [1., 1., 1.,  ..., 1., 1., 1.],\n",
            "         [1., 1., 1.,  ..., 1., 1., 1.]],\n",
            "\n",
            "        [[1., 1., 1.,  ..., 1., 1., 1.],\n",
            "         [1., 1., 1.,  ..., 1., 1., 1.],\n",
            "         [1., 1., 1.,  ..., 1., 1., 1.],\n",
            "         ...,\n",
            "         [1., 1., 1.,  ..., 1., 1., 1.],\n",
            "         [1., 1., 1.,  ..., 1., 1., 1.],\n",
            "         [1., 1., 1.,  ..., 1., 1., 1.]]])\n"
          ]
        }
      ]
    },
    {
      "cell_type": "code",
      "source": [
        "torch.manual_seed(248)\n",
        "rand_like_rgb = torch.rand_like(rgb_tensor)\n",
        "print(rand_like_rgb.shape) # Same shape as rgb_tensor\n",
        "print(rand_like_rgb) # Interesting, the values here are exactly the same as those in rgb_tensor. Why? Because we used same manual seed."
      ],
      "metadata": {
        "colab": {
          "base_uri": "https://localhost:8080/"
        },
        "id": "g3aERzxYkqqa",
        "outputId": "4bc2b9fa-f351-4bf7-a72d-287b8c870294"
      },
      "execution_count": 37,
      "outputs": [
        {
          "output_type": "stream",
          "name": "stdout",
          "text": [
            "torch.Size([3, 256, 256])\n",
            "tensor([[[0.1486, 0.6503, 0.1690,  ..., 0.8042, 0.1762, 0.3878],\n",
            "         [0.6061, 0.0266, 0.6565,  ..., 0.7283, 0.7022, 0.6209],\n",
            "         [0.4686, 0.5914, 0.0205,  ..., 0.2622, 0.1006, 0.5342],\n",
            "         ...,\n",
            "         [0.4051, 0.9665, 0.9868,  ..., 0.6381, 0.9864, 0.7085],\n",
            "         [0.6336, 0.8528, 0.4961,  ..., 0.6412, 0.6450, 0.5386],\n",
            "         [0.3577, 0.7328, 0.4285,  ..., 0.2057, 0.8538, 0.1834]],\n",
            "\n",
            "        [[0.1505, 0.2070, 0.0899,  ..., 0.9604, 0.4554, 0.2742],\n",
            "         [0.0976, 0.9119, 0.0958,  ..., 0.3554, 0.9178, 0.1921],\n",
            "         [0.6962, 0.9772, 0.1616,  ..., 0.8772, 0.3858, 0.0328],\n",
            "         ...,\n",
            "         [0.5004, 0.3803, 0.6465,  ..., 0.5358, 0.6438, 0.4367],\n",
            "         [0.1902, 0.6078, 0.8052,  ..., 0.1226, 0.7050, 0.0753],\n",
            "         [0.1047, 0.3733, 0.9489,  ..., 0.6650, 0.0291, 0.7273]],\n",
            "\n",
            "        [[0.2848, 0.4889, 0.5891,  ..., 0.6803, 0.0650, 0.1653],\n",
            "         [0.8378, 0.1194, 0.9079,  ..., 0.8441, 0.4194, 0.5504],\n",
            "         [0.7955, 0.4902, 0.4107,  ..., 0.0283, 0.8470, 0.0591],\n",
            "         ...,\n",
            "         [0.6530, 0.7744, 0.9444,  ..., 0.7336, 0.8058, 0.2948],\n",
            "         [0.2340, 0.9167, 0.5202,  ..., 0.2576, 0.1255, 0.6716],\n",
            "         [0.1773, 0.9735, 0.4695,  ..., 0.7520, 0.8654, 0.7055]]])\n"
          ]
        }
      ]
    },
    {
      "cell_type": "markdown",
      "source": [
        "## **Creating `tensor` directly from data**\n",
        "\n",
        "It is also possible to directly supply data in `torch.tensor()` to create a `tensor` of your liking. The values can be a list, tuple, or numpy array etc."
      ],
      "metadata": {
        "id": "7W3W49Kul6xR"
      }
    },
    {
      "cell_type": "code",
      "source": [
        "some_values = torch.tensor([11, 2.0, 376, 0.004]) # Manually supplied values\n",
        "print(some_values.shape) # This is a one dimension tensor.\n",
        "print(some_values)"
      ],
      "metadata": {
        "colab": {
          "base_uri": "https://localhost:8080/"
        },
        "id": "5x01BBcpl6Z_",
        "outputId": "ed9f06c4-c21b-4a62-9a7e-04bd79f43014"
      },
      "execution_count": 44,
      "outputs": [
        {
          "output_type": "stream",
          "name": "stdout",
          "text": [
            "torch.Size([4])\n",
            "tensor([1.1000e+01, 2.0000e+00, 3.7600e+02, 4.0000e-03])\n"
          ]
        }
      ]
    },
    {
      "cell_type": "code",
      "source": [
        "some_values = torch.tensor([[1.2, 23, 13.1, 4.2], [23, 4, 5, 67]])\n",
        "print(some_values.shape) # This is a two dimension tensor.\n",
        "print(some_values)"
      ],
      "metadata": {
        "colab": {
          "base_uri": "https://localhost:8080/"
        },
        "id": "1XJqncHMl6Wg",
        "outputId": "bb94f983-5d6b-4930-91a1-bf428d3732e2"
      },
      "execution_count": 43,
      "outputs": [
        {
          "output_type": "stream",
          "name": "stdout",
          "text": [
            "torch.Size([2, 4])\n",
            "tensor([[ 1.2000, 23.0000, 13.1000,  4.2000],\n",
            "        [23.0000,  4.0000,  5.0000, 67.0000]])\n"
          ]
        }
      ]
    },
    {
      "cell_type": "code",
      "source": [
        "tuple_tensor = torch.tensor((2.22, 1.675, 8)) # Creating from tuple\n",
        "print(tuple_tensor.shape) # This is 1-d tensor\n",
        "print(tuple_tensor)\n"
      ],
      "metadata": {
        "colab": {
          "base_uri": "https://localhost:8080/"
        },
        "id": "0seqa6l2l6UM",
        "outputId": "2754b376-99c2-48fb-c968-0ecf8d7ca9cf"
      },
      "execution_count": 46,
      "outputs": [
        {
          "output_type": "stream",
          "name": "stdout",
          "text": [
            "torch.Size([3])\n",
            "tensor([2.2200, 1.6750, 8.0000])\n"
          ]
        }
      ]
    },
    {
      "cell_type": "code",
      "source": [
        "tuple_list_tensor = torch.tensor(((2.22, 1.675, 8), [1.2, 23, 13.1])) # From tuple and list\n",
        "print(tuple_list_tensor.shape) # 2-d tensor\n",
        "print(tuple_list_tensor)"
      ],
      "metadata": {
        "colab": {
          "base_uri": "https://localhost:8080/"
        },
        "id": "d7JP-zgOl6Rz",
        "outputId": "9422477c-dbcc-4335-fcaf-b33bdb48364c"
      },
      "execution_count": 50,
      "outputs": [
        {
          "output_type": "stream",
          "name": "stdout",
          "text": [
            "torch.Size([2, 3])\n",
            "tensor([[ 2.2200,  1.6750,  8.0000],\n",
            "        [ 1.2000, 23.0000, 13.1000]])\n"
          ]
        }
      ]
    },
    {
      "cell_type": "markdown",
      "source": [
        "<font color=\"red\">**NOTE:**</font> Using `torch.tensor` creates a copy of the data. Sometimes this may overwhelm your computer memory. For example if you do it on 100 Tb of data you end up with over 200 Tb of data. <font color=\"orange\">_Remember, `tensor` always occupies larger memory than array_.</font>"
      ],
      "metadata": {
        "id": "WW98-j6vorlo"
      }
    },
    {
      "cell_type": "markdown",
      "source": [
        "# **`Tensor` Data Types**\n",
        "---"
      ],
      "metadata": {
        "id": "gi7NVOZyqATx"
      }
    },
    {
      "cell_type": "markdown",
      "source": [
        "Data types such as **integer**, **float**, **boolean** among others can easily be set for `tensor`s during creation. This is often crucial as operations on `tensor`s can be strictly data type dependent. That is, some operations may only need the data type to be float32 and not integer."
      ],
      "metadata": {
        "id": "QbglCahZqNRh"
      }
    },
    {
      "cell_type": "code",
      "source": [
        "int_tensor = torch.ones((2, 3), dtype=torch.int16) # Specifying the data type to torch.int16\n",
        "print(int_tensor)"
      ],
      "metadata": {
        "colab": {
          "base_uri": "https://localhost:8080/"
        },
        "id": "6b7GTFaHl6PZ",
        "outputId": "fa4a59aa-f776-4cdd-ec6f-333a6e533b20"
      },
      "execution_count": 54,
      "outputs": [
        {
          "output_type": "stream",
          "name": "stdout",
          "text": [
            "tensor([[1, 1, 1],\n",
            "        [1, 1, 1]], dtype=torch.int16)\n"
          ]
        }
      ]
    },
    {
      "cell_type": "markdown",
      "source": [
        "Notice that in the printout, dtype is also shown. This did not happen in our earlier tensors because we did not specify it during creation. Let us see the same `tensor` under float64."
      ],
      "metadata": {
        "id": "lTZv37jMrSd_"
      }
    },
    {
      "cell_type": "code",
      "source": [
        "float64_tensor = torch.ones((2, 3), dtype = torch.float64)\n",
        "print(float64_tensor.shape) # Of course 2-d tensor with two rows and three columns.\n",
        "print(float64_tensor) # The printout also shows the dtype.\n"
      ],
      "metadata": {
        "colab": {
          "base_uri": "https://localhost:8080/"
        },
        "id": "0lu0sxNhl6M-",
        "outputId": "3b3ba8b1-93a7-46c3-cfa6-59235861b209"
      },
      "execution_count": 59,
      "outputs": [
        {
          "output_type": "stream",
          "name": "stdout",
          "text": [
            "torch.Size([2, 3])\n",
            "tensor([[1., 1., 1.],\n",
            "        [1., 1., 1.]], dtype=torch.float64)\n"
          ]
        }
      ]
    },
    {
      "cell_type": "markdown",
      "source": [
        "Other than definition of the data type of a tensor during creation, we can also specify a data type to an existing `tensor`. Say, I created a `tensor` called **float64_tensor** above, and we now want it to be **float32_tensor**. We can achieve that using `.to()` method as follows:"
      ],
      "metadata": {
        "id": "40O0NflXtHMS"
      }
    },
    {
      "cell_type": "code",
      "source": [
        "float32_tensor = float64_tensor.to(torch.float32)\n",
        "print(float32_tensor) # Now this is float32"
      ],
      "metadata": {
        "colab": {
          "base_uri": "https://localhost:8080/"
        },
        "id": "0jI8bUqJtGkN",
        "outputId": "e35f52a4-ceb7-4913-b0f4-5836624c3b00"
      },
      "execution_count": 61,
      "outputs": [
        {
          "output_type": "stream",
          "name": "stdout",
          "text": [
            "tensor([[1., 1., 1.],\n",
            "        [1., 1., 1.]])\n"
          ]
        }
      ]
    },
    {
      "cell_type": "markdown",
      "source": [
        "Notice here that float32 is not printed as was float64. This is because it is the **default** data type. You can confirm this by using `.dtype` attribute on the `tensor`."
      ],
      "metadata": {
        "id": "lvL7jQpxt7_R"
      }
    },
    {
      "cell_type": "code",
      "source": [
        "float32_tensor.dtype"
      ],
      "metadata": {
        "colab": {
          "base_uri": "https://localhost:8080/"
        },
        "id": "1hM4F1eStGgk",
        "outputId": "43d67fd6-b21e-4773-9a4e-760d2ed2893f"
      },
      "execution_count": 62,
      "outputs": [
        {
          "output_type": "execute_result",
          "data": {
            "text/plain": [
              "torch.float32"
            ]
          },
          "metadata": {},
          "execution_count": 62
        }
      ]
    },
    {
      "cell_type": "markdown",
      "source": [
        "The following is a list of **common** data types that you will encounter most of the times:\n",
        "* torch.bool<font color=\"red\">\n",
        "+ torch.int8\n",
        "+ torch.uint8\n",
        "+ torch.int16\n",
        "+ torch.int32\n",
        "+ torch.int64</font><font color=\"magenta\">\n",
        "+ torch.half\n",
        "+ torch.float\n",
        "+ torch.double\n",
        "+ torch.bfloat16\n"
      ],
      "metadata": {
        "id": "bI1gLayqvn2A"
      }
    },
    {
      "cell_type": "markdown",
      "source": [
        "# **Some Math operations with `Tensors`**\n",
        "\n",
        "We now know how to create `tensor`s and also know various data types they can take. Next is what can we do with the `tensors`? To begin with we will do some basic addition with `scalar`, like numbers. For example, if we have a `tensor` of ones and we want to add 5 to each of the elements in it."
      ],
      "metadata": {
        "id": "hfTNV1wByxsP"
      }
    },
    {
      "cell_type": "code",
      "source": [
        "ones_tensor = torch.ones(2, 3)\n",
        "print(ones_tensor)\n",
        "\n",
        "# Add 5 to each of the elements\n",
        "\n",
        "five_added = ones_tensor + 5\n",
        "print(five_added)"
      ],
      "metadata": {
        "colab": {
          "base_uri": "https://localhost:8080/"
        },
        "id": "nYJU4bpTtGeN",
        "outputId": "8f644602-898e-4c55-81e0-64871f838e32"
      },
      "execution_count": 63,
      "outputs": [
        {
          "output_type": "stream",
          "name": "stdout",
          "text": [
            "tensor([[1., 1., 1.],\n",
            "        [1., 1., 1.]])\n",
            "tensor([[6., 6., 6.],\n",
            "        [6., 6., 6.]])\n"
          ]
        }
      ]
    },
    {
      "cell_type": "markdown",
      "source": [
        "It is evident that the `scalar` 5 is added to each of the elements in our original `ones_tensor`. Likewise, we can multiply a `tensor` by a `scalar` quantity  as follows:"
      ],
      "metadata": {
        "id": "t7Ka2QZgzvvY"
      }
    },
    {
      "cell_type": "code",
      "source": [
        "torch.manual_seed(248)\n",
        "random_tensor = torch.rand(2, 3)\n",
        "print(random_tensor)\n",
        "multiplied_tensor = random_tensor * 5\n",
        "print(multiplied_tensor)"
      ],
      "metadata": {
        "colab": {
          "base_uri": "https://localhost:8080/"
        },
        "id": "uMiDFkrLtGb3",
        "outputId": "cee0ccf1-7ae2-4995-94a1-f31e876d2495"
      },
      "execution_count": 64,
      "outputs": [
        {
          "output_type": "stream",
          "name": "stdout",
          "text": [
            "tensor([[0.1486, 0.6503, 0.1690],\n",
            "        [0.0158, 0.4595, 0.9061]])\n",
            "tensor([[0.7429, 3.2515, 0.8448],\n",
            "        [0.0788, 2.2977, 4.5307]])\n"
          ]
        }
      ]
    },
    {
      "cell_type": "markdown",
      "source": [
        "We can also supply a a chain of arithmetic operations including division, multiplication, addition, subtraction by `scalars`  as follows"
      ],
      "metadata": {
        "id": "NS2Iit9u0z3C"
      }
    },
    {
      "cell_type": "code",
      "source": [
        "torch.manual_seed(248)\n",
        "random_tensor = torch.rand(2, 3)\n",
        "print(random_tensor)\n",
        "chained_operations = (((random_tensor / 3) * 7) + 9) - 89\n",
        "print(chained_operations)"
      ],
      "metadata": {
        "colab": {
          "base_uri": "https://localhost:8080/"
        },
        "id": "-nM7kRDGtGZl",
        "outputId": "c40c40e6-7b21-4def-c70e-f5f267448e70"
      },
      "execution_count": 65,
      "outputs": [
        {
          "output_type": "stream",
          "name": "stdout",
          "text": [
            "tensor([[0.1486, 0.6503, 0.1690],\n",
            "        [0.0158, 0.4595, 0.9061]])\n",
            "tensor([[-79.6533, -78.4826, -79.6058],\n",
            "        [-79.9632, -78.9277, -77.8857]])\n"
          ]
        }
      ]
    },
    {
      "cell_type": "markdown",
      "source": [
        "Let us try to confirm one element. Say the first element which is 0.1486"
      ],
      "metadata": {
        "id": "htSqtBGX12IE"
      }
    },
    {
      "cell_type": "code",
      "source": [
        "0.1486 / 3 # First we divide it by 3"
      ],
      "metadata": {
        "colab": {
          "base_uri": "https://localhost:8080/"
        },
        "id": "LUYl6gFhtGW_",
        "outputId": "263c45cc-55c0-4b12-8d38-97a66f1c0f24"
      },
      "execution_count": 66,
      "outputs": [
        {
          "output_type": "execute_result",
          "data": {
            "text/plain": [
              "0.04953333333333334"
            ]
          },
          "metadata": {},
          "execution_count": 66
        }
      ]
    },
    {
      "cell_type": "code",
      "source": [
        "0.04953333333333334 * 7 # Then we multiply by 7"
      ],
      "metadata": {
        "colab": {
          "base_uri": "https://localhost:8080/"
        },
        "id": "HNZeo1x8tGUc",
        "outputId": "32c02246-e63a-4432-e4c8-0279c71727b2"
      },
      "execution_count": 67,
      "outputs": [
        {
          "output_type": "execute_result",
          "data": {
            "text/plain": [
              "0.3467333333333334"
            ]
          },
          "metadata": {},
          "execution_count": 67
        }
      ]
    },
    {
      "cell_type": "code",
      "source": [
        "0.3467333333333334 + 9 # Then we add 9"
      ],
      "metadata": {
        "colab": {
          "base_uri": "https://localhost:8080/"
        },
        "id": "B2ud1ueUtGSH",
        "outputId": "0a83af30-b5aa-44bd-ef15-4ae4a5fae6c5"
      },
      "execution_count": 68,
      "outputs": [
        {
          "output_type": "execute_result",
          "data": {
            "text/plain": [
              "9.346733333333333"
            ]
          },
          "metadata": {},
          "execution_count": 68
        }
      ]
    },
    {
      "cell_type": "code",
      "source": [
        "9.346733333333333 - 89 # Finally we subtract 89"
      ],
      "metadata": {
        "colab": {
          "base_uri": "https://localhost:8080/"
        },
        "id": "gLIoi3MttGPa",
        "outputId": "33dbca8e-4946-409a-8f90-1851735ef2f2"
      },
      "execution_count": 69,
      "outputs": [
        {
          "output_type": "execute_result",
          "data": {
            "text/plain": [
              "-79.65326666666667"
            ]
          },
          "metadata": {},
          "execution_count": 69
        }
      ]
    },
    {
      "cell_type": "code",
      "source": [],
      "metadata": {
        "id": "Mtg7u5hAtGM8"
      },
      "execution_count": null,
      "outputs": []
    },
    {
      "cell_type": "code",
      "source": [],
      "metadata": {
        "id": "8xfwaZ4ztGKU"
      },
      "execution_count": null,
      "outputs": []
    },
    {
      "cell_type": "code",
      "source": [
        "# Create from preexisting arrays\n",
        "x = torch.tensor([1, 2, 3]) # Creating from a list\n",
        "print(x)\n"
      ],
      "metadata": {
        "colab": {
          "base_uri": "https://localhost:8080/"
        },
        "id": "OWCEOX6CNH8t",
        "outputId": "0fb8d026-dd09-4b8a-9827-4e1da63b79ee"
      },
      "execution_count": null,
      "outputs": [
        {
          "output_type": "stream",
          "name": "stdout",
          "text": [
            "tensor([1, 2, 3])\n"
          ]
        }
      ]
    },
    {
      "cell_type": "code",
      "source": [
        "x = torch.tensor((1, 2, 3)) # Creating from a tuple\n",
        "print(x)"
      ],
      "metadata": {
        "colab": {
          "base_uri": "https://localhost:8080/"
        },
        "id": "-vI1mHy1NkYG",
        "outputId": "1725cc10-d069-44a4-df9c-614773b15218"
      },
      "execution_count": null,
      "outputs": [
        {
          "output_type": "stream",
          "name": "stdout",
          "text": [
            "tensor([1, 2, 3])\n"
          ]
        }
      ]
    },
    {
      "cell_type": "code",
      "source": [
        "x = torch.tensor(numpy.array([1, 2, 3])) # Creating from numpy array\n",
        "print(x)"
      ],
      "metadata": {
        "colab": {
          "base_uri": "https://localhost:8080/"
        },
        "id": "Ft-7-_9GNxJQ",
        "outputId": "018f9494-2d56-498f-c0e0-aac38b52cc6d"
      },
      "execution_count": null,
      "outputs": [
        {
          "output_type": "stream",
          "name": "stdout",
          "text": [
            "tensor([1, 2, 3])\n"
          ]
        }
      ]
    },
    {
      "cell_type": "markdown",
      "source": [
        "Other than `tensor` that we specifically indicate the values it should hold, we can also create `tensor` in which we only specify their dimensions/rank."
      ],
      "metadata": {
        "id": "3qkKls5uN2rV"
      }
    },
    {
      "cell_type": "code",
      "source": [
        "w = torch.empty(2, 3) # Uninitialized, no one can predict the initial values\n",
        "w"
      ],
      "metadata": {
        "colab": {
          "base_uri": "https://localhost:8080/"
        },
        "id": "8N97sZYFNxyH",
        "outputId": "689a5861-3ff0-4d12-90cd-1bd03ad1168d"
      },
      "execution_count": null,
      "outputs": [
        {
          "output_type": "execute_result",
          "data": {
            "text/plain": [
              "tensor([[5.4640e-05, 4.1296e-05, 2.1651e+23],\n",
              "        [1.0979e-05, 3.1201e-18, 3.1360e+27]])"
            ]
          },
          "metadata": {},
          "execution_count": 12
        }
      ]
    },
    {
      "cell_type": "code",
      "source": [
        "w = torch.zeros(2, 3) # All elements in the tensor initialized by 0.0\n",
        "w"
      ],
      "metadata": {
        "colab": {
          "base_uri": "https://localhost:8080/"
        },
        "id": "jrK9diFTOQ74",
        "outputId": "7815b75e-ec11-4173-a493-7e3014327ea4"
      },
      "execution_count": null,
      "outputs": [
        {
          "output_type": "execute_result",
          "data": {
            "text/plain": [
              "tensor([[0., 0., 0.],\n",
              "        [0., 0., 0.]])"
            ]
          },
          "metadata": {},
          "execution_count": 13
        }
      ]
    },
    {
      "cell_type": "code",
      "source": [
        "w = torch.ones(2, 3) # All elements initialized by 1.0\n",
        "w"
      ],
      "metadata": {
        "colab": {
          "base_uri": "https://localhost:8080/"
        },
        "id": "tkS7fGsqOVyx",
        "outputId": "f091cf6f-a604-49c7-9599-210e88dbf1b9"
      },
      "execution_count": null,
      "outputs": [
        {
          "output_type": "execute_result",
          "data": {
            "text/plain": [
              "tensor([[1., 1., 1.],\n",
              "        [1., 1., 1.]])"
            ]
          },
          "metadata": {},
          "execution_count": 14
        }
      ]
    },
    {
      "cell_type": "markdown",
      "source": [
        "Sometimes we may want to initialize a `tensor` with random numbers. There are functions that can help us with such tasks as follows:"
      ],
      "metadata": {
        "id": "reTZ7fK1PFwD"
      }
    },
    {
      "cell_type": "code",
      "source": [
        "y = torch.rand(4, 5) # Creates a 4 x 5 tensor with elements from uniform distribution on the interval (0, 1)\n",
        "y"
      ],
      "metadata": {
        "colab": {
          "base_uri": "https://localhost:8080/"
        },
        "id": "Q5IBasbIPQYI",
        "outputId": "1bea01a6-ef4f-4be7-9a42-776db57574ca"
      },
      "execution_count": null,
      "outputs": [
        {
          "output_type": "execute_result",
          "data": {
            "text/plain": [
              "tensor([[0.8418, 0.3298, 0.9768, 0.0707, 0.3640],\n",
              "        [0.6385, 0.9551, 0.2330, 0.7469, 0.8732],\n",
              "        [0.1216, 0.6281, 0.0420, 0.3550, 0.3747],\n",
              "        [0.2140, 0.1895, 0.3865, 0.5344, 0.3880]])"
            ]
          },
          "metadata": {},
          "execution_count": 15
        }
      ]
    },
    {
      "cell_type": "code",
      "source": [
        "y = torch.randn(4, 5) # Creates a 4 x 5 tensor with elements from normal distribution with mean 0 and variance of 1.\n",
        "y"
      ],
      "metadata": {
        "colab": {
          "base_uri": "https://localhost:8080/"
        },
        "id": "lpJq7IkPPdoD",
        "outputId": "785b18e0-3ebe-4ee3-b43e-2d0797a73feb"
      },
      "execution_count": null,
      "outputs": [
        {
          "output_type": "execute_result",
          "data": {
            "text/plain": [
              "tensor([[-1.3413,  0.7833, -0.2912,  0.4531,  0.4691],\n",
              "        [ 0.9453, -1.1535,  0.5099, -0.8825, -1.1839],\n",
              "        [-1.6739,  0.3192,  0.4024,  0.1985, -1.4034],\n",
              "        [ 0.0345,  0.6887,  1.1673,  0.2618,  0.8854]])"
            ]
          },
          "metadata": {},
          "execution_count": 16
        }
      ]
    },
    {
      "cell_type": "code",
      "source": [
        "y = torch.randint(-5, 5, (2, 3)) # Creates a 2 x 3 tensor with elements drawn between 0 and 9\n",
        "y"
      ],
      "metadata": {
        "colab": {
          "base_uri": "https://localhost:8080/"
        },
        "id": "L4AAGSdkPjV6",
        "outputId": "e37753a8-4abc-4f04-d3ca-36f240cd55d1"
      },
      "execution_count": null,
      "outputs": [
        {
          "output_type": "execute_result",
          "data": {
            "text/plain": [
              "tensor([[ 4, -4, -4],\n",
              "        [ 3,  3,  2]])"
            ]
          },
          "metadata": {},
          "execution_count": 17
        }
      ]
    },
    {
      "cell_type": "markdown",
      "source": [
        "### **Data type and device**\n",
        "\n",
        "Upon creating the `tensor`, it is possible and sometimes a good practice to assign them data type and device. This can be achieved as follows:"
      ],
      "metadata": {
        "id": "sf8NYBRrRN0E"
      }
    },
    {
      "cell_type": "code",
      "source": [
        "m = torch.rand((2, 3), dtype = torch.float32, device = 'cpu')\n",
        "print(f\"The tensor is of data type: {m.dtype} and on {m.device} device.\")"
      ],
      "metadata": {
        "colab": {
          "base_uri": "https://localhost:8080/"
        },
        "id": "8KXHVClKRg3X",
        "outputId": "c8a07dfd-91a7-4abb-afbf-304f1f7a7172"
      },
      "execution_count": null,
      "outputs": [
        {
          "output_type": "stream",
          "name": "stdout",
          "text": [
            "The tensor is of data type: torch.float32 and on cpu device.\n"
          ]
        }
      ]
    },
    {
      "cell_type": "markdown",
      "source": [
        "### **Tensor attributes**\n",
        "\n",
        "After creating a `tensor`, we can see some information about it using its attributes. Some of the attributes include size, data type, ndim etc:"
      ],
      "metadata": {
        "id": "zEU65ki1WR6K"
      }
    },
    {
      "cell_type": "code",
      "source": [
        "m = torch.rand(5, 6)\n",
        "m.dtype # This tells us that it is float32"
      ],
      "metadata": {
        "colab": {
          "base_uri": "https://localhost:8080/"
        },
        "id": "5zbsbvdmSBt4",
        "outputId": "ee98ff6e-61a8-49e7-a49b-b7e7709d5819"
      },
      "execution_count": null,
      "outputs": [
        {
          "output_type": "execute_result",
          "data": {
            "text/plain": [
              "torch.float32"
            ]
          },
          "metadata": {},
          "execution_count": 19
        }
      ]
    },
    {
      "cell_type": "code",
      "source": [
        "m.device # This returns device on which the tensor is located. In this case cpu."
      ],
      "metadata": {
        "colab": {
          "base_uri": "https://localhost:8080/"
        },
        "id": "dU7gfbCLWyAd",
        "outputId": "9b5d5016-3d32-42c3-fb9c-df056fd42324"
      },
      "execution_count": null,
      "outputs": [
        {
          "output_type": "execute_result",
          "data": {
            "text/plain": [
              "device(type='cpu')"
            ]
          },
          "metadata": {},
          "execution_count": 20
        }
      ]
    },
    {
      "cell_type": "code",
      "source": [
        "m.shape # Tells us the rank or dimension of the tensor. Here it is 5 x 6."
      ],
      "metadata": {
        "colab": {
          "base_uri": "https://localhost:8080/"
        },
        "id": "Gsb9xTjBW0jn",
        "outputId": "90415b4b-76ee-4010-aba6-4216bc2fb091"
      },
      "execution_count": null,
      "outputs": [
        {
          "output_type": "execute_result",
          "data": {
            "text/plain": [
              "torch.Size([5, 6])"
            ]
          },
          "metadata": {},
          "execution_count": 21
        }
      ]
    },
    {
      "cell_type": "code",
      "source": [
        "m.ndim # Tells us it has 2 dimensions."
      ],
      "metadata": {
        "colab": {
          "base_uri": "https://localhost:8080/"
        },
        "id": "01OKaAvIW8cw",
        "outputId": "cbfd5218-b016-4877-ae42-cae019c8d94b"
      },
      "execution_count": null,
      "outputs": [
        {
          "output_type": "execute_result",
          "data": {
            "text/plain": [
              "2"
            ]
          },
          "metadata": {},
          "execution_count": 22
        }
      ]
    },
    {
      "cell_type": "markdown",
      "source": [
        "There are additional attributes like:\n",
        "\n",
        "\n",
        "*   `requires_grad`\n",
        "*   `grad`\n",
        "*   `grad_fn`\n",
        "*   `s_cuda`\n",
        "*   `is_sparse`\n",
        "*   `is_quantized`\n",
        "*   `is_leaf`\n",
        "*  `is_mkldnn`\n",
        "\n",
        "Well no need to dig them now.\n",
        "\n"
      ],
      "metadata": {
        "id": "yIWKFgrhXVVQ"
      }
    },
    {
      "cell_type": "markdown",
      "source": [
        "### **Create `tensor` like other `tensor`**\n",
        "\n",
        "You may have a `tensor` and want to create another one like it. This is normally achieved with the `_like` suffix. For example, empty_like, ones_like, rand_like."
      ],
      "metadata": {
        "id": "m0yUmTWOYjr4"
      }
    },
    {
      "cell_type": "code",
      "source": [
        "n = torch.rand(2, 3)\n",
        "p = torch.rand_like(n)\n",
        "\n",
        "print(f\"The original \\n {n} \\n and its like \\n {p}.\")\n"
      ],
      "metadata": {
        "colab": {
          "base_uri": "https://localhost:8080/"
        },
        "id": "3PM_uuTYXPLq",
        "outputId": "37800f2a-d8b1-47dc-c359-8f094bb6d42d"
      },
      "execution_count": null,
      "outputs": [
        {
          "output_type": "stream",
          "name": "stdout",
          "text": [
            "The original \n",
            " tensor([[0.2506, 0.3494, 0.5554],\n",
            "        [0.2493, 0.4752, 0.6765]]) \n",
            " and its like \n",
            " tensor([[0.9079, 0.6944, 0.6524],\n",
            "        [0.0581, 0.2402, 0.0714]]).\n"
          ]
        }
      ]
    },
    {
      "cell_type": "markdown",
      "source": [
        "The aspect of **_like** here gives the new tensor same shape, dtype and ndim. That is structurally similar but not necessarily elementwise. That is, the elements will be different."
      ],
      "metadata": {
        "id": "oBbEokEGaOZG"
      }
    },
    {
      "cell_type": "markdown",
      "source": [
        "## **`Tensor` Operations**\n",
        "Well our task is not only to create `tensor`, but to work with them. So, in this part, we will cover some of the `tensor` operations, in fact we did them earlier when we were using transforms from `torchvision`. Some of the operations we will do here include slicing portions of the data, combining `tensor`, spliting `tensor` and both simple and advanced operations on them."
      ],
      "metadata": {
        "id": "Tq3gIaSja5NP"
      }
    },
    {
      "cell_type": "markdown",
      "source": [
        "### **Indexing `tensors`**\n",
        "\n",
        "We can index `tensor` by using [ ]. Just like with numpy arrays. In this example, we create a `tensor` then extract the element in the second row and second column."
      ],
      "metadata": {
        "id": "KeyDuc6Ubxhn"
      }
    },
    {
      "cell_type": "code",
      "source": [
        "x = torch.tensor([[1, 2], [3, 4], [5, 6], [7, 8]])\n",
        "print(x)"
      ],
      "metadata": {
        "colab": {
          "base_uri": "https://localhost:8080/"
        },
        "id": "uZRYGEgBadJ4",
        "outputId": "e0fd68cb-7b41-4f7c-822a-9829147718c3"
      },
      "execution_count": null,
      "outputs": [
        {
          "output_type": "stream",
          "name": "stdout",
          "text": [
            "tensor([[1, 2],\n",
            "        [3, 4],\n",
            "        [5, 6],\n",
            "        [7, 8]])\n"
          ]
        }
      ]
    },
    {
      "cell_type": "markdown",
      "source": [
        "Now to index number 4:"
      ],
      "metadata": {
        "id": "I5kzvlfNcUtP"
      }
    },
    {
      "cell_type": "code",
      "source": [
        "x.shape # Confirming the shape of the tensor"
      ],
      "metadata": {
        "colab": {
          "base_uri": "https://localhost:8080/"
        },
        "id": "fe48jnR2hXkG",
        "outputId": "72be5302-90a9-4062-dfca-9295bed2d381"
      },
      "execution_count": null,
      "outputs": [
        {
          "output_type": "execute_result",
          "data": {
            "text/plain": [
              "torch.Size([4, 2])"
            ]
          },
          "metadata": {},
          "execution_count": 29
        }
      ]
    },
    {
      "cell_type": "code",
      "source": [
        "print(x[1, 1].item())"
      ],
      "metadata": {
        "colab": {
          "base_uri": "https://localhost:8080/"
        },
        "id": "xEopjE89cZWi",
        "outputId": "66d38a08-6544-4f38-9ab3-910191a42010"
      },
      "execution_count": null,
      "outputs": [
        {
          "output_type": "stream",
          "name": "stdout",
          "text": [
            "4\n"
          ]
        }
      ]
    },
    {
      "cell_type": "code",
      "source": [
        "print(x[1][1].item()) # This can be indexed as so too."
      ],
      "metadata": {
        "colab": {
          "base_uri": "https://localhost:8080/"
        },
        "id": "au0y3iD5hFOv",
        "outputId": "ce07bf69-7784-4486-cefa-4b7c7e9da91c"
      },
      "execution_count": null,
      "outputs": [
        {
          "output_type": "stream",
          "name": "stdout",
          "text": [
            "4\n"
          ]
        }
      ]
    },
    {
      "cell_type": "markdown",
      "source": [
        "To index number 7:"
      ],
      "metadata": {
        "id": "2CaT9Pyzcwq2"
      }
    },
    {
      "cell_type": "code",
      "source": [
        "print(x[3, 0].item())"
      ],
      "metadata": {
        "colab": {
          "base_uri": "https://localhost:8080/"
        },
        "id": "WIy6jggyccek",
        "outputId": "cc5fbde2-c69a-4e50-e9d3-3fccfae59012"
      },
      "execution_count": null,
      "outputs": [
        {
          "output_type": "stream",
          "name": "stdout",
          "text": [
            "7\n"
          ]
        }
      ]
    },
    {
      "cell_type": "code",
      "source": [
        "print(x[3][0].item()) # the .item() helps to return the actual number and not tensor."
      ],
      "metadata": {
        "colab": {
          "base_uri": "https://localhost:8080/"
        },
        "id": "YD-PpOumhfhs",
        "outputId": "81381be4-86ff-4f2d-c45c-3e26a4610f93"
      },
      "execution_count": null,
      "outputs": [
        {
          "output_type": "stream",
          "name": "stdout",
          "text": [
            "7\n"
          ]
        }
      ]
    },
    {
      "cell_type": "markdown",
      "source": [
        "### **Slicing `tensors`**\n",
        "\n",
        "We can slice `tensor` by using [ ]. Just like with numpy arrays. In this example, we create a `tensor` then slice a portion of it."
      ],
      "metadata": {
        "id": "S4HfIjhhg2Os"
      }
    },
    {
      "cell_type": "code",
      "source": [
        "x.shape"
      ],
      "metadata": {
        "id": "gDGQTtWtc4Ws",
        "colab": {
          "base_uri": "https://localhost:8080/"
        },
        "outputId": "c4755b66-d79c-4591-e567-c4deac66c742"
      },
      "execution_count": null,
      "outputs": [
        {
          "output_type": "execute_result",
          "data": {
            "text/plain": [
              "torch.Size([4, 2])"
            ]
          },
          "metadata": {},
          "execution_count": 68
        }
      ]
    },
    {
      "cell_type": "code",
      "source": [
        "x"
      ],
      "metadata": {
        "colab": {
          "base_uri": "https://localhost:8080/"
        },
        "id": "GbnntU2RjkTf",
        "outputId": "51b2c902-d086-4da6-db76-ac5e166ba221"
      },
      "execution_count": null,
      "outputs": [
        {
          "output_type": "execute_result",
          "data": {
            "text/plain": [
              "tensor([[1, 2],\n",
              "        [3, 4],\n",
              "        [5, 6],\n",
              "        [7, 8]])"
            ]
          },
          "metadata": {},
          "execution_count": 70
        }
      ]
    },
    {
      "cell_type": "code",
      "source": [
        "x[:2, :] # Slices the first two rows and all columns."
      ],
      "metadata": {
        "colab": {
          "base_uri": "https://localhost:8080/"
        },
        "id": "PjyPFYEnjdEc",
        "outputId": "1ac39a03-6383-4bf1-e4d5-3170279902af"
      },
      "execution_count": null,
      "outputs": [
        {
          "output_type": "execute_result",
          "data": {
            "text/plain": [
              "tensor([[1, 2],\n",
              "        [3, 4]])"
            ]
          },
          "metadata": {},
          "execution_count": 71
        }
      ]
    },
    {
      "cell_type": "code",
      "source": [
        "x[1:3, :] # Slices from row index 1 to 3 and all columns."
      ],
      "metadata": {
        "colab": {
          "base_uri": "https://localhost:8080/"
        },
        "id": "hdLyVRJQjt-9",
        "outputId": "33f4b01d-a550-4e7c-f2c8-18dcfedf84f4"
      },
      "execution_count": null,
      "outputs": [
        {
          "output_type": "execute_result",
          "data": {
            "text/plain": [
              "tensor([[3, 4],\n",
              "        [5, 6]])"
            ]
          },
          "metadata": {},
          "execution_count": 73
        }
      ]
    },
    {
      "cell_type": "code",
      "source": [
        "x[:, 1] # All rows in column 1"
      ],
      "metadata": {
        "colab": {
          "base_uri": "https://localhost:8080/"
        },
        "id": "GVE8FoJdkF2L",
        "outputId": "e4c884be-07a5-41cf-fee0-286c22806fb4"
      },
      "execution_count": null,
      "outputs": [
        {
          "output_type": "execute_result",
          "data": {
            "text/plain": [
              "tensor([2, 4, 6, 8])"
            ]
          },
          "metadata": {},
          "execution_count": 74
        }
      ]
    },
    {
      "cell_type": "code",
      "source": [
        "x[:, 0] # All rows in column index 0"
      ],
      "metadata": {
        "colab": {
          "base_uri": "https://localhost:8080/"
        },
        "id": "LXoFd8BRkKS4",
        "outputId": "369887e5-6bbb-4865-f982-8c3a8b7e2cc1"
      },
      "execution_count": null,
      "outputs": [
        {
          "output_type": "execute_result",
          "data": {
            "text/plain": [
              "tensor([1, 3, 5, 7])"
            ]
          },
          "metadata": {},
          "execution_count": 82
        }
      ]
    },
    {
      "cell_type": "code",
      "source": [
        "x[:, -1] # All rows in column 1"
      ],
      "metadata": {
        "colab": {
          "base_uri": "https://localhost:8080/"
        },
        "id": "hFTHzNcokd_v",
        "outputId": "e4f467a1-ab67-48cd-fb04-b738a6349195"
      },
      "execution_count": null,
      "outputs": [
        {
          "output_type": "execute_result",
          "data": {
            "text/plain": [
              "tensor([2, 4, 6, 8])"
            ]
          },
          "metadata": {},
          "execution_count": 84
        }
      ]
    },
    {
      "cell_type": "markdown",
      "source": [
        "## **Exercises**\n",
        "\n",
        "1. Create a tensor with random integers between 0 and 10 called `ten` of shape 5 by 7. Ensure the dtype is `int16`. Ensure you set manual seed, preferably **248** so that you get same answer as my `tensor`.\n",
        "2. In the `ten` created, index element in row 3 column 4.\n",
        "  * Print it as a `tensor`\n",
        "  * print it as an item\n",
        "3. Slice the `ten` from rows 3 to 4 and columns 4 to 6."
      ],
      "metadata": {
        "id": "M9H1-jLik0rp"
      }
    },
    {
      "cell_type": "code",
      "source": [
        "torch.manual_seed(248)\n",
        "ten = torch.randint(low = 0, high = 10, size = (5, 7), dtype = torch.int16)\n",
        "ten"
      ],
      "metadata": {
        "colab": {
          "base_uri": "https://localhost:8080/"
        },
        "id": "ZP9O7eV9mLDl",
        "outputId": "9ad8ef2c-fc5e-49d5-bec3-6299f0cda470"
      },
      "execution_count": null,
      "outputs": [
        {
          "output_type": "execute_result",
          "data": {
            "text/plain": [
              "tensor([[2, 7, 3, 0, 6, 7, 9],\n",
              "        [5, 0, 0, 7, 4, 9, 7],\n",
              "        [5, 1, 6, 7, 0, 0, 1],\n",
              "        [9, 2, 0, 5, 9, 5, 5],\n",
              "        [3, 5, 4, 1, 9, 0, 3]], dtype=torch.int16)"
            ]
          },
          "metadata": {},
          "execution_count": 119
        }
      ]
    },
    {
      "cell_type": "code",
      "source": [
        "ten[2, 2]"
      ],
      "metadata": {
        "colab": {
          "base_uri": "https://localhost:8080/"
        },
        "id": "DNTP2FSymSAk",
        "outputId": "2f5b8e1c-b8bb-4f7f-d15e-4d8854034b52"
      },
      "execution_count": null,
      "outputs": [
        {
          "output_type": "execute_result",
          "data": {
            "text/plain": [
              "tensor(6, dtype=torch.int16)"
            ]
          },
          "metadata": {},
          "execution_count": 120
        }
      ]
    },
    {
      "cell_type": "code",
      "source": [
        "ten[2, 2].item()"
      ],
      "metadata": {
        "colab": {
          "base_uri": "https://localhost:8080/"
        },
        "id": "_XI6N-osnHEd",
        "outputId": "8116e8ba-5fcd-44ed-b347-0635626882f1"
      },
      "execution_count": null,
      "outputs": [
        {
          "output_type": "execute_result",
          "data": {
            "text/plain": [
              "6"
            ]
          },
          "metadata": {},
          "execution_count": 121
        }
      ]
    },
    {
      "cell_type": "code",
      "source": [
        "ten[2:4, 3:6]"
      ],
      "metadata": {
        "colab": {
          "base_uri": "https://localhost:8080/"
        },
        "id": "aL-VkKmrnOWR",
        "outputId": "b4bfc91a-5678-4deb-9a52-b2c5f8ef9085"
      },
      "execution_count": null,
      "outputs": [
        {
          "output_type": "execute_result",
          "data": {
            "text/plain": [
              "tensor([[7, 0, 0],\n",
              "        [5, 9, 5]], dtype=torch.int16)"
            ]
          },
          "metadata": {},
          "execution_count": 122
        }
      ]
    },
    {
      "cell_type": "markdown",
      "source": [
        "## **References**\n",
        "\n",
        "https://pytorch.org/docs/stable/tensors.html\n",
        "\n",
        "https://pytorch.org/tutorials/beginner/introyt/tensors_deeper_tutorial.html"
      ],
      "metadata": {
        "id": "55EbNBDTqGSI"
      }
    }
  ]
}