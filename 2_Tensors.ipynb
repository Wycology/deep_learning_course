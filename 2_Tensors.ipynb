{
  "nbformat": 4,
  "nbformat_minor": 0,
  "metadata": {
    "colab": {
      "provenance": [],
      "authorship_tag": "ABX9TyOMu5X1crxUpSKwxehjYEyL",
      "include_colab_link": true
    },
    "kernelspec": {
      "name": "python3",
      "display_name": "Python 3"
    },
    "language_info": {
      "name": "python"
    }
  },
  "cells": [
    {
      "cell_type": "markdown",
      "metadata": {
        "id": "view-in-github",
        "colab_type": "text"
      },
      "source": [
        "<a href=\"https://colab.research.google.com/github/Wycology/deep_learning_course/blob/main/2_Tensors.ipynb\" target=\"_parent\"><img src=\"https://colab.research.google.com/assets/colab-badge.svg\" alt=\"Open In Colab\"/></a>"
      ]
    },
    {
      "cell_type": "markdown",
      "source": [
        "# <font color='green'><b> SATELLITE DATA FOR AGRICULTURAL ECONOMISTS</b></font>\n",
        "\n",
        "\n",
        "<font color='blue'><b>THEORY AND PRACTICE</b></font>\n",
        "\n",
        "**_MACHINE & DEEP LEARNING_**\n",
        "\n",
        "\n",
        "*David Wuepper, Hadi Hadi, Wyclife Agumba Oluoch*\n",
        "\n",
        "[Land Economics Group](https://www.ilr1.uni-bonn.de/en/research/research-groups/land-economics), University of Bonn, Bonn, Germany\n",
        "\n",
        "---\n",
        "\n",
        "# **Background**\n",
        "\n",
        "\n",
        "---"
      ],
      "metadata": {
        "id": "l-_SHva1E7Ub"
      }
    },
    {
      "cell_type": "markdown",
      "source": [
        "`Tensor`, by definition, is the fundamental data structure used to store and manipulate data in `PyTorch`. Understanding `tensor` is paramount to understanding how `PyTorch` implements advanced functions for deep learning. At both preprocessing of input and postprocessing of output, you will be dealing with `tensor` in most cases. It is therefore important to understand what `tensor` are and operations on them. If you know `NumPy` then you are 100% good to take on `tensor`. Let us see how to create some `tensor`."
      ],
      "metadata": {
        "id": "q_n-jfsOFEgg"
      }
    },
    {
      "cell_type": "markdown",
      "source": [
        "For us to have `tensor`, we need to load `PyTorch` library first."
      ],
      "metadata": {
        "id": "dqjCB7rHH5AG"
      }
    },
    {
      "cell_type": "code",
      "execution_count": 2,
      "metadata": {
        "id": "LFUBMYynEhF4"
      },
      "outputs": [],
      "source": [
        "import torch # Of course we need to have the PyTorch"
      ]
    },
    {
      "cell_type": "markdown",
      "source": [
        "We start with a simple `tensor` with just one digit."
      ],
      "metadata": {
        "id": "5DFWWLpdH3qf"
      }
    },
    {
      "cell_type": "code",
      "source": [
        "x = torch.tensor(2) # Creates a tensor containing value 2.\n",
        "x"
      ],
      "metadata": {
        "colab": {
          "base_uri": "https://localhost:8080/"
        },
        "id": "EAed40fgHLUu",
        "outputId": "6a65754e-790b-4619-ea09-85e65db2bec0"
      },
      "execution_count": 3,
      "outputs": [
        {
          "output_type": "execute_result",
          "data": {
            "text/plain": [
              "tensor(2)"
            ]
          },
          "metadata": {},
          "execution_count": 3
        }
      ]
    },
    {
      "cell_type": "markdown",
      "source": [
        "We can also create a `tensor` from a list of numbers as follows."
      ],
      "metadata": {
        "id": "CfLmZki9IX6R"
      }
    },
    {
      "cell_type": "code",
      "source": [
        "x = torch.tensor([1, 2, 3]) # Creates a tensor containing the values 1, 2, and 3 in the list.\n",
        "x"
      ],
      "metadata": {
        "colab": {
          "base_uri": "https://localhost:8080/"
        },
        "id": "dNx4SO-mHdU9",
        "outputId": "d9727f17-f972-4655-8cd5-cf67ffd4dc17"
      },
      "execution_count": 4,
      "outputs": [
        {
          "output_type": "execute_result",
          "data": {
            "text/plain": [
              "tensor([1, 2, 3])"
            ]
          },
          "metadata": {},
          "execution_count": 4
        }
      ]
    },
    {
      "cell_type": "markdown",
      "source": [
        "We can have `tensor` for list within list."
      ],
      "metadata": {
        "id": "7b2mz932IcX6"
      }
    },
    {
      "cell_type": "code",
      "source": [
        "x = torch.tensor([[1, 2, 3], [4, 5, 6]]) # Creates a 2 x 3 tensor.\n",
        "x"
      ],
      "metadata": {
        "colab": {
          "base_uri": "https://localhost:8080/"
        },
        "id": "iC7Od0KWHpcG",
        "outputId": "4a9d857c-2d04-47f2-8ccc-75bd145de590"
      },
      "execution_count": 5,
      "outputs": [
        {
          "output_type": "execute_result",
          "data": {
            "text/plain": [
              "tensor([[1, 2, 3],\n",
              "        [4, 5, 6]])"
            ]
          },
          "metadata": {},
          "execution_count": 5
        }
      ]
    },
    {
      "cell_type": "markdown",
      "source": [
        "We can also perform simple operations with `tensor` like addition."
      ],
      "metadata": {
        "id": "GdyvIIaAI6cq"
      }
    },
    {
      "cell_type": "code",
      "source": [
        "x = torch.tensor([[1, 2, 3], [4, 5, 6]])\n",
        "y = torch.tensor([[7, 8, 9], [10, 11, 12]])\n",
        "z = x + y\n",
        "print(z)"
      ],
      "metadata": {
        "colab": {
          "base_uri": "https://localhost:8080/"
        },
        "id": "31JuTDorI5p4",
        "outputId": "7fdb9500-702d-4877-94fe-f2819674cfb0"
      },
      "execution_count": 6,
      "outputs": [
        {
          "output_type": "stream",
          "name": "stdout",
          "text": [
            "tensor([[ 8, 10, 12],\n",
            "        [14, 16, 18]])\n"
          ]
        }
      ]
    },
    {
      "cell_type": "markdown",
      "source": [
        "We may be interested in knowing the shape of the `tensor`."
      ],
      "metadata": {
        "id": "Gqqn1h9GJR6A"
      }
    },
    {
      "cell_type": "code",
      "source": [
        "print(z.shape)"
      ],
      "metadata": {
        "colab": {
          "base_uri": "https://localhost:8080/"
        },
        "id": "D7n9EIV5JXXB",
        "outputId": "19e4c998-75c9-4c6d-ac35-a9d2650358eb"
      },
      "execution_count": 7,
      "outputs": [
        {
          "output_type": "stream",
          "name": "stdout",
          "text": [
            "torch.Size([2, 3])\n"
          ]
        }
      ]
    },
    {
      "cell_type": "markdown",
      "source": [
        "## **Creating tensor**"
      ],
      "metadata": {
        "id": "skMjRQ6nLqmI"
      }
    },
    {
      "cell_type": "markdown",
      "source": [
        "`torch.tensor` is the basic way to create the `tensor` data structure. However, there are many ways to achieve this as follows:"
      ],
      "metadata": {
        "id": "znpiA-keMwug"
      }
    },
    {
      "cell_type": "code",
      "source": [
        "import numpy # We are importing this because we will create some tensors from numpy"
      ],
      "metadata": {
        "id": "FCtNeBEwLrM1"
      },
      "execution_count": 8,
      "outputs": []
    },
    {
      "cell_type": "code",
      "source": [
        "# Create from preexisting arrays\n",
        "x = torch.tensor([1, 2, 3]) # Creating from a list\n",
        "print(x)\n"
      ],
      "metadata": {
        "colab": {
          "base_uri": "https://localhost:8080/"
        },
        "id": "OWCEOX6CNH8t",
        "outputId": "25d24ec8-d30a-48f2-ad11-0bff74f21da3"
      },
      "execution_count": 9,
      "outputs": [
        {
          "output_type": "stream",
          "name": "stdout",
          "text": [
            "tensor([1, 2, 3])\n"
          ]
        }
      ]
    },
    {
      "cell_type": "code",
      "source": [
        "x = torch.tensor((1, 2, 3)) # Creating from a tuple\n",
        "print(x)"
      ],
      "metadata": {
        "colab": {
          "base_uri": "https://localhost:8080/"
        },
        "id": "-vI1mHy1NkYG",
        "outputId": "d282f969-900e-4148-8ccd-76f2b40924bd"
      },
      "execution_count": 10,
      "outputs": [
        {
          "output_type": "stream",
          "name": "stdout",
          "text": [
            "tensor([1, 2, 3])\n"
          ]
        }
      ]
    },
    {
      "cell_type": "code",
      "source": [
        "x = torch.tensor(numpy.array([1, 2, 3])) # Creating from numpy array\n",
        "print(x)"
      ],
      "metadata": {
        "colab": {
          "base_uri": "https://localhost:8080/"
        },
        "id": "Ft-7-_9GNxJQ",
        "outputId": "cb83f026-3112-4731-c116-bd41532c2b83"
      },
      "execution_count": 11,
      "outputs": [
        {
          "output_type": "stream",
          "name": "stdout",
          "text": [
            "tensor([1, 2, 3])\n"
          ]
        }
      ]
    },
    {
      "cell_type": "markdown",
      "source": [
        "Other than `tensor` that we specifically indicate the values it should hold, we can also create `tensor` in which we only specify their dimensions/rank."
      ],
      "metadata": {
        "id": "3qkKls5uN2rV"
      }
    },
    {
      "cell_type": "code",
      "source": [
        "w = torch.empty(2, 3) # Uninitialized, no one can predict the initial values\n",
        "w"
      ],
      "metadata": {
        "colab": {
          "base_uri": "https://localhost:8080/"
        },
        "id": "8N97sZYFNxyH",
        "outputId": "b6d865c1-ee1f-431b-eec9-e71af73c1639"
      },
      "execution_count": 12,
      "outputs": [
        {
          "output_type": "execute_result",
          "data": {
            "text/plain": [
              "tensor([[0.0000e+00, 0.0000e+00, 7.7052e+31],\n",
              "        [7.2148e+22, 1.5766e-19, 1.0256e-08]])"
            ]
          },
          "metadata": {},
          "execution_count": 12
        }
      ]
    },
    {
      "cell_type": "code",
      "source": [
        "w = torch.zeros(2, 3) # All elements in the tensor initialized by 0.0\n",
        "w"
      ],
      "metadata": {
        "colab": {
          "base_uri": "https://localhost:8080/"
        },
        "id": "jrK9diFTOQ74",
        "outputId": "28dbb91f-8383-4e14-aaf7-089a8e824501"
      },
      "execution_count": 13,
      "outputs": [
        {
          "output_type": "execute_result",
          "data": {
            "text/plain": [
              "tensor([[0., 0., 0.],\n",
              "        [0., 0., 0.]])"
            ]
          },
          "metadata": {},
          "execution_count": 13
        }
      ]
    },
    {
      "cell_type": "code",
      "source": [
        "w = torch.ones(2, 3) # All elements initialized by 1.0\n",
        "w"
      ],
      "metadata": {
        "colab": {
          "base_uri": "https://localhost:8080/"
        },
        "id": "tkS7fGsqOVyx",
        "outputId": "e9a41d8f-f5c0-49c4-edfd-1afac7034d32"
      },
      "execution_count": 14,
      "outputs": [
        {
          "output_type": "execute_result",
          "data": {
            "text/plain": [
              "tensor([[1., 1., 1.],\n",
              "        [1., 1., 1.]])"
            ]
          },
          "metadata": {},
          "execution_count": 14
        }
      ]
    },
    {
      "cell_type": "markdown",
      "source": [
        "Sometimes we may want to initialize a `tensor` with random numbers. There are functions that can help us with such tasks as follows:"
      ],
      "metadata": {
        "id": "reTZ7fK1PFwD"
      }
    },
    {
      "cell_type": "code",
      "source": [
        "y = torch.rand(4, 5) # Creates a 4 x 5 tensor with elements from uniform distribution on the interval (0, 1)\n",
        "y"
      ],
      "metadata": {
        "colab": {
          "base_uri": "https://localhost:8080/"
        },
        "id": "Q5IBasbIPQYI",
        "outputId": "17439d5e-1cdd-4572-8862-15cbb53a9a50"
      },
      "execution_count": 15,
      "outputs": [
        {
          "output_type": "execute_result",
          "data": {
            "text/plain": [
              "tensor([[0.0386, 0.7281, 0.1284, 0.9974, 0.5955],\n",
              "        [0.9195, 0.0446, 0.1788, 0.6253, 0.6133],\n",
              "        [0.3281, 0.8437, 0.2980, 0.5530, 0.8219],\n",
              "        [0.6243, 0.4149, 0.4612, 0.5509, 0.1310]])"
            ]
          },
          "metadata": {},
          "execution_count": 15
        }
      ]
    },
    {
      "cell_type": "code",
      "source": [
        "y = torch.randn(4, 5) # Creates a 4 x 5 tensor with elements from normal distribution with mean 0 and variance of 1.\n",
        "y"
      ],
      "metadata": {
        "colab": {
          "base_uri": "https://localhost:8080/"
        },
        "id": "lpJq7IkPPdoD",
        "outputId": "0e2c2fea-5540-4ffb-983a-017ae04385de"
      },
      "execution_count": 16,
      "outputs": [
        {
          "output_type": "execute_result",
          "data": {
            "text/plain": [
              "tensor([[ 0.6073,  1.3518, -0.2577,  0.0061,  1.5835],\n",
              "        [ 0.3248,  0.8622, -0.4051, -0.0706, -0.5016],\n",
              "        [ 0.2374, -1.8714,  1.7714,  0.5730,  0.5687],\n",
              "        [ 0.9565,  0.1139, -0.8358, -1.4239, -0.4171]])"
            ]
          },
          "metadata": {},
          "execution_count": 16
        }
      ]
    },
    {
      "cell_type": "code",
      "source": [
        "y = torch.randint(-5, 5, (2, 3)) # Creates a 2 x 3 tensor with elements drawn between 0 and 9\n",
        "y"
      ],
      "metadata": {
        "colab": {
          "base_uri": "https://localhost:8080/"
        },
        "id": "L4AAGSdkPjV6",
        "outputId": "3db59742-0424-4a52-ba60-94e984965083"
      },
      "execution_count": 18,
      "outputs": [
        {
          "output_type": "execute_result",
          "data": {
            "text/plain": [
              "tensor([[ 4,  0, -1],\n",
              "        [-4, -4,  4]])"
            ]
          },
          "metadata": {},
          "execution_count": 18
        }
      ]
    },
    {
      "cell_type": "markdown",
      "source": [
        "### **Data type and device**\n",
        "\n",
        "Upon creating the `tensor`, it is possible and sometimes a good practice to assign them data type and device. This can be achieved as follows:"
      ],
      "metadata": {
        "id": "sf8NYBRrRN0E"
      }
    },
    {
      "cell_type": "code",
      "source": [
        "m = torch.rand((2, 3), dtype = torch.float32, device = 'cpu')\n",
        "print(f\"The tensor is of data type: {m.dtype} and on {m.device} device.\")"
      ],
      "metadata": {
        "colab": {
          "base_uri": "https://localhost:8080/"
        },
        "id": "8KXHVClKRg3X",
        "outputId": "9aafa2cd-b2c5-4355-c732-19a30ee45721"
      },
      "execution_count": 22,
      "outputs": [
        {
          "output_type": "stream",
          "name": "stdout",
          "text": [
            "The tensor is of data type: torch.float32 and on cpu device.\n"
          ]
        }
      ]
    },
    {
      "cell_type": "markdown",
      "source": [
        "### **Tensor attributes**\n",
        "\n",
        "After creating a `tensor`, we can see some information about it using its attributes. Some of the attributes include size, data type, ndim etc:"
      ],
      "metadata": {
        "id": "zEU65ki1WR6K"
      }
    },
    {
      "cell_type": "code",
      "source": [
        "m = torch.rand(5, 6)\n",
        "m.dtype # This tells us that it is float32"
      ],
      "metadata": {
        "colab": {
          "base_uri": "https://localhost:8080/"
        },
        "id": "5zbsbvdmSBt4",
        "outputId": "5781ecfc-11f6-4f0d-816a-d98fafa41e30"
      },
      "execution_count": 23,
      "outputs": [
        {
          "output_type": "execute_result",
          "data": {
            "text/plain": [
              "torch.float32"
            ]
          },
          "metadata": {},
          "execution_count": 23
        }
      ]
    },
    {
      "cell_type": "code",
      "source": [
        "m.device # This returns device on which the tensor is located. In this case cpu."
      ],
      "metadata": {
        "colab": {
          "base_uri": "https://localhost:8080/"
        },
        "id": "dU7gfbCLWyAd",
        "outputId": "a028cd37-49e4-41d3-ec2a-ab148df153df"
      },
      "execution_count": 24,
      "outputs": [
        {
          "output_type": "execute_result",
          "data": {
            "text/plain": [
              "device(type='cpu')"
            ]
          },
          "metadata": {},
          "execution_count": 24
        }
      ]
    },
    {
      "cell_type": "code",
      "source": [
        "m.shape # Tells us the rank or dimension of the tensor. Here it is 5 x 6."
      ],
      "metadata": {
        "colab": {
          "base_uri": "https://localhost:8080/"
        },
        "id": "Gsb9xTjBW0jn",
        "outputId": "36b520ea-94eb-4701-cee0-0be41b4bf104"
      },
      "execution_count": 25,
      "outputs": [
        {
          "output_type": "execute_result",
          "data": {
            "text/plain": [
              "torch.Size([5, 6])"
            ]
          },
          "metadata": {},
          "execution_count": 25
        }
      ]
    },
    {
      "cell_type": "code",
      "source": [
        "m.ndim # Tells us it has 2 dimensions."
      ],
      "metadata": {
        "colab": {
          "base_uri": "https://localhost:8080/"
        },
        "id": "01OKaAvIW8cw",
        "outputId": "4f9849c6-4756-4b32-9292-3b75f9c0ea86"
      },
      "execution_count": 26,
      "outputs": [
        {
          "output_type": "execute_result",
          "data": {
            "text/plain": [
              "2"
            ]
          },
          "metadata": {},
          "execution_count": 26
        }
      ]
    },
    {
      "cell_type": "markdown",
      "source": [
        "There are additional attributes like:\n",
        "\n",
        "\n",
        "*   `requires_grad`\n",
        "*   `grad`\n",
        "*   `grad_fn`\n",
        "*   `s_cuda`\n",
        "*   `is_sparse`\n",
        "*   `is_quantized`\n",
        "*   `is_leaf`\n",
        "*  `is_mkldnn`\n",
        "\n",
        "Well no need to dig them now.\n",
        "\n"
      ],
      "metadata": {
        "id": "yIWKFgrhXVVQ"
      }
    },
    {
      "cell_type": "markdown",
      "source": [
        "### **Create `tensor` like other `tensor`**\n",
        "\n",
        "You may have a `tensor` and want to create another one like it. This is normally achieved with the `_like` suffix. For example, empty_like, ones_like, rand_like."
      ],
      "metadata": {
        "id": "m0yUmTWOYjr4"
      }
    },
    {
      "cell_type": "code",
      "source": [
        "n = torch.rand(2, 3)\n",
        "p = torch.rand_like(n)\n",
        "\n",
        "print(f\"The original \\n {n} \\n and its like \\n {p}.\")\n"
      ],
      "metadata": {
        "colab": {
          "base_uri": "https://localhost:8080/"
        },
        "id": "3PM_uuTYXPLq",
        "outputId": "2e768e46-75b8-4e20-8b97-93f42caeac81"
      },
      "execution_count": 27,
      "outputs": [
        {
          "output_type": "stream",
          "name": "stdout",
          "text": [
            "The original \n",
            " tensor([[0.6909, 0.8130, 0.6849],\n",
            "        [0.1310, 0.4277, 0.1645]]) \n",
            " and its like \n",
            " tensor([[0.3612, 0.3122, 0.4362],\n",
            "        [0.7410, 0.9626, 0.6022]]).\n"
          ]
        }
      ]
    },
    {
      "cell_type": "markdown",
      "source": [
        "The aspect of **_like** here gives the new tensor same shape, dtype and ndim. That is structurally similar but not necessarily elementwise. That is, the elements will be different."
      ],
      "metadata": {
        "id": "oBbEokEGaOZG"
      }
    },
    {
      "cell_type": "markdown",
      "source": [
        "## **`Tensor` Operations**\n",
        "Well our task is not only to create `tensor`, but to work with them. So, in this part, we will cover some of the `tensor` operations, in fact we did them earlier when we were using transforms from `torchvision`. Some of the operations we will do here include slicing portions of the data, combining `tensor`, spliting `tensor` and both simple and advanced operations on them."
      ],
      "metadata": {
        "id": "Tq3gIaSja5NP"
      }
    },
    {
      "cell_type": "markdown",
      "source": [
        "### **Indexing `tensors`**\n",
        "\n",
        "We can index `tensor` by using [ ]. Just like with numpy arrays. In this example, we create a `tensor` then extract the element in the second row and second column."
      ],
      "metadata": {
        "id": "KeyDuc6Ubxhn"
      }
    },
    {
      "cell_type": "code",
      "source": [
        "x = torch.tensor([[1, 2], [3, 4], [5, 6], [7, 8]])\n",
        "print(x)"
      ],
      "metadata": {
        "colab": {
          "base_uri": "https://localhost:8080/"
        },
        "id": "uZRYGEgBadJ4",
        "outputId": "6e0c40b9-e99b-4e64-9454-ffdb1071b1db"
      },
      "execution_count": 28,
      "outputs": [
        {
          "output_type": "stream",
          "name": "stdout",
          "text": [
            "tensor([[1, 2],\n",
            "        [3, 4],\n",
            "        [5, 6],\n",
            "        [7, 8]])\n"
          ]
        }
      ]
    },
    {
      "cell_type": "markdown",
      "source": [
        "Now to index number 4:"
      ],
      "metadata": {
        "id": "I5kzvlfNcUtP"
      }
    },
    {
      "cell_type": "code",
      "source": [
        "print(x[1, 1].item())"
      ],
      "metadata": {
        "colab": {
          "base_uri": "https://localhost:8080/"
        },
        "id": "xEopjE89cZWi",
        "outputId": "e4ea08df-52ce-40f4-df02-d6c0797cb48a"
      },
      "execution_count": 29,
      "outputs": [
        {
          "output_type": "stream",
          "name": "stdout",
          "text": [
            "4\n"
          ]
        }
      ]
    },
    {
      "cell_type": "markdown",
      "source": [
        "To index number 7:"
      ],
      "metadata": {
        "id": "2CaT9Pyzcwq2"
      }
    },
    {
      "cell_type": "code",
      "source": [
        "print(x[3, 0].item())"
      ],
      "metadata": {
        "colab": {
          "base_uri": "https://localhost:8080/"
        },
        "id": "WIy6jggyccek",
        "outputId": "cc5fbde2-c69a-4e50-e9d3-3fccfae59012"
      },
      "execution_count": 30,
      "outputs": [
        {
          "output_type": "stream",
          "name": "stdout",
          "text": [
            "7\n"
          ]
        }
      ]
    },
    {
      "cell_type": "code",
      "source": [
        "x.shape"
      ],
      "metadata": {
        "id": "z4vrVHXbAhpa",
        "outputId": "f318ed0d-3220-4bcc-f505-8f79938ffb24",
        "colab": {
          "base_uri": "https://localhost:8080/"
        }
      },
      "execution_count": 32,
      "outputs": [
        {
          "output_type": "execute_result",
          "data": {
            "text/plain": [
              "torch.Size([4, 2])"
            ]
          },
          "metadata": {},
          "execution_count": 32
        }
      ]
    },
    {
      "cell_type": "code",
      "source": [
        "# Slice 1,2,3 and 4\n",
        "x[:1, :1]"
      ],
      "metadata": {
        "id": "gDGQTtWtc4Ws",
        "colab": {
          "base_uri": "https://localhost:8080/"
        },
        "outputId": "2dedd8b6-418c-4c12-9675-d98f6df76482"
      },
      "execution_count": 31,
      "outputs": [
        {
          "output_type": "execute_result",
          "data": {
            "text/plain": [
              "tensor([[1]])"
            ]
          },
          "metadata": {},
          "execution_count": 31
        }
      ]
    }
  ]
}