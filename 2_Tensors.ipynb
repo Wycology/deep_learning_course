{
  "nbformat": 4,
  "nbformat_minor": 0,
  "metadata": {
    "colab": {
      "provenance": [],
      "authorship_tag": "ABX9TyPHtVtyU/sJdTcWuN9X76xe",
      "include_colab_link": true
    },
    "kernelspec": {
      "name": "python3",
      "display_name": "Python 3"
    },
    "language_info": {
      "name": "python"
    }
  },
  "cells": [
    {
      "cell_type": "markdown",
      "metadata": {
        "id": "view-in-github",
        "colab_type": "text"
      },
      "source": [
        "<a href=\"https://colab.research.google.com/github/Wycology/deep_learning_course/blob/main/2_Tensors.ipynb\" target=\"_parent\"><img src=\"https://colab.research.google.com/assets/colab-badge.svg\" alt=\"Open In Colab\"/></a>"
      ]
    },
    {
      "cell_type": "markdown",
      "source": [
        "# <font color='green'><b> SATELLITE DATA FOR AGRICULTURAL ECONOMISTS</b></font>\n",
        "\n",
        "\n",
        "<font color='blue'><b>THEORY AND PRACTICE</b></font>\n",
        "\n",
        "**_MACHINE & DEEP LEARNING_**\n",
        "\n",
        "\n",
        "*David Wuepper, Hadi Hadi, Wyclife Agumba Oluoch*\n",
        "\n",
        "[Land Economics Group](https://www.ilr1.uni-bonn.de/en/research/research-groups/land-economics), University of Bonn, Bonn, Germany\n",
        "\n",
        "---\n",
        "\n",
        "# **Background**\n",
        "\n",
        "\n",
        "---"
      ],
      "metadata": {
        "id": "l-_SHva1E7Ub"
      }
    },
    {
      "cell_type": "markdown",
      "source": [
        "`Tensor`, by definition, is the fundamental data structure used to store and manipulate data in `PyTorch`. Understanding `tensor` is paramount to understanding how `PyTorch` implements advanced functions for deep learning. At both preprocessing of input and postprocessing of output, you will be dealing with `tensor` in most cases. It is therefore important to understand what `tensor` are and operations on them. If you know `NumPy` then you are 100% good to take on `tensor`. Let us see how to create some `tensor`."
      ],
      "metadata": {
        "id": "q_n-jfsOFEgg"
      }
    },
    {
      "cell_type": "markdown",
      "source": [
        "For us to have `tensor`, we need to load `PyTorch` library first."
      ],
      "metadata": {
        "id": "dqjCB7rHH5AG"
      }
    },
    {
      "cell_type": "code",
      "execution_count": 1,
      "metadata": {
        "id": "LFUBMYynEhF4"
      },
      "outputs": [],
      "source": [
        "import torch # Of course we need to have the PyTorch"
      ]
    },
    {
      "cell_type": "markdown",
      "source": [
        "We start with a simple `tensor` with just one digit."
      ],
      "metadata": {
        "id": "5DFWWLpdH3qf"
      }
    },
    {
      "cell_type": "code",
      "source": [
        "x = torch.tensor(2) # Creates a tensor containing value 2.\n",
        "x"
      ],
      "metadata": {
        "colab": {
          "base_uri": "https://localhost:8080/"
        },
        "id": "EAed40fgHLUu",
        "outputId": "4cf6d28a-52f6-4ede-b7ee-849b97009be1"
      },
      "execution_count": 2,
      "outputs": [
        {
          "output_type": "execute_result",
          "data": {
            "text/plain": [
              "tensor(2)"
            ]
          },
          "metadata": {},
          "execution_count": 2
        }
      ]
    },
    {
      "cell_type": "markdown",
      "source": [
        "We can also create a `tensor` from a list of numbers as follows."
      ],
      "metadata": {
        "id": "CfLmZki9IX6R"
      }
    },
    {
      "cell_type": "code",
      "source": [
        "x = torch.tensor([1, 2, 3]) # Creates a tensor containing the values 1, 2, and 3 in the list.\n",
        "x"
      ],
      "metadata": {
        "colab": {
          "base_uri": "https://localhost:8080/"
        },
        "id": "dNx4SO-mHdU9",
        "outputId": "fb329cf6-07a9-454f-9304-2d737d86e711"
      },
      "execution_count": 3,
      "outputs": [
        {
          "output_type": "execute_result",
          "data": {
            "text/plain": [
              "tensor([1, 2, 3])"
            ]
          },
          "metadata": {},
          "execution_count": 3
        }
      ]
    },
    {
      "cell_type": "markdown",
      "source": [
        "We can have `tensor` for list within list."
      ],
      "metadata": {
        "id": "7b2mz932IcX6"
      }
    },
    {
      "cell_type": "code",
      "source": [
        "x = torch.tensor([[1, 2, 3], [4, 5, 6]]) # Creates a 2 x 3 tensor.\n",
        "x"
      ],
      "metadata": {
        "colab": {
          "base_uri": "https://localhost:8080/"
        },
        "id": "iC7Od0KWHpcG",
        "outputId": "0b9566b2-0a84-4e3f-f74c-79b2dbc5dde4"
      },
      "execution_count": 4,
      "outputs": [
        {
          "output_type": "execute_result",
          "data": {
            "text/plain": [
              "tensor([[1, 2, 3],\n",
              "        [4, 5, 6]])"
            ]
          },
          "metadata": {},
          "execution_count": 4
        }
      ]
    },
    {
      "cell_type": "markdown",
      "source": [
        "We can also perform simple operations with `tensor` like addition."
      ],
      "metadata": {
        "id": "GdyvIIaAI6cq"
      }
    },
    {
      "cell_type": "code",
      "source": [
        "x = torch.tensor([[1, 2, 3], [4, 5, 6]])\n",
        "y = torch.tensor([[7, 8, 9], [10, 11, 12]])\n",
        "z = x + y\n",
        "print(z)"
      ],
      "metadata": {
        "colab": {
          "base_uri": "https://localhost:8080/"
        },
        "id": "31JuTDorI5p4",
        "outputId": "22db7f5d-4299-47df-a329-f3473658f2f8"
      },
      "execution_count": 5,
      "outputs": [
        {
          "output_type": "stream",
          "name": "stdout",
          "text": [
            "tensor([[ 8, 10, 12],\n",
            "        [14, 16, 18]])\n"
          ]
        }
      ]
    },
    {
      "cell_type": "markdown",
      "source": [
        "We may be interested in knowing the shape of the `tensor`."
      ],
      "metadata": {
        "id": "Gqqn1h9GJR6A"
      }
    },
    {
      "cell_type": "code",
      "source": [
        "print(z.shape)"
      ],
      "metadata": {
        "colab": {
          "base_uri": "https://localhost:8080/"
        },
        "id": "D7n9EIV5JXXB",
        "outputId": "c0eb1147-ae58-4b53-a0aa-eb1c80e9df57"
      },
      "execution_count": 6,
      "outputs": [
        {
          "output_type": "stream",
          "name": "stdout",
          "text": [
            "torch.Size([2, 3])\n"
          ]
        }
      ]
    },
    {
      "cell_type": "markdown",
      "source": [
        "## **Creating `tensor`**"
      ],
      "metadata": {
        "id": "skMjRQ6nLqmI"
      }
    },
    {
      "cell_type": "markdown",
      "source": [
        "`torch.tensor` is the basic way to create the `tensor` data structure. However, there are many ways to achieve this as follows:"
      ],
      "metadata": {
        "id": "znpiA-keMwug"
      }
    },
    {
      "cell_type": "code",
      "source": [
        "import numpy # We are importing this because we will create some tensors from numpy"
      ],
      "metadata": {
        "id": "FCtNeBEwLrM1"
      },
      "execution_count": 8,
      "outputs": []
    },
    {
      "cell_type": "code",
      "source": [
        "# Create from preexisting arrays\n",
        "x = torch.tensor([1, 2, 3]) # Creating from a list\n",
        "print(x)\n"
      ],
      "metadata": {
        "colab": {
          "base_uri": "https://localhost:8080/"
        },
        "id": "OWCEOX6CNH8t",
        "outputId": "0fb8d026-dd09-4b8a-9827-4e1da63b79ee"
      },
      "execution_count": 9,
      "outputs": [
        {
          "output_type": "stream",
          "name": "stdout",
          "text": [
            "tensor([1, 2, 3])\n"
          ]
        }
      ]
    },
    {
      "cell_type": "code",
      "source": [
        "x = torch.tensor((1, 2, 3)) # Creating from a tuple\n",
        "print(x)"
      ],
      "metadata": {
        "colab": {
          "base_uri": "https://localhost:8080/"
        },
        "id": "-vI1mHy1NkYG",
        "outputId": "1725cc10-d069-44a4-df9c-614773b15218"
      },
      "execution_count": 10,
      "outputs": [
        {
          "output_type": "stream",
          "name": "stdout",
          "text": [
            "tensor([1, 2, 3])\n"
          ]
        }
      ]
    },
    {
      "cell_type": "code",
      "source": [
        "x = torch.tensor(numpy.array([1, 2, 3])) # Creating from numpy array\n",
        "print(x)"
      ],
      "metadata": {
        "colab": {
          "base_uri": "https://localhost:8080/"
        },
        "id": "Ft-7-_9GNxJQ",
        "outputId": "018f9494-2d56-498f-c0e0-aac38b52cc6d"
      },
      "execution_count": 11,
      "outputs": [
        {
          "output_type": "stream",
          "name": "stdout",
          "text": [
            "tensor([1, 2, 3])\n"
          ]
        }
      ]
    },
    {
      "cell_type": "markdown",
      "source": [
        "Other than `tensor` that we specifically indicate the values it should hold, we can also create `tensor` in which we only specify their dimensions/rank."
      ],
      "metadata": {
        "id": "3qkKls5uN2rV"
      }
    },
    {
      "cell_type": "code",
      "source": [
        "w = torch.empty(2, 3) # Uninitialized, no one can predict the initial values\n",
        "w"
      ],
      "metadata": {
        "colab": {
          "base_uri": "https://localhost:8080/"
        },
        "id": "8N97sZYFNxyH",
        "outputId": "689a5861-3ff0-4d12-90cd-1bd03ad1168d"
      },
      "execution_count": 12,
      "outputs": [
        {
          "output_type": "execute_result",
          "data": {
            "text/plain": [
              "tensor([[5.4640e-05, 4.1296e-05, 2.1651e+23],\n",
              "        [1.0979e-05, 3.1201e-18, 3.1360e+27]])"
            ]
          },
          "metadata": {},
          "execution_count": 12
        }
      ]
    },
    {
      "cell_type": "code",
      "source": [
        "w = torch.zeros(2, 3) # All elements in the tensor initialized by 0.0\n",
        "w"
      ],
      "metadata": {
        "colab": {
          "base_uri": "https://localhost:8080/"
        },
        "id": "jrK9diFTOQ74",
        "outputId": "7815b75e-ec11-4173-a493-7e3014327ea4"
      },
      "execution_count": 13,
      "outputs": [
        {
          "output_type": "execute_result",
          "data": {
            "text/plain": [
              "tensor([[0., 0., 0.],\n",
              "        [0., 0., 0.]])"
            ]
          },
          "metadata": {},
          "execution_count": 13
        }
      ]
    },
    {
      "cell_type": "code",
      "source": [
        "w = torch.ones(2, 3) # All elements initialized by 1.0\n",
        "w"
      ],
      "metadata": {
        "colab": {
          "base_uri": "https://localhost:8080/"
        },
        "id": "tkS7fGsqOVyx",
        "outputId": "f091cf6f-a604-49c7-9599-210e88dbf1b9"
      },
      "execution_count": 14,
      "outputs": [
        {
          "output_type": "execute_result",
          "data": {
            "text/plain": [
              "tensor([[1., 1., 1.],\n",
              "        [1., 1., 1.]])"
            ]
          },
          "metadata": {},
          "execution_count": 14
        }
      ]
    },
    {
      "cell_type": "markdown",
      "source": [
        "Sometimes we may want to initialize a `tensor` with random numbers. There are functions that can help us with such tasks as follows:"
      ],
      "metadata": {
        "id": "reTZ7fK1PFwD"
      }
    },
    {
      "cell_type": "code",
      "source": [
        "y = torch.rand(4, 5) # Creates a 4 x 5 tensor with elements from uniform distribution on the interval (0, 1)\n",
        "y"
      ],
      "metadata": {
        "colab": {
          "base_uri": "https://localhost:8080/"
        },
        "id": "Q5IBasbIPQYI",
        "outputId": "1bea01a6-ef4f-4be7-9a42-776db57574ca"
      },
      "execution_count": 15,
      "outputs": [
        {
          "output_type": "execute_result",
          "data": {
            "text/plain": [
              "tensor([[0.8418, 0.3298, 0.9768, 0.0707, 0.3640],\n",
              "        [0.6385, 0.9551, 0.2330, 0.7469, 0.8732],\n",
              "        [0.1216, 0.6281, 0.0420, 0.3550, 0.3747],\n",
              "        [0.2140, 0.1895, 0.3865, 0.5344, 0.3880]])"
            ]
          },
          "metadata": {},
          "execution_count": 15
        }
      ]
    },
    {
      "cell_type": "code",
      "source": [
        "y = torch.randn(4, 5) # Creates a 4 x 5 tensor with elements from normal distribution with mean 0 and variance of 1.\n",
        "y"
      ],
      "metadata": {
        "colab": {
          "base_uri": "https://localhost:8080/"
        },
        "id": "lpJq7IkPPdoD",
        "outputId": "785b18e0-3ebe-4ee3-b43e-2d0797a73feb"
      },
      "execution_count": 16,
      "outputs": [
        {
          "output_type": "execute_result",
          "data": {
            "text/plain": [
              "tensor([[-1.3413,  0.7833, -0.2912,  0.4531,  0.4691],\n",
              "        [ 0.9453, -1.1535,  0.5099, -0.8825, -1.1839],\n",
              "        [-1.6739,  0.3192,  0.4024,  0.1985, -1.4034],\n",
              "        [ 0.0345,  0.6887,  1.1673,  0.2618,  0.8854]])"
            ]
          },
          "metadata": {},
          "execution_count": 16
        }
      ]
    },
    {
      "cell_type": "code",
      "source": [
        "y = torch.randint(-5, 5, (2, 3)) # Creates a 2 x 3 tensor with elements drawn between 0 and 9\n",
        "y"
      ],
      "metadata": {
        "colab": {
          "base_uri": "https://localhost:8080/"
        },
        "id": "L4AAGSdkPjV6",
        "outputId": "e37753a8-4abc-4f04-d3ca-36f240cd55d1"
      },
      "execution_count": 17,
      "outputs": [
        {
          "output_type": "execute_result",
          "data": {
            "text/plain": [
              "tensor([[ 4, -4, -4],\n",
              "        [ 3,  3,  2]])"
            ]
          },
          "metadata": {},
          "execution_count": 17
        }
      ]
    },
    {
      "cell_type": "markdown",
      "source": [
        "### **Data type and device**\n",
        "\n",
        "Upon creating the `tensor`, it is possible and sometimes a good practice to assign them data type and device. This can be achieved as follows:"
      ],
      "metadata": {
        "id": "sf8NYBRrRN0E"
      }
    },
    {
      "cell_type": "code",
      "source": [
        "m = torch.rand((2, 3), dtype = torch.float32, device = 'cpu')\n",
        "print(f\"The tensor is of data type: {m.dtype} and on {m.device} device.\")"
      ],
      "metadata": {
        "colab": {
          "base_uri": "https://localhost:8080/"
        },
        "id": "8KXHVClKRg3X",
        "outputId": "c8a07dfd-91a7-4abb-afbf-304f1f7a7172"
      },
      "execution_count": 18,
      "outputs": [
        {
          "output_type": "stream",
          "name": "stdout",
          "text": [
            "The tensor is of data type: torch.float32 and on cpu device.\n"
          ]
        }
      ]
    },
    {
      "cell_type": "markdown",
      "source": [
        "### **Tensor attributes**\n",
        "\n",
        "After creating a `tensor`, we can see some information about it using its attributes. Some of the attributes include size, data type, ndim etc:"
      ],
      "metadata": {
        "id": "zEU65ki1WR6K"
      }
    },
    {
      "cell_type": "code",
      "source": [
        "m = torch.rand(5, 6)\n",
        "m.dtype # This tells us that it is float32"
      ],
      "metadata": {
        "colab": {
          "base_uri": "https://localhost:8080/"
        },
        "id": "5zbsbvdmSBt4",
        "outputId": "ee98ff6e-61a8-49e7-a49b-b7e7709d5819"
      },
      "execution_count": 19,
      "outputs": [
        {
          "output_type": "execute_result",
          "data": {
            "text/plain": [
              "torch.float32"
            ]
          },
          "metadata": {},
          "execution_count": 19
        }
      ]
    },
    {
      "cell_type": "code",
      "source": [
        "m.device # This returns device on which the tensor is located. In this case cpu."
      ],
      "metadata": {
        "colab": {
          "base_uri": "https://localhost:8080/"
        },
        "id": "dU7gfbCLWyAd",
        "outputId": "9b5d5016-3d32-42c3-fb9c-df056fd42324"
      },
      "execution_count": 20,
      "outputs": [
        {
          "output_type": "execute_result",
          "data": {
            "text/plain": [
              "device(type='cpu')"
            ]
          },
          "metadata": {},
          "execution_count": 20
        }
      ]
    },
    {
      "cell_type": "code",
      "source": [
        "m.shape # Tells us the rank or dimension of the tensor. Here it is 5 x 6."
      ],
      "metadata": {
        "colab": {
          "base_uri": "https://localhost:8080/"
        },
        "id": "Gsb9xTjBW0jn",
        "outputId": "90415b4b-76ee-4010-aba6-4216bc2fb091"
      },
      "execution_count": 21,
      "outputs": [
        {
          "output_type": "execute_result",
          "data": {
            "text/plain": [
              "torch.Size([5, 6])"
            ]
          },
          "metadata": {},
          "execution_count": 21
        }
      ]
    },
    {
      "cell_type": "code",
      "source": [
        "m.ndim # Tells us it has 2 dimensions."
      ],
      "metadata": {
        "colab": {
          "base_uri": "https://localhost:8080/"
        },
        "id": "01OKaAvIW8cw",
        "outputId": "cbfd5218-b016-4877-ae42-cae019c8d94b"
      },
      "execution_count": 22,
      "outputs": [
        {
          "output_type": "execute_result",
          "data": {
            "text/plain": [
              "2"
            ]
          },
          "metadata": {},
          "execution_count": 22
        }
      ]
    },
    {
      "cell_type": "markdown",
      "source": [
        "There are additional attributes like:\n",
        "\n",
        "\n",
        "*   `requires_grad`\n",
        "*   `grad`\n",
        "*   `grad_fn`\n",
        "*   `s_cuda`\n",
        "*   `is_sparse`\n",
        "*   `is_quantized`\n",
        "*   `is_leaf`\n",
        "*  `is_mkldnn`\n",
        "\n",
        "Well no need to dig them now.\n",
        "\n"
      ],
      "metadata": {
        "id": "yIWKFgrhXVVQ"
      }
    },
    {
      "cell_type": "markdown",
      "source": [
        "### **Create `tensor` like other `tensor`**\n",
        "\n",
        "You may have a `tensor` and want to create another one like it. This is normally achieved with the `_like` suffix. For example, empty_like, ones_like, rand_like."
      ],
      "metadata": {
        "id": "m0yUmTWOYjr4"
      }
    },
    {
      "cell_type": "code",
      "source": [
        "n = torch.rand(2, 3)\n",
        "p = torch.rand_like(n)\n",
        "\n",
        "print(f\"The original \\n {n} \\n and its like \\n {p}.\")\n"
      ],
      "metadata": {
        "colab": {
          "base_uri": "https://localhost:8080/"
        },
        "id": "3PM_uuTYXPLq",
        "outputId": "37800f2a-d8b1-47dc-c359-8f094bb6d42d"
      },
      "execution_count": 23,
      "outputs": [
        {
          "output_type": "stream",
          "name": "stdout",
          "text": [
            "The original \n",
            " tensor([[0.2506, 0.3494, 0.5554],\n",
            "        [0.2493, 0.4752, 0.6765]]) \n",
            " and its like \n",
            " tensor([[0.9079, 0.6944, 0.6524],\n",
            "        [0.0581, 0.2402, 0.0714]]).\n"
          ]
        }
      ]
    },
    {
      "cell_type": "markdown",
      "source": [
        "The aspect of **_like** here gives the new tensor same shape, dtype and ndim. That is structurally similar but not necessarily elementwise. That is, the elements will be different."
      ],
      "metadata": {
        "id": "oBbEokEGaOZG"
      }
    },
    {
      "cell_type": "markdown",
      "source": [
        "## **`Tensor` Operations**\n",
        "Well our task is not only to create `tensor`, but to work with them. So, in this part, we will cover some of the `tensor` operations, in fact we did them earlier when we were using transforms from `torchvision`. Some of the operations we will do here include slicing portions of the data, combining `tensor`, spliting `tensor` and both simple and advanced operations on them."
      ],
      "metadata": {
        "id": "Tq3gIaSja5NP"
      }
    },
    {
      "cell_type": "markdown",
      "source": [
        "### **Indexing `tensors`**\n",
        "\n",
        "We can index `tensor` by using [ ]. Just like with numpy arrays. In this example, we create a `tensor` then extract the element in the second row and second column."
      ],
      "metadata": {
        "id": "KeyDuc6Ubxhn"
      }
    },
    {
      "cell_type": "code",
      "source": [
        "x = torch.tensor([[1, 2], [3, 4], [5, 6], [7, 8]])\n",
        "print(x)"
      ],
      "metadata": {
        "colab": {
          "base_uri": "https://localhost:8080/"
        },
        "id": "uZRYGEgBadJ4",
        "outputId": "e0fd68cb-7b41-4f7c-822a-9829147718c3"
      },
      "execution_count": 67,
      "outputs": [
        {
          "output_type": "stream",
          "name": "stdout",
          "text": [
            "tensor([[1, 2],\n",
            "        [3, 4],\n",
            "        [5, 6],\n",
            "        [7, 8]])\n"
          ]
        }
      ]
    },
    {
      "cell_type": "markdown",
      "source": [
        "Now to index number 4:"
      ],
      "metadata": {
        "id": "I5kzvlfNcUtP"
      }
    },
    {
      "cell_type": "code",
      "source": [
        "x.shape # Confirming the shape of the tensor"
      ],
      "metadata": {
        "colab": {
          "base_uri": "https://localhost:8080/"
        },
        "id": "fe48jnR2hXkG",
        "outputId": "72be5302-90a9-4062-dfca-9295bed2d381"
      },
      "execution_count": 29,
      "outputs": [
        {
          "output_type": "execute_result",
          "data": {
            "text/plain": [
              "torch.Size([4, 2])"
            ]
          },
          "metadata": {},
          "execution_count": 29
        }
      ]
    },
    {
      "cell_type": "code",
      "source": [
        "print(x[1, 1].item())"
      ],
      "metadata": {
        "colab": {
          "base_uri": "https://localhost:8080/"
        },
        "id": "xEopjE89cZWi",
        "outputId": "66d38a08-6544-4f38-9ab3-910191a42010"
      },
      "execution_count": 25,
      "outputs": [
        {
          "output_type": "stream",
          "name": "stdout",
          "text": [
            "4\n"
          ]
        }
      ]
    },
    {
      "cell_type": "code",
      "source": [
        "print(x[1][1].item()) # This can be indexed as so too."
      ],
      "metadata": {
        "colab": {
          "base_uri": "https://localhost:8080/"
        },
        "id": "au0y3iD5hFOv",
        "outputId": "ce07bf69-7784-4486-cefa-4b7c7e9da91c"
      },
      "execution_count": 28,
      "outputs": [
        {
          "output_type": "stream",
          "name": "stdout",
          "text": [
            "4\n"
          ]
        }
      ]
    },
    {
      "cell_type": "markdown",
      "source": [
        "To index number 7:"
      ],
      "metadata": {
        "id": "2CaT9Pyzcwq2"
      }
    },
    {
      "cell_type": "code",
      "source": [
        "print(x[3, 0].item())"
      ],
      "metadata": {
        "colab": {
          "base_uri": "https://localhost:8080/"
        },
        "id": "WIy6jggyccek",
        "outputId": "cc5fbde2-c69a-4e50-e9d3-3fccfae59012"
      },
      "execution_count": null,
      "outputs": [
        {
          "output_type": "stream",
          "name": "stdout",
          "text": [
            "7\n"
          ]
        }
      ]
    },
    {
      "cell_type": "code",
      "source": [
        "print(x[3][0].item()) # the .item() helps to return the actual number and not tensor."
      ],
      "metadata": {
        "colab": {
          "base_uri": "https://localhost:8080/"
        },
        "id": "YD-PpOumhfhs",
        "outputId": "81381be4-86ff-4f2d-c45c-3e26a4610f93"
      },
      "execution_count": 32,
      "outputs": [
        {
          "output_type": "stream",
          "name": "stdout",
          "text": [
            "7\n"
          ]
        }
      ]
    },
    {
      "cell_type": "markdown",
      "source": [
        "### **Slicing `tensors`**\n",
        "\n",
        "We can slice `tensor` by using [ ]. Just like with numpy arrays. In this example, we create a `tensor` then slice a portion of it."
      ],
      "metadata": {
        "id": "S4HfIjhhg2Os"
      }
    },
    {
      "cell_type": "code",
      "source": [
        "x.shape"
      ],
      "metadata": {
        "id": "gDGQTtWtc4Ws",
        "colab": {
          "base_uri": "https://localhost:8080/"
        },
        "outputId": "c4755b66-d79c-4591-e567-c4deac66c742"
      },
      "execution_count": 68,
      "outputs": [
        {
          "output_type": "execute_result",
          "data": {
            "text/plain": [
              "torch.Size([4, 2])"
            ]
          },
          "metadata": {},
          "execution_count": 68
        }
      ]
    },
    {
      "cell_type": "code",
      "source": [
        "x"
      ],
      "metadata": {
        "colab": {
          "base_uri": "https://localhost:8080/"
        },
        "id": "GbnntU2RjkTf",
        "outputId": "51b2c902-d086-4da6-db76-ac5e166ba221"
      },
      "execution_count": 70,
      "outputs": [
        {
          "output_type": "execute_result",
          "data": {
            "text/plain": [
              "tensor([[1, 2],\n",
              "        [3, 4],\n",
              "        [5, 6],\n",
              "        [7, 8]])"
            ]
          },
          "metadata": {},
          "execution_count": 70
        }
      ]
    },
    {
      "cell_type": "code",
      "source": [
        "x[:2, :] # Slices the first two rows and all columns."
      ],
      "metadata": {
        "colab": {
          "base_uri": "https://localhost:8080/"
        },
        "id": "PjyPFYEnjdEc",
        "outputId": "1ac39a03-6383-4bf1-e4d5-3170279902af"
      },
      "execution_count": 71,
      "outputs": [
        {
          "output_type": "execute_result",
          "data": {
            "text/plain": [
              "tensor([[1, 2],\n",
              "        [3, 4]])"
            ]
          },
          "metadata": {},
          "execution_count": 71
        }
      ]
    },
    {
      "cell_type": "code",
      "source": [
        "x[1:3, :] # Slices from row index 1 to 3 and all columns."
      ],
      "metadata": {
        "colab": {
          "base_uri": "https://localhost:8080/"
        },
        "id": "hdLyVRJQjt-9",
        "outputId": "33f4b01d-a550-4e7c-f2c8-18dcfedf84f4"
      },
      "execution_count": 73,
      "outputs": [
        {
          "output_type": "execute_result",
          "data": {
            "text/plain": [
              "tensor([[3, 4],\n",
              "        [5, 6]])"
            ]
          },
          "metadata": {},
          "execution_count": 73
        }
      ]
    },
    {
      "cell_type": "code",
      "source": [
        "x[:, 1] # All rows in column 1"
      ],
      "metadata": {
        "colab": {
          "base_uri": "https://localhost:8080/"
        },
        "id": "GVE8FoJdkF2L",
        "outputId": "e4c884be-07a5-41cf-fee0-286c22806fb4"
      },
      "execution_count": 74,
      "outputs": [
        {
          "output_type": "execute_result",
          "data": {
            "text/plain": [
              "tensor([2, 4, 6, 8])"
            ]
          },
          "metadata": {},
          "execution_count": 74
        }
      ]
    },
    {
      "cell_type": "code",
      "source": [
        "x[:, 0] # All rows in column index 0"
      ],
      "metadata": {
        "colab": {
          "base_uri": "https://localhost:8080/"
        },
        "id": "LXoFd8BRkKS4",
        "outputId": "369887e5-6bbb-4865-f982-8c3a8b7e2cc1"
      },
      "execution_count": 82,
      "outputs": [
        {
          "output_type": "execute_result",
          "data": {
            "text/plain": [
              "tensor([1, 3, 5, 7])"
            ]
          },
          "metadata": {},
          "execution_count": 82
        }
      ]
    },
    {
      "cell_type": "code",
      "source": [
        "x[:, -1] # All rows in column 1"
      ],
      "metadata": {
        "colab": {
          "base_uri": "https://localhost:8080/"
        },
        "id": "hFTHzNcokd_v",
        "outputId": "e4f467a1-ab67-48cd-fb04-b738a6349195"
      },
      "execution_count": 84,
      "outputs": [
        {
          "output_type": "execute_result",
          "data": {
            "text/plain": [
              "tensor([2, 4, 6, 8])"
            ]
          },
          "metadata": {},
          "execution_count": 84
        }
      ]
    },
    {
      "cell_type": "markdown",
      "source": [
        "## **Exercises**\n",
        "\n",
        "1. Create a tensor with random integers between 0 and 10 called `ten` of shape 5 by 7. Ensure the dtype is `int16`. Ensure you set manual seed, preferably **248** so that you get same answer as my `tensor`.\n",
        "2. In the `ten` created, index element in row 3 column 4.\n",
        "  * Print it as a `tensor`\n",
        "  * print it as an item\n",
        "3. Slice the `ten` from rows 3 to 4 and columns 4 to 6."
      ],
      "metadata": {
        "id": "M9H1-jLik0rp"
      }
    },
    {
      "cell_type": "code",
      "source": [
        "torch.manual_seed(248)\n",
        "ten = torch.randint(low = 0, high = 10, size = (5, 7), dtype = torch.int16)\n",
        "ten"
      ],
      "metadata": {
        "colab": {
          "base_uri": "https://localhost:8080/"
        },
        "id": "ZP9O7eV9mLDl",
        "outputId": "9ad8ef2c-fc5e-49d5-bec3-6299f0cda470"
      },
      "execution_count": 119,
      "outputs": [
        {
          "output_type": "execute_result",
          "data": {
            "text/plain": [
              "tensor([[2, 7, 3, 0, 6, 7, 9],\n",
              "        [5, 0, 0, 7, 4, 9, 7],\n",
              "        [5, 1, 6, 7, 0, 0, 1],\n",
              "        [9, 2, 0, 5, 9, 5, 5],\n",
              "        [3, 5, 4, 1, 9, 0, 3]], dtype=torch.int16)"
            ]
          },
          "metadata": {},
          "execution_count": 119
        }
      ]
    },
    {
      "cell_type": "code",
      "source": [
        "ten[2, 2]"
      ],
      "metadata": {
        "colab": {
          "base_uri": "https://localhost:8080/"
        },
        "id": "DNTP2FSymSAk",
        "outputId": "2f5b8e1c-b8bb-4f7f-d15e-4d8854034b52"
      },
      "execution_count": 120,
      "outputs": [
        {
          "output_type": "execute_result",
          "data": {
            "text/plain": [
              "tensor(6, dtype=torch.int16)"
            ]
          },
          "metadata": {},
          "execution_count": 120
        }
      ]
    },
    {
      "cell_type": "code",
      "source": [
        "ten[2, 2].item()"
      ],
      "metadata": {
        "colab": {
          "base_uri": "https://localhost:8080/"
        },
        "id": "_XI6N-osnHEd",
        "outputId": "8116e8ba-5fcd-44ed-b347-0635626882f1"
      },
      "execution_count": 121,
      "outputs": [
        {
          "output_type": "execute_result",
          "data": {
            "text/plain": [
              "6"
            ]
          },
          "metadata": {},
          "execution_count": 121
        }
      ]
    },
    {
      "cell_type": "code",
      "source": [
        "ten[2:4, 3:6]"
      ],
      "metadata": {
        "colab": {
          "base_uri": "https://localhost:8080/"
        },
        "id": "aL-VkKmrnOWR",
        "outputId": "b4bfc91a-5678-4deb-9a52-b2c5f8ef9085"
      },
      "execution_count": 122,
      "outputs": [
        {
          "output_type": "execute_result",
          "data": {
            "text/plain": [
              "tensor([[7, 0, 0],\n",
              "        [5, 9, 5]], dtype=torch.int16)"
            ]
          },
          "metadata": {},
          "execution_count": 122
        }
      ]
    },
    {
      "cell_type": "markdown",
      "source": [
        "## **References**\n",
        "\n",
        "https://pytorch.org/docs/stable/tensors.html\n",
        "\n",
        "https://pytorch.org/tutorials/beginner/introyt/tensors_deeper_tutorial.html"
      ],
      "metadata": {
        "id": "55EbNBDTqGSI"
      }
    }
  ]
}