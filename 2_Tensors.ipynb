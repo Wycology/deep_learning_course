{
  "nbformat": 4,
  "nbformat_minor": 0,
  "metadata": {
    "colab": {
      "provenance": [],
      "authorship_tag": "ABX9TyOb6HbuT5Qll+AG+/pNEW0F",
      "include_colab_link": true
    },
    "kernelspec": {
      "name": "python3",
      "display_name": "Python 3"
    },
    "language_info": {
      "name": "python"
    }
  },
  "cells": [
    {
      "cell_type": "markdown",
      "metadata": {
        "id": "view-in-github",
        "colab_type": "text"
      },
      "source": [
        "<a href=\"https://colab.research.google.com/github/Wycology/deep_learning_course/blob/main/2_Tensors.ipynb\" target=\"_parent\"><img src=\"https://colab.research.google.com/assets/colab-badge.svg\" alt=\"Open In Colab\"/></a>"
      ]
    },
    {
      "cell_type": "markdown",
      "source": [
        "# **SATELLITE DATA FOR AGRICULTURAL ECONOMISTS**\n",
        "\n",
        "\n",
        "**THEORY AND PRACTICE**\n",
        "\n",
        "**_MACHINE & DEEP LEARNING_**\n",
        "\n",
        "\n",
        "*David Wuepper, Hadi Hadi, Wyclife Agumba Oluoch*\n",
        "\n",
        "---\n",
        "\n",
        "# **Background**\n",
        "\n",
        "\n",
        "---"
      ],
      "metadata": {
        "id": "l-_SHva1E7Ub"
      }
    },
    {
      "cell_type": "markdown",
      "source": [
        "Tensor, by definition, is the fundamental data structure used to store and manipulate data. Understanding tensor is paramount to understanding how pytorch implements advanced functions for deep learning. At both preprocessing of input and postprocessing of output, you will be dealing with tensors in most cases. It is therefore important to understand what tensors are and operations on them. If you know Numpy then you are almost 100% good to take on tensors. Let us see how to create some tensors."
      ],
      "metadata": {
        "id": "q_n-jfsOFEgg"
      }
    },
    {
      "cell_type": "markdown",
      "source": [
        "For us to have tensor, we need to load pytorch library first."
      ],
      "metadata": {
        "id": "dqjCB7rHH5AG"
      }
    },
    {
      "cell_type": "code",
      "execution_count": 1,
      "metadata": {
        "id": "LFUBMYynEhF4"
      },
      "outputs": [],
      "source": [
        "import torch # Of course we need to have the pytorch"
      ]
    },
    {
      "cell_type": "markdown",
      "source": [
        "We start with a simple tensor with just one digit."
      ],
      "metadata": {
        "id": "5DFWWLpdH3qf"
      }
    },
    {
      "cell_type": "code",
      "source": [
        "x = torch.tensor(2) # Creates a tensor containing value 2.\n",
        "x"
      ],
      "metadata": {
        "colab": {
          "base_uri": "https://localhost:8080/"
        },
        "id": "EAed40fgHLUu",
        "outputId": "ca35c434-c5b0-48b9-9fe5-212ff33635f4"
      },
      "execution_count": 3,
      "outputs": [
        {
          "output_type": "execute_result",
          "data": {
            "text/plain": [
              "tensor(2)"
            ]
          },
          "metadata": {},
          "execution_count": 3
        }
      ]
    },
    {
      "cell_type": "markdown",
      "source": [
        "We can also create a tensor from a list of numbers as follows."
      ],
      "metadata": {
        "id": "CfLmZki9IX6R"
      }
    },
    {
      "cell_type": "code",
      "source": [
        "x = torch.tensor([1, 2, 3]) # Creates a tensor containing the values 1, 2, and 3 in the list.\n",
        "x"
      ],
      "metadata": {
        "colab": {
          "base_uri": "https://localhost:8080/"
        },
        "id": "dNx4SO-mHdU9",
        "outputId": "f53d970b-01ff-4d87-a8cd-7cee52fbb04a"
      },
      "execution_count": 5,
      "outputs": [
        {
          "output_type": "execute_result",
          "data": {
            "text/plain": [
              "tensor([1, 2, 3])"
            ]
          },
          "metadata": {},
          "execution_count": 5
        }
      ]
    },
    {
      "cell_type": "markdown",
      "source": [
        "We can have tensor for list within list."
      ],
      "metadata": {
        "id": "7b2mz932IcX6"
      }
    },
    {
      "cell_type": "code",
      "source": [
        "x = torch.tensor([[1, 2, 3], [4, 5, 6]]) # Creates a 2 x 3 tensor.\n",
        "x"
      ],
      "metadata": {
        "colab": {
          "base_uri": "https://localhost:8080/"
        },
        "id": "iC7Od0KWHpcG",
        "outputId": "6d5f1211-8cf4-490f-aeea-a046a7cd0592"
      },
      "execution_count": 6,
      "outputs": [
        {
          "output_type": "execute_result",
          "data": {
            "text/plain": [
              "tensor([[1, 2, 3],\n",
              "        [4, 5, 6]])"
            ]
          },
          "metadata": {},
          "execution_count": 6
        }
      ]
    },
    {
      "cell_type": "markdown",
      "source": [
        "We can also perform simple operation with tensor like addition."
      ],
      "metadata": {
        "id": "GdyvIIaAI6cq"
      }
    },
    {
      "cell_type": "code",
      "source": [
        "x = torch.tensor([[1, 2, 3], [4, 5, 6]])\n",
        "y = torch.tensor([[7, 8, 9], [10, 11, 12]])\n",
        "z = x + y\n",
        "print(z)"
      ],
      "metadata": {
        "colab": {
          "base_uri": "https://localhost:8080/"
        },
        "id": "31JuTDorI5p4",
        "outputId": "7ca2747d-e5cf-4677-b952-26e5ad78f57f"
      },
      "execution_count": 7,
      "outputs": [
        {
          "output_type": "stream",
          "name": "stdout",
          "text": [
            "tensor([[ 8, 10, 12],\n",
            "        [14, 16, 18]])\n"
          ]
        }
      ]
    },
    {
      "cell_type": "markdown",
      "source": [
        "We may be interested in knowing the shape of the tensor."
      ],
      "metadata": {
        "id": "Gqqn1h9GJR6A"
      }
    },
    {
      "cell_type": "code",
      "source": [
        "print(z.shape)"
      ],
      "metadata": {
        "colab": {
          "base_uri": "https://localhost:8080/"
        },
        "id": "D7n9EIV5JXXB",
        "outputId": "e8c265dc-3aa0-4089-a944-c71817532d6f"
      },
      "execution_count": 8,
      "outputs": [
        {
          "output_type": "stream",
          "name": "stdout",
          "text": [
            "torch.Size([2, 3])\n"
          ]
        }
      ]
    },
    {
      "cell_type": "markdown",
      "source": [
        "## **Creating tensor**"
      ],
      "metadata": {
        "id": "skMjRQ6nLqmI"
      }
    },
    {
      "cell_type": "markdown",
      "source": [
        "`torch.tensor` is the basic way to create the tensor data structure. However, there are many ways to achieve this as follows:"
      ],
      "metadata": {
        "id": "znpiA-keMwug"
      }
    },
    {
      "cell_type": "code",
      "source": [
        "import numpy # We are importing this because we will create some tensors from numpy"
      ],
      "metadata": {
        "id": "FCtNeBEwLrM1"
      },
      "execution_count": 9,
      "outputs": []
    },
    {
      "cell_type": "code",
      "source": [
        "# Create from preexisting arrays\n",
        "x = torch.tensor([1, 2, 3]) # Creating from a list\n",
        "print(x)\n"
      ],
      "metadata": {
        "colab": {
          "base_uri": "https://localhost:8080/"
        },
        "id": "OWCEOX6CNH8t",
        "outputId": "5e591126-dbfb-4845-abe9-2f767f284c55"
      },
      "execution_count": 12,
      "outputs": [
        {
          "output_type": "stream",
          "name": "stdout",
          "text": [
            "tensor([1, 2, 3])\n"
          ]
        }
      ]
    },
    {
      "cell_type": "code",
      "source": [
        "x = torch.tensor((1, 2, 3)) # Creating from a tuple\n",
        "print(x)"
      ],
      "metadata": {
        "colab": {
          "base_uri": "https://localhost:8080/"
        },
        "id": "-vI1mHy1NkYG",
        "outputId": "b2d57350-4375-4ac1-cc75-2c9782b17445"
      },
      "execution_count": 13,
      "outputs": [
        {
          "output_type": "stream",
          "name": "stdout",
          "text": [
            "tensor([1, 2, 3])\n"
          ]
        }
      ]
    },
    {
      "cell_type": "code",
      "source": [
        "x = torch.tensor(numpy.array([1, 2, 3])) # Creating from numpy array\n",
        "print(x)"
      ],
      "metadata": {
        "colab": {
          "base_uri": "https://localhost:8080/"
        },
        "id": "Ft-7-_9GNxJQ",
        "outputId": "2b0c316d-6c3f-4cea-bbb6-1bab9996d518"
      },
      "execution_count": 14,
      "outputs": [
        {
          "output_type": "stream",
          "name": "stdout",
          "text": [
            "tensor([1, 2, 3])\n"
          ]
        }
      ]
    },
    {
      "cell_type": "markdown",
      "source": [
        "Other than tensors that we specifically indicate the values it should hold, we can also create tensors in which we only specify their dimensions/rank."
      ],
      "metadata": {
        "id": "3qkKls5uN2rV"
      }
    },
    {
      "cell_type": "code",
      "source": [
        "w = torch.empty(2, 3) # Uninitialized, no one can predict the initial values\n",
        "w"
      ],
      "metadata": {
        "colab": {
          "base_uri": "https://localhost:8080/"
        },
        "id": "8N97sZYFNxyH",
        "outputId": "f57bfa3c-9ad2-47ab-e53d-07d4b6fb2174"
      },
      "execution_count": 16,
      "outputs": [
        {
          "output_type": "execute_result",
          "data": {
            "text/plain": [
              "tensor([[0.0000e+00, 4.3288e-41, 7.7052e+31],\n",
              "        [7.2148e+22, 1.5766e-19, 1.0256e-08]])"
            ]
          },
          "metadata": {},
          "execution_count": 16
        }
      ]
    },
    {
      "cell_type": "code",
      "source": [
        "w = torch.zeros(2, 3) # All elements in the tensor initialized by 0.0\n",
        "w"
      ],
      "metadata": {
        "colab": {
          "base_uri": "https://localhost:8080/"
        },
        "id": "jrK9diFTOQ74",
        "outputId": "024ba145-ecc1-4676-b765-1b30cfd9be7f"
      },
      "execution_count": 18,
      "outputs": [
        {
          "output_type": "execute_result",
          "data": {
            "text/plain": [
              "tensor([[0., 0., 0.],\n",
              "        [0., 0., 0.]])"
            ]
          },
          "metadata": {},
          "execution_count": 18
        }
      ]
    },
    {
      "cell_type": "code",
      "source": [
        "w = torch.ones(2, 3) # All elements initialized by 1.0\n",
        "w"
      ],
      "metadata": {
        "colab": {
          "base_uri": "https://localhost:8080/"
        },
        "id": "tkS7fGsqOVyx",
        "outputId": "6b925321-131e-4998-e2be-ba67153d614d"
      },
      "execution_count": 19,
      "outputs": [
        {
          "output_type": "execute_result",
          "data": {
            "text/plain": [
              "tensor([[1., 1., 1.],\n",
              "        [1., 1., 1.]])"
            ]
          },
          "metadata": {},
          "execution_count": 19
        }
      ]
    },
    {
      "cell_type": "markdown",
      "source": [
        "Sometimes we may want to initialize a tensor with random numbers. There are functions that can help us with such tasks as follows:"
      ],
      "metadata": {
        "id": "reTZ7fK1PFwD"
      }
    },
    {
      "cell_type": "code",
      "source": [
        "y = torch.rand(4, 5) # Creates a 4 x 5 tensor with elements from uniform distribution on the interval (0, 1)\n",
        "y"
      ],
      "metadata": {
        "colab": {
          "base_uri": "https://localhost:8080/"
        },
        "id": "Q5IBasbIPQYI",
        "outputId": "460a28c4-681b-4c7b-95fe-802b3e2780bb"
      },
      "execution_count": 33,
      "outputs": [
        {
          "output_type": "execute_result",
          "data": {
            "text/plain": [
              "tensor([[0.1717, 0.5258, 0.3618, 0.7427, 0.2994],\n",
              "        [0.9323, 0.5637, 0.8811, 0.5929, 0.9866],\n",
              "        [0.0910, 0.6652, 0.2984, 0.3618, 0.5628],\n",
              "        [0.6690, 0.6747, 0.9818, 0.0238, 0.3912]])"
            ]
          },
          "metadata": {},
          "execution_count": 33
        }
      ]
    },
    {
      "cell_type": "code",
      "source": [
        "y = torch.randn(4, 5)\n",
        "y"
      ],
      "metadata": {
        "colab": {
          "base_uri": "https://localhost:8080/"
        },
        "id": "lpJq7IkPPdoD",
        "outputId": "f5c41e31-cbb9-42f8-d47f-bff16e07c9e1"
      },
      "execution_count": 21,
      "outputs": [
        {
          "output_type": "execute_result",
          "data": {
            "text/plain": [
              "tensor([[ 1.3488, -1.4248, -1.7881, -2.6139, -0.4134],\n",
              "        [-1.0375, -0.2330, -0.2311, -0.2198,  1.3322],\n",
              "        [-0.5642,  2.1297,  0.3767,  1.9260,  0.0082],\n",
              "        [ 0.3363,  0.3728, -0.5024, -0.7766, -1.7537]])"
            ]
          },
          "metadata": {},
          "execution_count": 21
        }
      ]
    },
    {
      "cell_type": "code",
      "source": [
        "y = torch.randint(0, 9, (2, 3))\n",
        "y"
      ],
      "metadata": {
        "colab": {
          "base_uri": "https://localhost:8080/"
        },
        "id": "L4AAGSdkPjV6",
        "outputId": "711bb597-1575-4bf2-bb24-cc0f9b4a96d9"
      },
      "execution_count": 26,
      "outputs": [
        {
          "output_type": "execute_result",
          "data": {
            "text/plain": [
              "tensor([[1, 8, 0],\n",
              "        [6, 5, 6]])"
            ]
          },
          "metadata": {},
          "execution_count": 26
        }
      ]
    }
  ]
}