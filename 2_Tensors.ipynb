{
  "nbformat": 4,
  "nbformat_minor": 0,
  "metadata": {
    "colab": {
      "provenance": [],
      "authorship_tag": "ABX9TyNhaOPB4mdhN/Qng1QHCD95",
      "include_colab_link": true
    },
    "kernelspec": {
      "name": "python3",
      "display_name": "Python 3"
    },
    "language_info": {
      "name": "python"
    }
  },
  "cells": [
    {
      "cell_type": "markdown",
      "metadata": {
        "id": "view-in-github",
        "colab_type": "text"
      },
      "source": [
        "<a href=\"https://colab.research.google.com/github/Wycology/deep_learning_course/blob/main/2_Tensors.ipynb\" target=\"_parent\"><img src=\"https://colab.research.google.com/assets/colab-badge.svg\" alt=\"Open In Colab\"/></a>"
      ]
    },
    {
      "cell_type": "markdown",
      "source": [
        "# **SATELLITE DATA FOR AGRICULTURAL ECONOMISTS**\n",
        "\n",
        "\n",
        "**THEORY AND PRACTICE**\n",
        "\n",
        "**_MACHINE & DEEP LEARNING_**\n",
        "\n",
        "\n",
        "*David Wuepper, Hadi Hadi, Wyclife Agumba Oluoch*\n",
        "\n",
        "---\n",
        "\n",
        "# **Background**\n",
        "\n",
        "\n",
        "---"
      ],
      "metadata": {
        "id": "l-_SHva1E7Ub"
      }
    },
    {
      "cell_type": "markdown",
      "source": [
        "Tensor, by definition, is the fundamental data structure used to store and manipulate data. Understanding tensor is paramount to understanding how pytorch implements advanced functions for deep learning. At both preprocessing of input and postprocessing of output, you will be dealing with tensors in most cases. It is therefore important to understand what tensors are and operations on them. If you know Numpy then you are almost 100% good to take on tensors. Let us see how to create some tensors."
      ],
      "metadata": {
        "id": "q_n-jfsOFEgg"
      }
    },
    {
      "cell_type": "markdown",
      "source": [
        "For us to have tensor, we need to load pytorch library first."
      ],
      "metadata": {
        "id": "dqjCB7rHH5AG"
      }
    },
    {
      "cell_type": "code",
      "execution_count": null,
      "metadata": {
        "id": "LFUBMYynEhF4"
      },
      "outputs": [],
      "source": [
        "import torch # Of course we need to have the pytorch"
      ]
    },
    {
      "cell_type": "markdown",
      "source": [
        "We start with a simple tensor with just one digit."
      ],
      "metadata": {
        "id": "5DFWWLpdH3qf"
      }
    },
    {
      "cell_type": "code",
      "source": [
        "x = torch.tensor(2) # Creates a tensor containing value 2.\n",
        "x"
      ],
      "metadata": {
        "colab": {
          "base_uri": "https://localhost:8080/"
        },
        "id": "EAed40fgHLUu",
        "outputId": "ca35c434-c5b0-48b9-9fe5-212ff33635f4"
      },
      "execution_count": null,
      "outputs": [
        {
          "output_type": "execute_result",
          "data": {
            "text/plain": [
              "tensor(2)"
            ]
          },
          "metadata": {},
          "execution_count": 3
        }
      ]
    },
    {
      "cell_type": "markdown",
      "source": [
        "We can also create a tensor from a list of numbers as follows."
      ],
      "metadata": {
        "id": "CfLmZki9IX6R"
      }
    },
    {
      "cell_type": "code",
      "source": [
        "x = torch.tensor([1, 2, 3]) # Creates a tensor containing the values 1, 2, and 3 in the list.\n",
        "x"
      ],
      "metadata": {
        "colab": {
          "base_uri": "https://localhost:8080/"
        },
        "id": "dNx4SO-mHdU9",
        "outputId": "f53d970b-01ff-4d87-a8cd-7cee52fbb04a"
      },
      "execution_count": null,
      "outputs": [
        {
          "output_type": "execute_result",
          "data": {
            "text/plain": [
              "tensor([1, 2, 3])"
            ]
          },
          "metadata": {},
          "execution_count": 5
        }
      ]
    },
    {
      "cell_type": "markdown",
      "source": [
        "We can have tensor for list within list."
      ],
      "metadata": {
        "id": "7b2mz932IcX6"
      }
    },
    {
      "cell_type": "code",
      "source": [
        "x = torch.tensor([[1, 2, 3], [4, 5, 6]]) # Creates a 2 x 3 tensor.\n",
        "x"
      ],
      "metadata": {
        "colab": {
          "base_uri": "https://localhost:8080/"
        },
        "id": "iC7Od0KWHpcG",
        "outputId": "6d5f1211-8cf4-490f-aeea-a046a7cd0592"
      },
      "execution_count": null,
      "outputs": [
        {
          "output_type": "execute_result",
          "data": {
            "text/plain": [
              "tensor([[1, 2, 3],\n",
              "        [4, 5, 6]])"
            ]
          },
          "metadata": {},
          "execution_count": 6
        }
      ]
    },
    {
      "cell_type": "markdown",
      "source": [
        "We can also perform simple operation with tensor like addition."
      ],
      "metadata": {
        "id": "GdyvIIaAI6cq"
      }
    },
    {
      "cell_type": "code",
      "source": [
        "x = torch.tensor([[1, 2, 3], [4, 5, 6]])\n",
        "y = torch.tensor([[7, 8, 9], [10, 11, 12]])\n",
        "z = x + y\n",
        "print(z)"
      ],
      "metadata": {
        "colab": {
          "base_uri": "https://localhost:8080/"
        },
        "id": "31JuTDorI5p4",
        "outputId": "7ca2747d-e5cf-4677-b952-26e5ad78f57f"
      },
      "execution_count": null,
      "outputs": [
        {
          "output_type": "stream",
          "name": "stdout",
          "text": [
            "tensor([[ 8, 10, 12],\n",
            "        [14, 16, 18]])\n"
          ]
        }
      ]
    },
    {
      "cell_type": "markdown",
      "source": [
        "We may be interested in knowing the shape of the tensor."
      ],
      "metadata": {
        "id": "Gqqn1h9GJR6A"
      }
    },
    {
      "cell_type": "code",
      "source": [
        "print(z.shape)"
      ],
      "metadata": {
        "colab": {
          "base_uri": "https://localhost:8080/"
        },
        "id": "D7n9EIV5JXXB",
        "outputId": "e8c265dc-3aa0-4089-a944-c71817532d6f"
      },
      "execution_count": null,
      "outputs": [
        {
          "output_type": "stream",
          "name": "stdout",
          "text": [
            "torch.Size([2, 3])\n"
          ]
        }
      ]
    },
    {
      "cell_type": "markdown",
      "source": [
        "## **Creating tensor**"
      ],
      "metadata": {
        "id": "skMjRQ6nLqmI"
      }
    },
    {
      "cell_type": "markdown",
      "source": [
        "`torch.tensor` is the basic way to create the tensor data structure. However, there are many ways to achieve this as follows:"
      ],
      "metadata": {
        "id": "znpiA-keMwug"
      }
    },
    {
      "cell_type": "code",
      "source": [
        "import numpy # We are importing this because we will create some tensors from numpy"
      ],
      "metadata": {
        "id": "FCtNeBEwLrM1"
      },
      "execution_count": null,
      "outputs": []
    },
    {
      "cell_type": "code",
      "source": [
        "# Create from preexisting arrays\n",
        "x = torch.tensor([1, 2, 3]) # Creating from a list\n",
        "print(x)\n"
      ],
      "metadata": {
        "colab": {
          "base_uri": "https://localhost:8080/"
        },
        "id": "OWCEOX6CNH8t",
        "outputId": "5e591126-dbfb-4845-abe9-2f767f284c55"
      },
      "execution_count": null,
      "outputs": [
        {
          "output_type": "stream",
          "name": "stdout",
          "text": [
            "tensor([1, 2, 3])\n"
          ]
        }
      ]
    },
    {
      "cell_type": "code",
      "source": [
        "x = torch.tensor((1, 2, 3)) # Creating from a tuple\n",
        "print(x)"
      ],
      "metadata": {
        "colab": {
          "base_uri": "https://localhost:8080/"
        },
        "id": "-vI1mHy1NkYG",
        "outputId": "b2d57350-4375-4ac1-cc75-2c9782b17445"
      },
      "execution_count": null,
      "outputs": [
        {
          "output_type": "stream",
          "name": "stdout",
          "text": [
            "tensor([1, 2, 3])\n"
          ]
        }
      ]
    },
    {
      "cell_type": "code",
      "source": [
        "x = torch.tensor(numpy.array([1, 2, 3])) # Creating from numpy array\n",
        "print(x)"
      ],
      "metadata": {
        "colab": {
          "base_uri": "https://localhost:8080/"
        },
        "id": "Ft-7-_9GNxJQ",
        "outputId": "2b0c316d-6c3f-4cea-bbb6-1bab9996d518"
      },
      "execution_count": null,
      "outputs": [
        {
          "output_type": "stream",
          "name": "stdout",
          "text": [
            "tensor([1, 2, 3])\n"
          ]
        }
      ]
    },
    {
      "cell_type": "markdown",
      "source": [
        "Other than tensors that we specifically indicate the values it should hold, we can also create tensors in which we only specify their dimensions/rank."
      ],
      "metadata": {
        "id": "3qkKls5uN2rV"
      }
    },
    {
      "cell_type": "code",
      "source": [
        "w = torch.empty(2, 3) # Uninitialized, no one can predict the initial values\n",
        "w"
      ],
      "metadata": {
        "colab": {
          "base_uri": "https://localhost:8080/"
        },
        "id": "8N97sZYFNxyH",
        "outputId": "f57bfa3c-9ad2-47ab-e53d-07d4b6fb2174"
      },
      "execution_count": null,
      "outputs": [
        {
          "output_type": "execute_result",
          "data": {
            "text/plain": [
              "tensor([[0.0000e+00, 4.3288e-41, 7.7052e+31],\n",
              "        [7.2148e+22, 1.5766e-19, 1.0256e-08]])"
            ]
          },
          "metadata": {},
          "execution_count": 16
        }
      ]
    },
    {
      "cell_type": "code",
      "source": [
        "w = torch.zeros(2, 3) # All elements in the tensor initialized by 0.0\n",
        "w"
      ],
      "metadata": {
        "colab": {
          "base_uri": "https://localhost:8080/"
        },
        "id": "jrK9diFTOQ74",
        "outputId": "024ba145-ecc1-4676-b765-1b30cfd9be7f"
      },
      "execution_count": null,
      "outputs": [
        {
          "output_type": "execute_result",
          "data": {
            "text/plain": [
              "tensor([[0., 0., 0.],\n",
              "        [0., 0., 0.]])"
            ]
          },
          "metadata": {},
          "execution_count": 18
        }
      ]
    },
    {
      "cell_type": "code",
      "source": [
        "w = torch.ones(2, 3) # All elements initialized by 1.0\n",
        "w"
      ],
      "metadata": {
        "colab": {
          "base_uri": "https://localhost:8080/"
        },
        "id": "tkS7fGsqOVyx",
        "outputId": "6b925321-131e-4998-e2be-ba67153d614d"
      },
      "execution_count": null,
      "outputs": [
        {
          "output_type": "execute_result",
          "data": {
            "text/plain": [
              "tensor([[1., 1., 1.],\n",
              "        [1., 1., 1.]])"
            ]
          },
          "metadata": {},
          "execution_count": 19
        }
      ]
    },
    {
      "cell_type": "markdown",
      "source": [
        "Sometimes we may want to initialize a tensor with random numbers. There are functions that can help us with such tasks as follows:"
      ],
      "metadata": {
        "id": "reTZ7fK1PFwD"
      }
    },
    {
      "cell_type": "code",
      "source": [
        "y = torch.rand(4, 5) # Creates a 4 x 5 tensor with elements from uniform distribution on the interval (0, 1)\n",
        "y"
      ],
      "metadata": {
        "colab": {
          "base_uri": "https://localhost:8080/"
        },
        "id": "Q5IBasbIPQYI",
        "outputId": "460a28c4-681b-4c7b-95fe-802b3e2780bb"
      },
      "execution_count": null,
      "outputs": [
        {
          "output_type": "execute_result",
          "data": {
            "text/plain": [
              "tensor([[0.1717, 0.5258, 0.3618, 0.7427, 0.2994],\n",
              "        [0.9323, 0.5637, 0.8811, 0.5929, 0.9866],\n",
              "        [0.0910, 0.6652, 0.2984, 0.3618, 0.5628],\n",
              "        [0.6690, 0.6747, 0.9818, 0.0238, 0.3912]])"
            ]
          },
          "metadata": {},
          "execution_count": 33
        }
      ]
    },
    {
      "cell_type": "code",
      "source": [
        "y = torch.randn(4, 5) # Creates a 4 x 5 tensor with elements from normal distribution with mean 0 and variance of 1.\n",
        "y"
      ],
      "metadata": {
        "colab": {
          "base_uri": "https://localhost:8080/"
        },
        "id": "lpJq7IkPPdoD",
        "outputId": "f5c41e31-cbb9-42f8-d47f-bff16e07c9e1"
      },
      "execution_count": null,
      "outputs": [
        {
          "output_type": "execute_result",
          "data": {
            "text/plain": [
              "tensor([[ 1.3488, -1.4248, -1.7881, -2.6139, -0.4134],\n",
              "        [-1.0375, -0.2330, -0.2311, -0.2198,  1.3322],\n",
              "        [-0.5642,  2.1297,  0.3767,  1.9260,  0.0082],\n",
              "        [ 0.3363,  0.3728, -0.5024, -0.7766, -1.7537]])"
            ]
          },
          "metadata": {},
          "execution_count": 21
        }
      ]
    },
    {
      "cell_type": "code",
      "source": [
        "y = torch.randint(-5, 5, (2, 3)) # Creates a 2 x 3 tensor with elements drawn between 0 and 9\n",
        "y"
      ],
      "metadata": {
        "colab": {
          "base_uri": "https://localhost:8080/"
        },
        "id": "L4AAGSdkPjV6",
        "outputId": "93df00ef-02bd-4e0d-e6b7-4cc7efe0e8e4"
      },
      "execution_count": null,
      "outputs": [
        {
          "output_type": "execute_result",
          "data": {
            "text/plain": [
              "tensor([[ 1,  0,  2],\n",
              "        [ 4, -1,  4]])"
            ]
          },
          "metadata": {},
          "execution_count": 50
        }
      ]
    },
    {
      "cell_type": "markdown",
      "source": [
        "### **Data type and device**\n",
        "\n",
        "Upon creating the tensors, it is possible and sometimes a good practice to assign them data type and device. This can be achieved as follows:"
      ],
      "metadata": {
        "id": "sf8NYBRrRN0E"
      }
    },
    {
      "cell_type": "code",
      "source": [
        "m = torch.rand((2, 3), dtype = torch.float32, device = 'cpu')\n",
        "print(f\"The tensor is of data type: {m.dtype} and on {m.device} device.\")"
      ],
      "metadata": {
        "colab": {
          "base_uri": "https://localhost:8080/"
        },
        "id": "8KXHVClKRg3X",
        "outputId": "06a96eb5-2f0b-42e6-c556-06262e758263"
      },
      "execution_count": null,
      "outputs": [
        {
          "output_type": "stream",
          "name": "stdout",
          "text": [
            "The tensor is of data type: torch.float32 and on cpu device.\n"
          ]
        }
      ]
    },
    {
      "cell_type": "markdown",
      "source": [
        "### **Tensor attributes**\n",
        "\n",
        "After creating a tensor, we can see some information about it using its attributes. Some of the attributes include size, data type, ndim etc:"
      ],
      "metadata": {
        "id": "zEU65ki1WR6K"
      }
    },
    {
      "cell_type": "code",
      "source": [
        "m = torch.rand(5, 6)\n",
        "m.dtype # This tells us that it is float32"
      ],
      "metadata": {
        "colab": {
          "base_uri": "https://localhost:8080/"
        },
        "id": "5zbsbvdmSBt4",
        "outputId": "7a181c84-ba5c-435e-ba98-77bc57f982a4"
      },
      "execution_count": null,
      "outputs": [
        {
          "output_type": "execute_result",
          "data": {
            "text/plain": [
              "torch.float32"
            ]
          },
          "metadata": {},
          "execution_count": 63
        }
      ]
    },
    {
      "cell_type": "code",
      "source": [
        "m.device # This returns device on which the tensor is located. In this case cpu."
      ],
      "metadata": {
        "colab": {
          "base_uri": "https://localhost:8080/"
        },
        "id": "dU7gfbCLWyAd",
        "outputId": "a081d6cc-d526-44a0-ff94-0cc7b903e54b"
      },
      "execution_count": null,
      "outputs": [
        {
          "output_type": "execute_result",
          "data": {
            "text/plain": [
              "device(type='cpu')"
            ]
          },
          "metadata": {},
          "execution_count": 65
        }
      ]
    },
    {
      "cell_type": "code",
      "source": [
        "m.shape # Tells us the rank or dimension of the tensor. Here it is 5 x 6."
      ],
      "metadata": {
        "colab": {
          "base_uri": "https://localhost:8080/"
        },
        "id": "Gsb9xTjBW0jn",
        "outputId": "4514445a-43a3-4b02-a429-2858fec87030"
      },
      "execution_count": null,
      "outputs": [
        {
          "output_type": "execute_result",
          "data": {
            "text/plain": [
              "torch.Size([5, 6])"
            ]
          },
          "metadata": {},
          "execution_count": 67
        }
      ]
    },
    {
      "cell_type": "code",
      "source": [
        "m.ndim # Tells us it has 2 dimensions."
      ],
      "metadata": {
        "colab": {
          "base_uri": "https://localhost:8080/"
        },
        "id": "01OKaAvIW8cw",
        "outputId": "c3db08a9-6d3f-411e-94de-0d49e211de6b"
      },
      "execution_count": null,
      "outputs": [
        {
          "output_type": "execute_result",
          "data": {
            "text/plain": [
              "2"
            ]
          },
          "metadata": {},
          "execution_count": 68
        }
      ]
    },
    {
      "cell_type": "markdown",
      "source": [
        "There are additional attributes like:\n",
        "\n",
        "\n",
        "*   `requires_grad`\n",
        "*   `grad`\n",
        "*   `grad_fn`\n",
        "*   `s_cuda`\n",
        "*   `is_sparse`\n",
        "*   `is_quantized`\n",
        "*   `is_leaf`\n",
        "*  `is_mkldnn`\n",
        "\n",
        "Well no need to dig them now.\n",
        "\n"
      ],
      "metadata": {
        "id": "yIWKFgrhXVVQ"
      }
    },
    {
      "cell_type": "markdown",
      "source": [
        "### **Create tensor like other tensor**\n",
        "\n",
        "You may have one tensor and want to create another one like it. This is normally achieved with the `_like` suffix. For example, empty_like, ones_like, rand_like."
      ],
      "metadata": {
        "id": "m0yUmTWOYjr4"
      }
    },
    {
      "cell_type": "code",
      "source": [
        "n = torch.rand(2, 3)\n",
        "p = torch.rand_like(n)\n",
        "\n",
        "print(f\"The original \\n {n} \\n and its like \\n {p}.\")\n"
      ],
      "metadata": {
        "colab": {
          "base_uri": "https://localhost:8080/"
        },
        "id": "3PM_uuTYXPLq",
        "outputId": "95837797-4f3f-40cd-d743-aa52eacd5d8f"
      },
      "execution_count": null,
      "outputs": [
        {
          "output_type": "stream",
          "name": "stdout",
          "text": [
            "The original \n",
            " tensor([[0.0654, 0.3856, 0.6090],\n",
            "        [0.0187, 0.6504, 0.5025]]) \n",
            " and its like \n",
            " tensor([[0.1456, 0.6283, 0.3885],\n",
            "        [0.6660, 0.3315, 0.8858]]).\n"
          ]
        }
      ]
    },
    {
      "cell_type": "markdown",
      "source": [
        "The aspect of _like here gives the new tensor same shape, dtype and ndim. That is structurally similar but not necessarily elementwise. That is, the elements will be different."
      ],
      "metadata": {
        "id": "oBbEokEGaOZG"
      }
    },
    {
      "cell_type": "markdown",
      "source": [
        "## **Tensor Operations**\n",
        "Well our task is not only to create tensors, but to work with them. So, in this part, we will cover some of the tensor operations, in fact we did them earlier when we were using transforms from `torchvision`. Some of the operations we will do here include slicing portions of the data, combining tensors, spliting tensors and both simple and advanced operations on them."
      ],
      "metadata": {
        "id": "Tq3gIaSja5NP"
      }
    },
    {
      "cell_type": "markdown",
      "source": [
        "### **Indexing tensors**\n",
        "\n",
        "We can index tensors by using [ ]. Just like with numpy arrays. In this example, we create a tensor then extract the element in the second row and second column."
      ],
      "metadata": {
        "id": "KeyDuc6Ubxhn"
      }
    },
    {
      "cell_type": "code",
      "source": [
        "x = torch.tensor([[1, 2], [3, 4], [5, 6], [7, 8]])\n",
        "print(x)"
      ],
      "metadata": {
        "colab": {
          "base_uri": "https://localhost:8080/"
        },
        "id": "uZRYGEgBadJ4",
        "outputId": "07bedeea-f0de-48d6-cde8-cff54da79ad8"
      },
      "execution_count": null,
      "outputs": [
        {
          "output_type": "stream",
          "name": "stdout",
          "text": [
            "tensor([[1, 2],\n",
            "        [3, 4],\n",
            "        [5, 6],\n",
            "        [7, 8]])\n"
          ]
        }
      ]
    },
    {
      "cell_type": "markdown",
      "source": [
        "Now to index number 4:"
      ],
      "metadata": {
        "id": "I5kzvlfNcUtP"
      }
    },
    {
      "cell_type": "code",
      "source": [
        "print(x[1, 1].item())"
      ],
      "metadata": {
        "colab": {
          "base_uri": "https://localhost:8080/"
        },
        "id": "xEopjE89cZWi",
        "outputId": "d20d0052-e99e-40a8-dd77-aaf898246250"
      },
      "execution_count": null,
      "outputs": [
        {
          "output_type": "stream",
          "name": "stdout",
          "text": [
            "4\n"
          ]
        }
      ]
    },
    {
      "cell_type": "markdown",
      "source": [
        "To index number 7:"
      ],
      "metadata": {
        "id": "2CaT9Pyzcwq2"
      }
    },
    {
      "cell_type": "code",
      "source": [
        "print(x[3, 0].item())"
      ],
      "metadata": {
        "colab": {
          "base_uri": "https://localhost:8080/"
        },
        "id": "WIy6jggyccek",
        "outputId": "69d25fa8-7b6e-4082-bd77-fbb484c3502e"
      },
      "execution_count": null,
      "outputs": [
        {
          "output_type": "stream",
          "name": "stdout",
          "text": [
            "7\n"
          ]
        }
      ]
    },
    {
      "cell_type": "code",
      "source": [],
      "metadata": {
        "id": "gDGQTtWtc4Ws"
      },
      "execution_count": null,
      "outputs": []
    }
  ]
}